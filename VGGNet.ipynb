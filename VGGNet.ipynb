{
  "nbformat": 4,
  "nbformat_minor": 0,
  "metadata": {
    "colab": {
      "name": "VGGNet.ipynb",
      "provenance": [],
      "authorship_tag": "ABX9TyO3PWnlJ0/ioQfyQVnb7rnl",
      "include_colab_link": true
    },
    "kernelspec": {
      "name": "python3",
      "display_name": "Python 3"
    },
    "language_info": {
      "name": "python"
    },
    "accelerator": "GPU"
  },
  "cells": [
    {
      "cell_type": "markdown",
      "metadata": {
        "id": "view-in-github",
        "colab_type": "text"
      },
      "source": [
        "<a href=\"https://colab.research.google.com/github/Andres8bit/Machine-Learning/blob/main/VGGNet.ipynb\" target=\"_parent\"><img src=\"https://colab.research.google.com/assets/colab-badge.svg\" alt=\"Open In Colab\"/></a>"
      ]
    },
    {
      "cell_type": "code",
      "metadata": {
        "id": "wNpmY30jLeEF"
      },
      "source": [
        "import keras\n",
        "from keras.models import Sequential\n",
        "from keras.layers import Conv2D, AveragePooling2D, Flatten, Dense, Activation, MaxPool2D, BatchNormalization, Dropout, ZeroPadding2D\n",
        "from keras.datasets import cifar10\n",
        "from keras.callbacks import ModelCheckpoint\n",
        "from keras import regularizers, optimizers\n",
        "import numpy as np\n",
        "from keras.utils import np_utils\n",
        "from keras.preprocessing.image import ImageDataGenerator\n",
        "import matplotlib.pyplot as plt\n",
        "%matplotlib inline"
      ],
      "execution_count": 22,
      "outputs": []
    },
    {
      "cell_type": "code",
      "metadata": {
        "id": "WvxJ57zFXmBw"
      },
      "source": [
        "def normalize_images(items):\n",
        "  temp = np.zeros(shape=(items.shape))\n",
        "  mean = np.mean(items,axis=(0,1,2,3))\n",
        "  std = np.std(items,axis=(0,1,2,3))\n",
        "  temp =(items - mean) /(std +1e-7)\n",
        "  return temp"
      ],
      "execution_count": 2,
      "outputs": []
    },
    {
      "cell_type": "code",
      "metadata": {
        "id": "2CqH8XjvXmhu"
      },
      "source": [
        "def display_loss(model):\n",
        "  loss = model.history['loss']\n",
        "  val_loss = model.history['val_loss']\n",
        "\n",
        "  plt.figure()\n",
        "  plt.plot(model.epoch, loss, 'r',label='Training loss')\n",
        "  plt.plot(model.epoch,val_loss,'bo',label='Validation loss')\n",
        "  plt.title('Training and Validation Loss')\n",
        "  plt.xlabel('Epoch')\n",
        "  plt.ylabel('Loss Value')\n",
        "  plt.ylim([0,1])\n",
        "  plt.legend()"
      ],
      "execution_count": 3,
      "outputs": []
    },
    {
      "cell_type": "code",
      "metadata": {
        "id": "BK-cb5vLXoR9"
      },
      "source": [
        "(x_train,y_train), (x_test,y_test) = cifar10.load_data()"
      ],
      "execution_count": 4,
      "outputs": []
    },
    {
      "cell_type": "code",
      "metadata": {
        "id": "xAKt60o5XqfA"
      },
      "source": [
        "x_train = x_train.astype('float32')\n",
        "x_test = x_test.astype('float32')"
      ],
      "execution_count": 5,
      "outputs": []
    },
    {
      "cell_type": "code",
      "metadata": {
        "id": "MDC8U2v0X0eD"
      },
      "source": [
        "(x_train,x_valid) = x_train[5000:],x_train[:5000]\n",
        "(y_train, y_valid) = y_train[5000:],y_train[:5000]"
      ],
      "execution_count": 6,
      "outputs": []
    },
    {
      "cell_type": "code",
      "metadata": {
        "id": "rZ2XOqm8X2bW"
      },
      "source": [
        "# Data Normalization:\n",
        "x_train = normalize_images(x_train)\n",
        "x_valid = normalize_images(x_valid)\n",
        "x_test = normalize_images(x_test)"
      ],
      "execution_count": 7,
      "outputs": []
    },
    {
      "cell_type": "code",
      "metadata": {
        "id": "CDaJ2pF1X4VC"
      },
      "source": [
        "# One-Hot Encocding of lables:\n",
        "y_train = np_utils.to_categorical(y_train,10)\n",
        "y_valid = np_utils.to_categorical(y_valid,10)\n",
        "y_test = np_utils.to_categorical(y_test,10)"
      ],
      "execution_count": 8,
      "outputs": []
    },
    {
      "cell_type": "code",
      "metadata": {
        "id": "aLX4DO2NX7ck"
      },
      "source": [
        "# Data Augmentation:\n",
        "datagen = ImageDataGenerator(\n",
        "    rotation_range=15,\n",
        "    width_shift_range=0.1,\n",
        "    height_shift_range=0.1,\n",
        "    vertical_flip=False\n",
        ")\n",
        "\n",
        "datagen.fit(x_train)"
      ],
      "execution_count": 9,
      "outputs": []
    },
    {
      "cell_type": "code",
      "metadata": {
        "colab": {
          "base_uri": "https://localhost:8080/"
        },
        "id": "BU1z69cAMZl2",
        "outputId": "d444a24b-1df5-4893-8614-de6122653ec6"
      },
      "source": [
        "# VGG16 Architecture:\n",
        "model = Sequential(name='VGG16')\n",
        "\n",
        "# 1st Block :\n",
        "  # 1st Convolutional Layer:\n",
        "model.add(Conv2D(filters=64,kernel_size=(3,3),strides=(1,1),activation='relu',\n",
        "                 padding='same',input_shape=x_train.shape[1:]))\n",
        "  # 2nd Convolutional Layer:\n",
        "model.add(Conv2D(filters=64,kernel_size=(3,3),strides=(1,1),activation='relu',\n",
        "                 padding='same'))\n",
        "  # Max Pooling Layer:\n",
        "model.add(MaxPool2D((2,2),strides=(2,2)))\n",
        "\n",
        "# 2nd Block:\n",
        "  # 1st Convolutional Layer:\n",
        "model.add(Conv2D(filters=128,kernel_size=(3,3),strides=(1,1),activation='relu',\n",
        "                 padding='same'))\n",
        "  # 2nd Convolutional Layer:\n",
        "model.add(Conv2D(filters=128,kernel_size=(3,3),strides=(1,1),activation='relu',\n",
        "                 padding='same'))\n",
        "  # Max Pooling Layer:\n",
        "model.add(MaxPool2D((2,2),strides=(2,2)))\n",
        "\n",
        "# 3rd Block:\n",
        "  # 1st Convolutional Layer:\n",
        "model.add(Conv2D(filters=256,kernel_size=(3,3),strides=(1,1),activation='relu',\n",
        "                 padding='same'))\n",
        "  # 2nd Convolutional Layer:\n",
        "model.add(Conv2D(filters=256,kernel_size=(3,3),strides=(1,1),activation='relu',\n",
        "                 padding='same'))\n",
        "  # 3rd Convolutional Layer:\n",
        "model.add(Conv2D(filters=256,kernel_size=(3,3),strides=(1,1),activation='relu',\n",
        "                 padding='same'))\n",
        "  # Max Pooling Layer:\n",
        "model.add(MaxPool2D((2,2),strides=(2,2)))\n",
        "\n",
        "# 4th Block:\n",
        "  # 1st Convolutional Layer:\n",
        "model.add(Conv2D(filters=512,kernel_size=(3,3),strides=(1,1),activation='relu',\n",
        "                 padding='same'))\n",
        "  # 2nd Convolutional Layer:\n",
        "model.add(Conv2D(filters=512,kernel_size=(3,3),strides=(1,1),activation='relu',\n",
        "                 padding='same'))\n",
        "  # 3rd Convolutional Layer:\n",
        "model.add(Conv2D(filters=512,kernel_size=(3,3),strides=(1,1),activation='relu',\n",
        "                 padding='same'))\n",
        "  # Max Pooling Layer:\n",
        "model.add(MaxPool2D((2,2),strides=(2,2)))\n",
        "\n",
        "# 5th Block:\n",
        "  # 1st Convolutional Layer:\n",
        "model.add(Conv2D(filters=1024,kernel_size=(3,3),strides=(1,1),activation='relu',\n",
        "                 padding='same'))\n",
        "  # 2nd Convolutional Layer:\n",
        "model.add(Conv2D(filters=1024,kernel_size=(3,3),strides=(1,1),activation='relu',\n",
        "                 padding='same'))\n",
        "  # 3rd Convolutional Layer:\n",
        "model.add(Conv2D(filters=1024,kernel_size=(3,3),strides=(1,1),activation='relu',\n",
        "                 padding='same'))\n",
        "  # Max Pooling Layer:\n",
        "model.add(MaxPool2D((2,2),strides=(2,2)))\n",
        "\n",
        "# 6th Block Classifier:\n",
        "  # Flatten Convolutional for Fully Connected Layers:\n",
        "model.add(Flatten())\n",
        "  # 1st Fully Connected/Dense Layer:\n",
        "model.add(Dense(4096,activation='relu'))\n",
        "  # Dropout Layer with 50% of droping wieght each epoch\n",
        "model.add(Dropout(0.5))\n",
        "  # 2nd Fully Connected/Denes Layer:\n",
        "model.add(Dense(4096,activation='relu'))\n",
        "  # Dropout Layer with 50% of droping wieght each epoch\n",
        "model.add(Dropout(0.5))\n",
        "  # Final Layer Softmax to Classify Inputs:\n",
        "model.add(Dense(10,activation='softmax'))\n",
        "\n",
        "model.summary()"
      ],
      "execution_count": 10,
      "outputs": [
        {
          "output_type": "stream",
          "text": [
            "Model: \"VGG16\"\n",
            "_________________________________________________________________\n",
            "Layer (type)                 Output Shape              Param #   \n",
            "=================================================================\n",
            "conv2d (Conv2D)              (None, 32, 32, 64)        1792      \n",
            "_________________________________________________________________\n",
            "conv2d_1 (Conv2D)            (None, 32, 32, 64)        36928     \n",
            "_________________________________________________________________\n",
            "max_pooling2d (MaxPooling2D) (None, 16, 16, 64)        0         \n",
            "_________________________________________________________________\n",
            "conv2d_2 (Conv2D)            (None, 16, 16, 128)       73856     \n",
            "_________________________________________________________________\n",
            "conv2d_3 (Conv2D)            (None, 16, 16, 128)       147584    \n",
            "_________________________________________________________________\n",
            "max_pooling2d_1 (MaxPooling2 (None, 8, 8, 128)         0         \n",
            "_________________________________________________________________\n",
            "conv2d_4 (Conv2D)            (None, 8, 8, 256)         295168    \n",
            "_________________________________________________________________\n",
            "conv2d_5 (Conv2D)            (None, 8, 8, 256)         590080    \n",
            "_________________________________________________________________\n",
            "conv2d_6 (Conv2D)            (None, 8, 8, 256)         590080    \n",
            "_________________________________________________________________\n",
            "max_pooling2d_2 (MaxPooling2 (None, 4, 4, 256)         0         \n",
            "_________________________________________________________________\n",
            "conv2d_7 (Conv2D)            (None, 4, 4, 512)         1180160   \n",
            "_________________________________________________________________\n",
            "conv2d_8 (Conv2D)            (None, 4, 4, 512)         2359808   \n",
            "_________________________________________________________________\n",
            "conv2d_9 (Conv2D)            (None, 4, 4, 512)         2359808   \n",
            "_________________________________________________________________\n",
            "max_pooling2d_3 (MaxPooling2 (None, 2, 2, 512)         0         \n",
            "_________________________________________________________________\n",
            "conv2d_10 (Conv2D)           (None, 2, 2, 1024)        4719616   \n",
            "_________________________________________________________________\n",
            "conv2d_11 (Conv2D)           (None, 2, 2, 1024)        9438208   \n",
            "_________________________________________________________________\n",
            "conv2d_12 (Conv2D)           (None, 2, 2, 1024)        9438208   \n",
            "_________________________________________________________________\n",
            "max_pooling2d_4 (MaxPooling2 (None, 1, 1, 1024)        0         \n",
            "_________________________________________________________________\n",
            "flatten (Flatten)            (None, 1024)              0         \n",
            "_________________________________________________________________\n",
            "dense (Dense)                (None, 4096)              4198400   \n",
            "_________________________________________________________________\n",
            "dropout (Dropout)            (None, 4096)              0         \n",
            "_________________________________________________________________\n",
            "dense_1 (Dense)              (None, 4096)              16781312  \n",
            "_________________________________________________________________\n",
            "dropout_1 (Dropout)          (None, 4096)              0         \n",
            "_________________________________________________________________\n",
            "dense_2 (Dense)              (None, 10)                40970     \n",
            "=================================================================\n",
            "Total params: 52,251,978\n",
            "Trainable params: 52,251,978\n",
            "Non-trainable params: 0\n",
            "_________________________________________________________________\n"
          ],
          "name": "stdout"
        }
      ]
    },
    {
      "cell_type": "code",
      "metadata": {
        "colab": {
          "base_uri": "https://localhost:8080/"
        },
        "id": "qokc6N4rYC9N",
        "outputId": "d9d3e077-8b39-4d65-b361-9419c72837ba"
      },
      "source": [
        "batch_size = 128\n",
        "epochs = 32\n",
        "\n",
        "checkpointer = ModelCheckpoint(filepath='model.100epochs.hdfs',verbose=1,save_best_only=True)\n",
        "optimizer = keras.optimizers.Adam(learning_rate=0.0001,decay=1e-6)\n",
        "model.compile(loss='categorical_crossentropy',optimizer=optimizer,metrics=['accuracy'])\n",
        "history = model.fit(datagen.flow(x_train,y_train,batch_size=batch_size)\n",
        "                              ,callbacks=[checkpointer],steps_per_epoch=x_train.shape[0]//batch_size,\n",
        "                              epochs=epochs,verbose=2,validation_data=(x_valid,y_valid))\n"
      ],
      "execution_count": 11,
      "outputs": [
        {
          "output_type": "stream",
          "text": [
            "Epoch 1/32\n",
            "351/351 - 82s - loss: 1.9828 - accuracy: 0.2169 - val_loss: 1.6669 - val_accuracy: 0.3254\n",
            "\n",
            "Epoch 00001: val_loss improved from inf to 1.66686, saving model to model.100epochs.hdfs\n",
            "INFO:tensorflow:Assets written to: model.100epochs.hdfs/assets\n",
            "Epoch 2/32\n",
            "351/351 - 32s - loss: 1.6093 - accuracy: 0.3629 - val_loss: 1.4585 - val_accuracy: 0.4500\n",
            "\n",
            "Epoch 00002: val_loss improved from 1.66686 to 1.45849, saving model to model.100epochs.hdfs\n",
            "INFO:tensorflow:Assets written to: model.100epochs.hdfs/assets\n",
            "Epoch 3/32\n",
            "351/351 - 32s - loss: 1.4045 - accuracy: 0.4754 - val_loss: 1.3168 - val_accuracy: 0.5280\n",
            "\n",
            "Epoch 00003: val_loss improved from 1.45849 to 1.31684, saving model to model.100epochs.hdfs\n",
            "INFO:tensorflow:Assets written to: model.100epochs.hdfs/assets\n",
            "Epoch 4/32\n",
            "351/351 - 32s - loss: 1.2126 - accuracy: 0.5564 - val_loss: 1.0633 - val_accuracy: 0.6234\n",
            "\n",
            "Epoch 00004: val_loss improved from 1.31684 to 1.06331, saving model to model.100epochs.hdfs\n",
            "INFO:tensorflow:Assets written to: model.100epochs.hdfs/assets\n",
            "Epoch 5/32\n",
            "351/351 - 32s - loss: 1.0810 - accuracy: 0.6114 - val_loss: 1.0394 - val_accuracy: 0.6412\n",
            "\n",
            "Epoch 00005: val_loss improved from 1.06331 to 1.03943, saving model to model.100epochs.hdfs\n",
            "INFO:tensorflow:Assets written to: model.100epochs.hdfs/assets\n",
            "Epoch 6/32\n",
            "351/351 - 32s - loss: 0.9548 - accuracy: 0.6609 - val_loss: 0.8711 - val_accuracy: 0.6922\n",
            "\n",
            "Epoch 00006: val_loss improved from 1.03943 to 0.87112, saving model to model.100epochs.hdfs\n",
            "INFO:tensorflow:Assets written to: model.100epochs.hdfs/assets\n",
            "Epoch 7/32\n",
            "351/351 - 32s - loss: 0.8680 - accuracy: 0.6937 - val_loss: 0.8504 - val_accuracy: 0.6968\n",
            "\n",
            "Epoch 00007: val_loss improved from 0.87112 to 0.85041, saving model to model.100epochs.hdfs\n",
            "INFO:tensorflow:Assets written to: model.100epochs.hdfs/assets\n",
            "Epoch 8/32\n",
            "351/351 - 32s - loss: 0.7931 - accuracy: 0.7208 - val_loss: 0.7489 - val_accuracy: 0.7426\n",
            "\n",
            "Epoch 00008: val_loss improved from 0.85041 to 0.74892, saving model to model.100epochs.hdfs\n",
            "INFO:tensorflow:Assets written to: model.100epochs.hdfs/assets\n",
            "Epoch 9/32\n",
            "351/351 - 32s - loss: 0.7340 - accuracy: 0.7444 - val_loss: 0.7490 - val_accuracy: 0.7462\n",
            "\n",
            "Epoch 00009: val_loss did not improve from 0.74892\n",
            "Epoch 10/32\n",
            "351/351 - 32s - loss: 0.6808 - accuracy: 0.7648 - val_loss: 0.7703 - val_accuracy: 0.7438\n",
            "\n",
            "Epoch 00010: val_loss did not improve from 0.74892\n",
            "Epoch 11/32\n",
            "351/351 - 32s - loss: 0.6285 - accuracy: 0.7826 - val_loss: 0.6273 - val_accuracy: 0.7812\n",
            "\n",
            "Epoch 00011: val_loss improved from 0.74892 to 0.62726, saving model to model.100epochs.hdfs\n",
            "INFO:tensorflow:Assets written to: model.100epochs.hdfs/assets\n",
            "Epoch 12/32\n",
            "351/351 - 32s - loss: 0.5878 - accuracy: 0.7993 - val_loss: 0.6261 - val_accuracy: 0.7848\n",
            "\n",
            "Epoch 00012: val_loss improved from 0.62726 to 0.62607, saving model to model.100epochs.hdfs\n",
            "INFO:tensorflow:Assets written to: model.100epochs.hdfs/assets\n",
            "Epoch 13/32\n",
            "351/351 - 32s - loss: 0.5468 - accuracy: 0.8140 - val_loss: 0.6408 - val_accuracy: 0.7838\n",
            "\n",
            "Epoch 00013: val_loss did not improve from 0.62607\n",
            "Epoch 14/32\n",
            "351/351 - 32s - loss: 0.5142 - accuracy: 0.8240 - val_loss: 0.6057 - val_accuracy: 0.8020\n",
            "\n",
            "Epoch 00014: val_loss improved from 0.62607 to 0.60567, saving model to model.100epochs.hdfs\n",
            "INFO:tensorflow:Assets written to: model.100epochs.hdfs/assets\n",
            "Epoch 15/32\n",
            "351/351 - 32s - loss: 0.4782 - accuracy: 0.8359 - val_loss: 0.6326 - val_accuracy: 0.7900\n",
            "\n",
            "Epoch 00015: val_loss did not improve from 0.60567\n",
            "Epoch 16/32\n",
            "351/351 - 32s - loss: 0.4464 - accuracy: 0.8473 - val_loss: 0.6167 - val_accuracy: 0.8000\n",
            "\n",
            "Epoch 00016: val_loss did not improve from 0.60567\n",
            "Epoch 17/32\n",
            "351/351 - 32s - loss: 0.4159 - accuracy: 0.8592 - val_loss: 0.5945 - val_accuracy: 0.8094\n",
            "\n",
            "Epoch 00017: val_loss improved from 0.60567 to 0.59454, saving model to model.100epochs.hdfs\n",
            "INFO:tensorflow:Assets written to: model.100epochs.hdfs/assets\n",
            "Epoch 18/32\n",
            "351/351 - 32s - loss: 0.3821 - accuracy: 0.8690 - val_loss: 0.6620 - val_accuracy: 0.7994\n",
            "\n",
            "Epoch 00018: val_loss did not improve from 0.59454\n",
            "Epoch 19/32\n",
            "351/351 - 32s - loss: 0.3661 - accuracy: 0.8759 - val_loss: 0.6028 - val_accuracy: 0.8178\n",
            "\n",
            "Epoch 00019: val_loss did not improve from 0.59454\n",
            "Epoch 20/32\n",
            "351/351 - 32s - loss: 0.3421 - accuracy: 0.8847 - val_loss: 0.5791 - val_accuracy: 0.8232\n",
            "\n",
            "Epoch 00020: val_loss improved from 0.59454 to 0.57913, saving model to model.100epochs.hdfs\n",
            "INFO:tensorflow:Assets written to: model.100epochs.hdfs/assets\n",
            "Epoch 21/32\n",
            "351/351 - 32s - loss: 0.3112 - accuracy: 0.8946 - val_loss: 0.5807 - val_accuracy: 0.8110\n",
            "\n",
            "Epoch 00021: val_loss did not improve from 0.57913\n",
            "Epoch 22/32\n",
            "351/351 - 32s - loss: 0.3003 - accuracy: 0.8982 - val_loss: 0.5939 - val_accuracy: 0.8212\n",
            "\n",
            "Epoch 00022: val_loss did not improve from 0.57913\n",
            "Epoch 23/32\n",
            "351/351 - 32s - loss: 0.2743 - accuracy: 0.9080 - val_loss: 0.5826 - val_accuracy: 0.8290\n",
            "\n",
            "Epoch 00023: val_loss did not improve from 0.57913\n",
            "Epoch 24/32\n",
            "351/351 - 32s - loss: 0.2584 - accuracy: 0.9136 - val_loss: 0.5637 - val_accuracy: 0.8290\n",
            "\n",
            "Epoch 00024: val_loss improved from 0.57913 to 0.56370, saving model to model.100epochs.hdfs\n",
            "INFO:tensorflow:Assets written to: model.100epochs.hdfs/assets\n",
            "Epoch 25/32\n",
            "351/351 - 32s - loss: 0.2446 - accuracy: 0.9174 - val_loss: 0.6189 - val_accuracy: 0.8260\n",
            "\n",
            "Epoch 00025: val_loss did not improve from 0.56370\n",
            "Epoch 26/32\n",
            "351/351 - 32s - loss: 0.2266 - accuracy: 0.9229 - val_loss: 0.6385 - val_accuracy: 0.8252\n",
            "\n",
            "Epoch 00026: val_loss did not improve from 0.56370\n",
            "Epoch 27/32\n",
            "351/351 - 32s - loss: 0.2159 - accuracy: 0.9280 - val_loss: 0.6284 - val_accuracy: 0.8230\n",
            "\n",
            "Epoch 00027: val_loss did not improve from 0.56370\n",
            "Epoch 28/32\n",
            "351/351 - 32s - loss: 0.2032 - accuracy: 0.9327 - val_loss: 0.6302 - val_accuracy: 0.8254\n",
            "\n",
            "Epoch 00028: val_loss did not improve from 0.56370\n",
            "Epoch 29/32\n",
            "351/351 - 32s - loss: 0.1860 - accuracy: 0.9384 - val_loss: 0.6750 - val_accuracy: 0.8224\n",
            "\n",
            "Epoch 00029: val_loss did not improve from 0.56370\n",
            "Epoch 30/32\n",
            "351/351 - 32s - loss: 0.1772 - accuracy: 0.9400 - val_loss: 0.7141 - val_accuracy: 0.8202\n",
            "\n",
            "Epoch 00030: val_loss did not improve from 0.56370\n",
            "Epoch 31/32\n",
            "351/351 - 33s - loss: 0.1751 - accuracy: 0.9414 - val_loss: 0.6583 - val_accuracy: 0.8204\n",
            "\n",
            "Epoch 00031: val_loss did not improve from 0.56370\n",
            "Epoch 32/32\n",
            "351/351 - 32s - loss: 0.1623 - accuracy: 0.9458 - val_loss: 0.6653 - val_accuracy: 0.8256\n",
            "\n",
            "Epoch 00032: val_loss did not improve from 0.56370\n"
          ],
          "name": "stdout"
        }
      ]
    },
    {
      "cell_type": "code",
      "metadata": {
        "colab": {
          "base_uri": "https://localhost:8080/"
        },
        "id": "iQdVcIDFczL8",
        "outputId": "8baaea7b-eac7-4d0a-e870-08b855ad27a1"
      },
      "source": [
        "scores = model.evaluate(x_test,y_test,batch_size=128,verbose=1)"
      ],
      "execution_count": 15,
      "outputs": [
        {
          "output_type": "stream",
          "text": [
            "79/79 [==============================] - 2s 23ms/step - loss: 0.7524 - accuracy: 0.8126\n"
          ],
          "name": "stdout"
        }
      ]
    },
    {
      "cell_type": "code",
      "metadata": {
        "colab": {
          "base_uri": "https://localhost:8080/"
        },
        "id": "IpvDJtj7c7r-",
        "outputId": "ca15ba43-f9f0-4f10-e58f-b182b6907a8f"
      },
      "source": [
        "print('\\n Test Set Accuracy:: %.3f'%(scores[1]*100))"
      ],
      "execution_count": 16,
      "outputs": [
        {
          "output_type": "stream",
          "text": [
            "\n",
            " Test Set Accuracy:: 81.260\n"
          ],
          "name": "stdout"
        }
      ]
    },
    {
      "cell_type": "code",
      "metadata": {
        "colab": {
          "base_uri": "https://localhost:8080/",
          "height": 295
        },
        "id": "jEakl_m8c9Vg",
        "outputId": "3ac58240-2744-4223-ef7c-d45d0b86ca45"
      },
      "source": [
        "display_loss(history)"
      ],
      "execution_count": 23,
      "outputs": [
        {
          "output_type": "display_data",
          "data": {
            "image/png": "[encoded data removed]",
            "text/plain": [
              "<Figure size 432x288 with 1 Axes>"
            ]
          },
          "metadata": {
            "tags": [],
            "needs_background": "light"
          }
        }
      ]
    }
  ]
}