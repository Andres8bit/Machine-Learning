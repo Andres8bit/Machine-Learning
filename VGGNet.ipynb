{
  "nbformat": 4,
  "nbformat_minor": 0,
  "metadata": {
    "colab": {
      "name": "VGGNet.ipynb",
      "provenance": [],
      "authorship_tag": "ABX9TyPIQr36PrlO/E1F+14fLvkz",
      "include_colab_link": true
    },
    "kernelspec": {
      "name": "python3",
      "display_name": "Python 3"
    },
    "language_info": {
      "name": "python"
    }
  },
  "cells": [
    {
      "cell_type": "markdown",
      "metadata": {
        "id": "view-in-github",
        "colab_type": "text"
      },
      "source": [
        "<a href=\"https://colab.research.google.com/github/Andres8bit/Machine-Learning/blob/main/VGGNet.ipynb\" target=\"_parent\"><img src=\"https://colab.research.google.com/assets/colab-badge.svg\" alt=\"Open In Colab\"/></a>"
      ]
    },
    {
      "cell_type": "code",
      "metadata": {
        "id": "wNpmY30jLeEF"
      },
      "source": [
        "from keras.models import Sequential\n",
        "from keras.layers import Conv2D, AveragePooling2D, Flatten, Dense, Activation, MaxPool2D, BatchNormalization, Dropout, ZeroPadding2D"
      ],
      "execution_count": 8,
      "outputs": []
    },
    {
      "cell_type": "code",
      "metadata": {
        "colab": {
          "base_uri": "https://localhost:8080/"
        },
        "id": "BU1z69cAMZl2",
        "outputId": "3743c271-00e7-49e3-93e8-59c2fca977fa"
      },
      "source": [
        "# VGG16 Architecture:\n",
        "model = Sequential(name='VGG16')\n",
        "\n",
        "# 1st Block :\n",
        "  # 1st Convolutional Layer:\n",
        "model.add(Conv2D(filters=64,kernel_size=(3,3),strides=(1,1),activation='relu',\n",
        "                 padding='same',input_shape=(224,224,3)))\n",
        "  # 2nd Convolutional Layer:\n",
        "model.add(Conv2D(filters=64,kernel_size=(3,3),strides=(1,1),activation='relu',\n",
        "                 padding='same'))\n",
        "  # Max Pooling Layer:\n",
        "model.add(MaxPool2D((2,2),strides=(2,2)))\n",
        "\n",
        "# 2nd Block:\n",
        "  # 1st Convolutional Layer:\n",
        "model.add(Conv2D(filters=128,kernel_size=(3,3),strides=(1,1),activation='relu',\n",
        "                 padding='same'))\n",
        "  # 2nd Convolutional Layer:\n",
        "model.add(Conv2D(filters=128,kernel_size=(3,3),strides=(1,1),activation='relu',\n",
        "                 padding='same'))\n",
        "  # Max Pooling Layer:\n",
        "model.add(MaxPool2D((2,2),strides=(2,2)))\n",
        "\n",
        "# 3rd Block:\n",
        "  # 1st Convolutional Layer:\n",
        "model.add(Conv2D(filters=256,kernel_size=(3,3),strides=(1,1),activation='relu',\n",
        "                 padding='same'))\n",
        "  # 2nd Convolutional Layer:\n",
        "model.add(Conv2D(filters=256,kernel_size=(3,3),strides=(1,1),activation='relu',\n",
        "                 padding='same'))\n",
        "  # 3rd Convolutional Layer:\n",
        "model.add(Conv2D(filters=256,kernel_size=(3,3),strides=(1,1),activation='relu',\n",
        "                 padding='same'))\n",
        "  # Max Pooling Layer:\n",
        "model.add(MaxPool2D((2,2),strides=(2,2)))\n",
        "\n",
        "# 4th Block:\n",
        "  # 1st Convolutional Layer:\n",
        "model.add(Conv2D(filters=512,kernel_size=(3,3),strides=(1,1),activation='relu',\n",
        "                 padding='same'))\n",
        "  # 2nd Convolutional Layer:\n",
        "model.add(Conv2D(filters=512,kernel_size=(3,3),strides=(1,1),activation='relu',\n",
        "                 padding='same'))\n",
        "  # 3rd Convolutional Layer:\n",
        "model.add(Conv2D(filters=512,kernel_size=(3,3),strides=(1,1),activation='relu',\n",
        "                 padding='same'))\n",
        "  # Max Pooling Layer:\n",
        "model.add(MaxPool2D((2,2),strides=(2,2)))\n",
        "\n",
        "# 5th Block:\n",
        "  # 1st Convolutional Layer:\n",
        "model.add(Conv2D(filters=1024,kernel_size=(3,3),strides=(1,1),activation='relu',\n",
        "                 padding='same'))\n",
        "  # 2nd Convolutional Layer:\n",
        "model.add(Conv2D(filters=1024,kernel_size=(3,3),strides=(1,1),activation='relu',\n",
        "                 padding='same'))\n",
        "  # 3rd Convolutional Layer:\n",
        "model.add(Conv2D(filters=1024,kernel_size=(3,3),strides=(1,1),activation='relu',\n",
        "                 padding='same'))\n",
        "  # Max Pooling Layer:\n",
        "model.add(MaxPool2D((2,2),strides=(2,2)))\n",
        "\n",
        "# 6th Block Classifier:\n",
        "  # Flatten Convolutional for Fully Connected Layers:\n",
        "model.add(Flatten())\n",
        "  # 1st Fully Connected/Dense Layer:\n",
        "model.add(Dense(4096,activation='relu'))\n",
        "  # Dropout Layer with 50% of droping wieght each epoch\n",
        "model.add(Dropout(0.5))\n",
        "  # 2nd Fully Connected/Denes Layer:\n",
        "model.add(Dense(4096,activation='relu'))\n",
        "  # Dropout Layer with 50% of droping wieght each epoch\n",
        "model.add(Dropout(0.5))\n",
        "  # Final Layer Softmax to Classify Inputs:\n",
        "model.add(Dense(100,activation='softmax'))\n",
        "\n",
        "model.summary()"
      ],
      "execution_count": 20,
      "outputs": [
        {
          "output_type": "stream",
          "text": [
            "Model: \"VGG16\"\n",
            "_________________________________________________________________\n",
            "Layer (type)                 Output Shape              Param #   \n",
            "=================================================================\n",
            "conv2d_87 (Conv2D)           (None, 224, 224, 64)      1792      \n",
            "_________________________________________________________________\n",
            "conv2d_88 (Conv2D)           (None, 224, 224, 64)      36928     \n",
            "_________________________________________________________________\n",
            "max_pooling2d_32 (MaxPooling (None, 112, 112, 64)      0         \n",
            "_________________________________________________________________\n",
            "conv2d_89 (Conv2D)           (None, 112, 112, 128)     73856     \n",
            "_________________________________________________________________\n",
            "conv2d_90 (Conv2D)           (None, 112, 112, 128)     147584    \n",
            "_________________________________________________________________\n",
            "max_pooling2d_33 (MaxPooling (None, 56, 56, 128)       0         \n",
            "_________________________________________________________________\n",
            "conv2d_91 (Conv2D)           (None, 56, 56, 256)       295168    \n",
            "_________________________________________________________________\n",
            "conv2d_92 (Conv2D)           (None, 56, 56, 256)       590080    \n",
            "_________________________________________________________________\n",
            "conv2d_93 (Conv2D)           (None, 56, 56, 256)       590080    \n",
            "_________________________________________________________________\n",
            "max_pooling2d_34 (MaxPooling (None, 28, 28, 256)       0         \n",
            "_________________________________________________________________\n",
            "conv2d_94 (Conv2D)           (None, 28, 28, 512)       1180160   \n",
            "_________________________________________________________________\n",
            "conv2d_95 (Conv2D)           (None, 28, 28, 512)       2359808   \n",
            "_________________________________________________________________\n",
            "conv2d_96 (Conv2D)           (None, 28, 28, 512)       2359808   \n",
            "_________________________________________________________________\n",
            "max_pooling2d_35 (MaxPooling (None, 14, 14, 512)       0         \n",
            "_________________________________________________________________\n",
            "conv2d_97 (Conv2D)           (None, 14, 14, 1024)      4719616   \n",
            "_________________________________________________________________\n",
            "conv2d_98 (Conv2D)           (None, 14, 14, 1024)      9438208   \n",
            "_________________________________________________________________\n",
            "conv2d_99 (Conv2D)           (None, 14, 14, 1024)      9438208   \n",
            "_________________________________________________________________\n",
            "max_pooling2d_36 (MaxPooling (None, 7, 7, 1024)        0         \n",
            "_________________________________________________________________\n",
            "flatten_1 (Flatten)          (None, 50176)             0         \n",
            "_________________________________________________________________\n",
            "dense_3 (Dense)              (None, 4096)              205524992 \n",
            "_________________________________________________________________\n",
            "dropout_2 (Dropout)          (None, 4096)              0         \n",
            "_________________________________________________________________\n",
            "dense_4 (Dense)              (None, 4096)              16781312  \n",
            "_________________________________________________________________\n",
            "dropout_3 (Dropout)          (None, 4096)              0         \n",
            "_________________________________________________________________\n",
            "dense_5 (Dense)              (None, 100)               409700    \n",
            "=================================================================\n",
            "Total params: 253,947,300\n",
            "Trainable params: 253,947,300\n",
            "Non-trainable params: 0\n",
            "_________________________________________________________________\n"
          ],
          "name": "stdout"
        }
      ]
    }
  ]
}