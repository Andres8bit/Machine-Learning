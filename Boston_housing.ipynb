{
  "nbformat": 4,
  "nbformat_minor": 0,
  "metadata": {
    "accelerator": "GPU",
    "colab": {
      "name": "Boston_housing.ipynb",
      "provenance": [],
      "collapsed_sections": [],
      "include_colab_link": true
    },
    "kernelspec": {
      "display_name": "Python 3",
      "language": "python",
      "name": "python3"
    },
    "language_info": {
      "codemirror_mode": {
        "name": "ipython",
        "version": 3
      },
      "file_extension": ".py",
      "mimetype": "text/x-python",
      "name": "python",
      "nbconvert_exporter": "python",
      "pygments_lexer": "ipython3",
      "version": "3.5.3"
    }
  },
  "cells": [
    {
      "cell_type": "markdown",
      "metadata": {
        "id": "view-in-github",
        "colab_type": "text"
      },
      "source": [
        "<a href=\"https://colab.research.google.com/github/Andres8bit/Machine-Learning/blob/main/Boston_housing.ipynb\" target=\"_parent\"><img src=\"https://colab.research.google.com/assets/colab-badge.svg\" alt=\"Open In Colab\"/></a>"
      ]
    },
    {
      "cell_type": "markdown",
      "metadata": {
        "id": "m_R4z-lmbSjo"
      },
      "source": [
        "<h2>Linear Regression on Boston Housing Data</h2>"
      ]
    },
    {
      "cell_type": "code",
      "metadata": {
        "id": "WJ3cJxt3bSjp"
      },
      "source": [
        "# The modules we're going to use\n",
        "from __future__ import print_function\n",
        "from sklearn import preprocessing\n",
        "from sklearn.model_selection import train_test_split\n",
        "from sklearn import datasets, linear_model\n",
        "from scipy import linalg\n",
        "from sklearn.metrics import mean_squared_error\n",
        "from math import sqrt\n",
        "from numpy.linalg import inv\n",
        "import numpy as np\n",
        "import matplotlib.pyplot as plt\n",
        "import pandas as pd\n",
        "\n",
        "\n",
        "# When you execute a code to plot with a simple SHIFT-ENTER, the plot will be shown directly under the code cell\n",
        "%matplotlib inline"
      ],
      "execution_count": null,
      "outputs": []
    },
    {
      "cell_type": "markdown",
      "metadata": {
        "id": "NA3ezrA-bSjt"
      },
      "source": [
        "<h4>Use scikit-learn library in the following cell</h4>"
      ]
    },
    {
      "cell_type": "code",
      "metadata": {
        "id": "hlqomvfpbSjt",
        "colab": {
          "base_uri": "https://localhost:8080/",
          "height": 35
        },
        "outputId": "b5f5047d-f918-4099-d4bf-57607523f171"
      },
      "source": [
        "data, target = datasets.load_boston(True)\n",
        "train_data,test_data,train_target,test_target = train_test_split(data,(target[:, np.newaxis]), test_size=0.2, random_state=42)\n",
        "\n",
        "# Task 1-1: use linear regression in sklearn\n",
        "model = linear_model.LinearRegression().fit(train_data,train_target)\n",
        "model.score(train_data,train_target)"
      ],
      "execution_count": null,
      "outputs": [
        {
          "output_type": "execute_result",
          "data": {
            "text/plain": [
              "0.7508856358979672"
            ]
          },
          "metadata": {
            "tags": []
          },
          "execution_count": 4
        }
      ]
    },
    {
      "cell_type": "code",
      "metadata": {
        "id": "XkFAQmugDd03",
        "colab": {
          "base_uri": "https://localhost:8080/",
          "height": 108
        },
        "outputId": "ce86fd94-954a-431e-b6b3-ceb6465624fe"
      },
      "source": [
        "# Task 1-2: show intercept and coefficents\n",
        "model.coef_\n"
      ],
      "execution_count": null,
      "outputs": [
        {
          "output_type": "execute_result",
          "data": {
            "text/plain": [
              "array([[-1.13055924e-01,  3.01104641e-02,  4.03807204e-02,\n",
              "         2.78443820e+00, -1.72026334e+01,  4.43883520e+00,\n",
              "        -6.29636221e-03, -1.44786537e+00,  2.62429736e-01,\n",
              "        -1.06467863e-02, -9.15456240e-01,  1.23513347e-02,\n",
              "        -5.08571424e-01]])"
            ]
          },
          "metadata": {
            "tags": []
          },
          "execution_count": 5
        }
      ]
    },
    {
      "cell_type": "code",
      "metadata": {
        "id": "EVbpLhAfDktr",
        "colab": {
          "base_uri": "https://localhost:8080/",
          "height": 35
        },
        "outputId": "8da08e84-9fa2-41fc-824e-078b20d816fa"
      },
      "source": [
        "model.intercept_"
      ],
      "execution_count": null,
      "outputs": [
        {
          "output_type": "execute_result",
          "data": {
            "text/plain": [
              "array([30.24675099])"
            ]
          },
          "metadata": {
            "tags": []
          },
          "execution_count": 6
        }
      ]
    },
    {
      "cell_type": "code",
      "metadata": {
        "id": "Gc8odUJNDquJ",
        "colab": {
          "base_uri": "https://localhost:8080/",
          "height": 53
        },
        "outputId": "6f40a7cc-a95b-4151-b54c-42943229d577"
      },
      "source": [
        "\n",
        "# Task 1-3: show errors on training dataset and testing dataset\n",
        "test = model.predict(test_data)# need to reduce back down to an array\n",
        "train = model.predict(train_data)\n",
        "test_error = mean_squared_error(test, test_target)\n",
        "train_error = mean_squared_error(train,train_target)\n",
        "print(\"testing error\" ,test_error)\n",
        "print(\"training error\" ,train_error)"
      ],
      "execution_count": null,
      "outputs": [
        {
          "output_type": "stream",
          "text": [
            "testing error 24.291119474973616\n",
            "training error 21.641412753226323\n"
          ],
          "name": "stdout"
        }
      ]
    },
    {
      "cell_type": "markdown",
      "metadata": {
        "id": "RpX2tOa5bSjv"
      },
      "source": [
        "<h4>Use analytical solution (normal equation) to perform linear regression in the following cell</h4>"
      ]
    },
    {
      "cell_type": "code",
      "metadata": {
        "id": "YZJJ0sUGbSjv",
        "colab": {
          "base_uri": "https://localhost:8080/",
          "height": 271
        },
        "outputId": "9e1b5d59-02c2-4d37-92a4-058af637bbf7"
      },
      "source": [
        "# Task 2-1: Implement a function solving normal equation \n",
        "# Inputs: Training data and  training label\n",
        "# Output: Weights\n",
        "def myNormalEqualFun(X,y):\n",
        "    #x_t = np.transpose(X)\n",
        "    #x_xt = np.dot(x_t,X)\n",
        "    #x_xt_i = inv(x_xt)\n",
        "    #prod = np.dot(x_xt_i,x_t)\n",
        "    # return np.dot(prod,y)\n",
        "    return inv(X.T.dot(X)).dot(X.T).dot(y) #single step analytical solution same as commented out code, but in one line\n",
        "# Task 2-2: Implement a function performing prediction\n",
        "# Inputs: Testing data and weights\n",
        "# Output: Predictions\n",
        "def myPredictFun(X,w):\n",
        "    return np.dot(X,w)\n",
        "\n",
        "# Here we insert a column of 1s into training_data and test_data (to be consistent with our lecture slides)\n",
        "train_data_intercept = np.insert(train_data, 0, 1, axis=1)\n",
        "test_data_intercept = np.insert(test_data, 0, 1, axis=1)\n",
        "\n",
        "# Here we call myNormalEqual to train the model and get weights\n",
        "w = myNormalEqualFun(train_data_intercept,train_target)\n",
        "\n",
        "# Task 2-3: show intercept and coefficents\n",
        "print(\"coefficents\",w) #coefficients"
      ],
      "execution_count": null,
      "outputs": [
        {
          "output_type": "stream",
          "text": [
            "coefficents [[ 3.02467510e+01]\n",
            " [-1.13055924e-01]\n",
            " [ 3.01104641e-02]\n",
            " [ 4.03807204e-02]\n",
            " [ 2.78443820e+00]\n",
            " [-1.72026334e+01]\n",
            " [ 4.43883520e+00]\n",
            " [-6.29636221e-03]\n",
            " [-1.44786537e+00]\n",
            " [ 2.62429736e-01]\n",
            " [-1.06467863e-02]\n",
            " [-9.15456240e-01]\n",
            " [ 1.23513347e-02]\n",
            " [-5.08571424e-01]]\n"
          ],
          "name": "stdout"
        }
      ]
    },
    {
      "cell_type": "code",
      "metadata": {
        "id": "4U9bKl0xu27u",
        "colab": {
          "base_uri": "https://localhost:8080/",
          "height": 53
        },
        "outputId": "5930d5cc-57e9-4be6-c58f-a1968fc16db1"
      },
      "source": [
        "# Task 2-4: show errors on training dataset and testing dataset\n",
        "training = myPredictFun(train_data_intercept,w)\n",
        "predictions = myPredictFun(test_data_intercept,w)\n",
        "\n",
        "\n",
        "print(\"Training:\",mean_squared_error(training, train_target))\n",
        "print(\"Testing:\" ,mean_squared_error(predictions, test_target))"
      ],
      "execution_count": null,
      "outputs": [
        {
          "output_type": "stream",
          "text": [
            "Training: 21.641412753226312\n",
            "Testing: 24.29111947497721\n"
          ],
          "name": "stdout"
        }
      ]
    },
    {
      "cell_type": "markdown",
      "metadata": {
        "id": "1hhVEfixbSjx"
      },
      "source": [
        "<h4>Use numerical solution (baisc gradient descent) to perform linear regression in the following cell</h4>"
      ]
    },
    {
      "cell_type": "code",
      "metadata": {
        "id": "3H1IxOBubSjy",
        "colab": {
          "base_uri": "https://localhost:8080/",
          "height": 574
        },
        "outputId": "71380d65-6854-41d8-ea0d-eba7eaf6e090"
      },
      "source": [
        "# Feature scaling\n",
        "scaler = preprocessing.StandardScaler().fit(train_data)\n",
        "train_data = scaler.transform(train_data)\n",
        "test_data = scaler.transform(test_data)\n",
        "\n",
        "\n",
        "# Task 3-1: Implement a function performing gradient descent\n",
        "# Inputs: Training data, training label, leaerning rate, number of iterations\n",
        "# Output: the final Weights\n",
        "#         the loss history along iterations. \n",
        "def myGradientDescentFun(X,y,learning_rate,numItrs):\n",
        "    theta = np.random.randn(14,1) #Random init\n",
        "    loss_hist = []\n",
        "    for itr in range(numItrs):\n",
        "        gradients = 2/numItrs * X.T.dot(X.dot(theta) - y)\n",
        "        loss_hist.append(mean_squared_error(theta, theta - learning_rate*gradients))\n",
        "        theta = theta - learning_rate*gradients\n",
        "    return theta,loss_hist \n",
        "\n",
        "# Task 3-2: Implement a function performing prediction\n",
        "# Inputs: Testing data and weights\n",
        "# Output: Predictions\n",
        "def myPredictFun(X,w):\n",
        "    return np.dot(X,w)\n",
        "\n",
        "# Here we insert a column of 1s into training_data and test_data (to be consistent with our lecture slides)\n",
        "train_data_intercept = np.insert(train_data, 0, 1, axis=1)\n",
        "test_data_intercept = np.insert(test_data, 0, 1, axis=1)\n",
        "\n",
        "# Here we call myGradientDescentFun to train the model and get weights\n",
        "# Note: you need to figure out good learning rate value and the number of iterations\n",
        "w, train_loss = myGradientDescentFun(train_data_intercept,train_target,0.1,4000)\n",
        "\n",
        "# Task 3-3: show intercept and coefficents\n",
        "print(\"coefficents:\", w[1:])\n",
        "print(\"intercept:\",w[0])\n",
        "\n",
        "# Task 3-4: show errors on training dataset and testing dataset\n",
        "train_predict = myPredictFun(train_data_intercept,w)\n",
        "test_predict = myPredictFun(test_data_intercept,w)\n",
        "\n",
        "train_error = mean_squared_error(train_target,train_predict)\n",
        "test_error = mean_squared_error(test_target,test_predict)\n",
        "\n",
        "print(\"training error:\",train_error)\n",
        "print(\"testing error:\",test_error)\n",
        "\n",
        "# Task 3-5: plot learning curves showing training errors and testing errors along iterations\n",
        "_,test_loss = myGradientDescentFun(test_data_intercept,test_target,0.1,4000)\n",
        "plt.plot(np.sqrt(train_loss),\"r-+\",linewidth=2,label=\"train\")\n",
        "plt.plot(np.sqrt(test_loss),\"b-+\",linewidth=2,label=\"test\")"
      ],
      "execution_count": null,
      "outputs": [
        {
          "output_type": "stream",
          "text": [
            "coefficents: [[-1.00085732]\n",
            " [ 0.69325493]\n",
            " [ 0.2722988 ]\n",
            " [ 0.71963833]\n",
            " [-2.02168711]\n",
            " [ 3.14663523]\n",
            " [-0.17656713]\n",
            " [-3.08117226]\n",
            " [ 2.23405072]\n",
            " [-1.74764162]\n",
            " [-2.03723401]\n",
            " [ 1.12946358]\n",
            " [-3.61081033]]\n",
            "intercept: [22.79653465]\n",
            "training error: 21.64145885498323\n",
            "testing error: 24.301087745476092\n"
          ],
          "name": "stdout"
        },
        {
          "output_type": "execute_result",
          "data": {
            "text/plain": [
              "[<matplotlib.lines.Line2D at 0x7fe04a324fd0>]"
            ]
          },
          "metadata": {
            "tags": []
          },
          "execution_count": 10
        },
        {
          "output_type": "display_data",
          "data": {
            "image/png": "[encoded data removed]",
            "text/plain": [
              "<Figure size 432x288 with 1 Axes>"
            ]
          },
          "metadata": {
            "tags": [],
            "needs_background": "light"
          }
        }
      ]
    },
    {
      "cell_type": "markdown",
      "metadata": {
        "id": "Rx1UOqmfcNe0"
      },
      "source": [
        "<h4>Use numerical solution (stochastic gradient descent) to perform linear regression in the following cell</h4>"
      ]
    },
    {
      "cell_type": "code",
      "metadata": {
        "id": "96_WVyVKcNss",
        "colab": {
          "base_uri": "https://localhost:8080/",
          "height": 574
        },
        "outputId": "90f9aff4-0d02-407d-b1a5-eb99570024fd"
      },
      "source": [
        "# Feature scaling\n",
        "scaler = preprocessing.StandardScaler().fit(train_data)\n",
        "train_data = scaler.transform(train_data)\n",
        "test_data = scaler.transform(test_data)\n",
        "\n",
        "\n",
        "# Task 4-1: Implement a function performing gradient descent\n",
        "# Inputs: Training data, training label, leaerning rate, number of epoches, batch size\n",
        "# Output: the final Weights\n",
        "#         the loss history along batches\n",
        "def myGradientDescentFun(X,y,learning_rate,epoches, batchsize):\n",
        "    theta = np.random.randn(14,1) # randomly init. \n",
        "    loss_hist = []\n",
        "    for epoch in range(epoches):\n",
        "      #gradient = 0\n",
        "      for i in range(batchsize):\n",
        "        random_index = np.random.randint(batchsize)\n",
        "        xi = X[random_index:random_index+1] #selecting random training data\n",
        "        yi = y[random_index:random_index+1]\n",
        "        gradient = 2*xi.T.dot(xi.dot(theta) - yi)\n",
        "        theta = theta -(learning_rate/(batchsize/epoches))*gradient #dividing learning rate by batches per epoches\n",
        "      loss_hist.append(mean_squared_error(theta, theta -(learning_rate/(batchsize/epoches))*gradient))\n",
        "    return theta,loss_hist\n",
        "\n",
        "# Task 4-2: Implement a function performing prediction\n",
        "# Inputs: Testing data and weights\n",
        "# Output: Predictions\n",
        "def myPredictFun(X,w):\n",
        "    return np.dot(X,w)\n",
        "\n",
        "# Here we insert a column of 1s into training_data and test_data (to be consistent with our lecture slides)\n",
        "train_data_intercept = np.insert(train_data, 0, 1, axis=1)\n",
        "test_data_intercept = np.insert(test_data, 0, 1, axis=1)\n",
        "\n",
        "# Here we call myGradientDescentFun to train the model and get weights\n",
        "# Note: you need to figure out good learning rate value and the number of iterations\n",
        "w, train_loss = myGradientDescentFun(train_data_intercept,train_target,.1,30,4000)\n",
        "\n",
        "\n",
        "# Task 4-3: show intercept and coefficents\n",
        "print(\"coefficents:\",w[1:])\n",
        "print(\"intercept:\",w[0])\n",
        "# Task 4-4: show errors on training dataset and testing dataset\n",
        "train_predict = myPredictFun(train_data_intercept,w)\n",
        "test_predict = myPredictFun(test_data_intercept,w)\n",
        "\n",
        "train_error = mean_squared_error(train_target,train_predict)\n",
        "test_error = mean_squared_error(test_target,test_predict)\n",
        "\n",
        "print(\"training error:\",train_error)\n",
        "print(\"testing error:\",test_error)\n",
        "\n",
        "# Task 4-5: plot learning curves showing training errors and testing errors along batch\n",
        "_,test_loss = myGradientDescentFun(test_data_intercept,test_target,0.1,30,4000)\n",
        "plt.plot(np.sqrt(train_loss),\"r-+\",linewidth=2,label=\"train\")\n",
        "plt.plot(np.sqrt(test_loss),\"b-+\",linewidth=2,label=\"test\")\n"
      ],
      "execution_count": null,
      "outputs": [
        {
          "output_type": "stream",
          "text": [
            "coefficents: [[-0.9734586 ]\n",
            " [ 0.58938027]\n",
            " [-0.20973066]\n",
            " [ 0.62573677]\n",
            " [-2.13691936]\n",
            " [ 3.60405694]\n",
            " [-0.49827027]\n",
            " [-2.83721989]\n",
            " [ 1.52833167]\n",
            " [-1.11767031]\n",
            " [-2.0639778 ]\n",
            " [ 0.94101102]\n",
            " [-3.3832568 ]]\n",
            "intercept: [22.81570745]\n",
            "training error: 22.680627104126046\n",
            "testing error: 25.94245796102764\n"
          ],
          "name": "stdout"
        },
        {
          "output_type": "execute_result",
          "data": {
            "text/plain": [
              "[<matplotlib.lines.Line2D at 0x7fe04a377828>]"
            ]
          },
          "metadata": {
            "tags": []
          },
          "execution_count": 11
        },
        {
          "output_type": "display_data",
          "data": {
            "image/png": "[encoded data removed]",
            "text/plain": [
              "<Figure size 432x288 with 1 Axes>"
            ]
          },
          "metadata": {
            "tags": [],
            "needs_background": "light"
          }
        }
      ]
    }
  ]
}