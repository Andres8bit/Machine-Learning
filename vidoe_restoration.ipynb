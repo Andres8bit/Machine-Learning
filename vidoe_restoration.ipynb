{
  "nbformat": 4,
  "nbformat_minor": 0,
  "metadata": {
    "colab": {
      "name": "vidoe_restoration.ipynb",
      "provenance": [],
      "authorship_tag": "ABX9TyNP4Gmi/5wKmNXUohm17FUF",
      "include_colab_link": true
    },
    "kernelspec": {
      "name": "python3",
      "display_name": "Python 3"
    },
    "language_info": {
      "name": "python"
    }
  },
  "cells": [
    {
      "cell_type": "markdown",
      "metadata": {
        "id": "view-in-github",
        "colab_type": "text"
      },
      "source": [
        "<a href=\"https://colab.research.google.com/github/Andres8bit/Machine-Learning/blob/main/vidoe_restoration.ipynb\" target=\"_parent\"><img src=\"https://colab.research.google.com/assets/colab-badge.svg\" alt=\"Open In Colab\"/></a>"
      ]
    },
    {
      "cell_type": "code",
      "metadata": {
        "colab": {
          "base_uri": "https://localhost:8080/"
        },
        "id": "InHqTV8ff-tX",
        "outputId": "f9b595ac-9ccc-43a3-df01-81a2d414bfc6"
      },
      "source": [
        "from google.colab import drive\n",
        "drive.mount('/content/drive')"
      ],
      "execution_count": 1,
      "outputs": [
        {
          "output_type": "stream",
          "text": [
            "Mounted at /content/drive\n"
          ],
          "name": "stdout"
        }
      ]
    },
    {
      "cell_type": "code",
      "metadata": {
        "id": "tVv5Hr1wgYRK"
      },
      "source": [
        "import cv2\n",
        "\n",
        "video = cv2.VideoCapture('/content/drive/MyDrive/Video_SuperImg/nasa_historic_photage.mp4')"
      ],
      "execution_count": 14,
      "outputs": []
    },
    {
      "cell_type": "code",
      "metadata": {
        "id": "G8xMjwDjhbwu"
      },
      "source": [
        "def vid_to_frame(video,sec,count):\n",
        "  video.set(cv2.CAP_PROP_POS_MSEC,sec*1000)\n",
        "  hasFrames,image = video.read()\n",
        "  if hasFrames:\n",
        "    cv2.imwrite(\"/content/drive/MyDrive/Video_SuperImg/frames\"+str(count)+\".jpg\",image)\n",
        "  \n",
        "  return hasFrames\n"
      ],
      "execution_count": 15,
      "outputs": []
    },
    {
      "cell_type": "code",
      "metadata": {
        "id": "Zfwk40aCjFJh"
      },
      "source": [
        "sec = 0\n",
        "frameRate = 0.5\n",
        "count = 1\n",
        "success = vid_to_frame(video,sec,count)\n",
        "while success:\n",
        "  count = count + 1\n",
        "  sec = sec + frameRate\n",
        "  sec = round(sec,2)\n",
        "  success = vid_to_frame(video,sec,count)"
      ],
      "execution_count": 16,
      "outputs": []
    }
  ]
}