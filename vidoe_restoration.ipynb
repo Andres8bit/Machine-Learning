{
  "nbformat": 4,
  "nbformat_minor": 0,
  "metadata": {
    "colab": {
      "name": "vidoe_restoration.ipynb",
      "provenance": [],
      "collapsed_sections": [],
      "authorship_tag": "ABX9TyNa4kHQDIL3LbxxtW4SXAo2",
      "include_colab_link": true
    },
    "kernelspec": {
      "name": "python3",
      "display_name": "Python 3"
    },
    "language_info": {
      "name": "python"
    }
  },
  "cells": [
    {
      "cell_type": "markdown",
      "metadata": {
        "id": "view-in-github",
        "colab_type": "text"
      },
      "source": [
        "<a href=\"https://colab.research.google.com/github/Andres8bit/Machine-Learning/blob/main/vidoe_restoration.ipynb\" target=\"_parent\"><img src=\"https://colab.research.google.com/assets/colab-badge.svg\" alt=\"Open In Colab\"/></a>"
      ]
    },
    {
      "cell_type": "code",
      "metadata": {
        "colab": {
          "base_uri": "https://localhost:8080/"
        },
        "id": "InHqTV8ff-tX",
        "outputId": "96303730-40dd-499f-e5a6-85d71330b7d4"
      },
      "source": [
        "from google.colab import drive\n",
        "drive.mount('/content/drive')"
      ],
      "execution_count": 1,
      "outputs": [
        {
          "output_type": "stream",
          "text": [
            "Drive already mounted at /content/drive; to attempt to forcibly remount, call drive.mount(\"/content/drive\", force_remount=True).\n"
          ],
          "name": "stdout"
        }
      ]
    },
    {
      "cell_type": "code",
      "metadata": {
        "id": "tVv5Hr1wgYRK"
      },
      "source": [
        "import cv2\n",
        "\n",
        "video = cv2.VideoCapture('/content/drive/MyDrive/Video_SuperImg/nasa_historic_photage.mp4')"
      ],
      "execution_count": null,
      "outputs": []
    },
    {
      "cell_type": "code",
      "metadata": {
        "id": "G8xMjwDjhbwu"
      },
      "source": [
        "def vid_to_frame(video,sec,count):\n",
        "  video.set(cv2.CAP_PROP_POS_MSEC,sec*1000)\n",
        "  hasFrames,image = video.read()\n",
        "  if hasFrames:\n",
        "    cv2.imwrite(\"/content/drive/MyDrive/Video_SuperImg/frames\"+str(count)+\".jpg\",image)\n",
        "  \n",
        "  return hasFrames\n"
      ],
      "execution_count": null,
      "outputs": []
    },
    {
      "cell_type": "code",
      "metadata": {
        "colab": {
          "base_uri": "https://localhost:8080/",
          "height": 334
        },
        "id": "Zfwk40aCjFJh",
        "outputId": "b280c2d7-56bb-4123-9e08-ceec5c0efc69"
      },
      "source": [
        "sec = 0\n",
        "frameRate = 0.5\n",
        "count = 1\n",
        "success = vid_to_frame(video,sec,count)\n",
        "while success:\n",
        "  count = count + 1\n",
        "  sec = sec + frameRate\n",
        "  sec = round(sec,2)\n",
        "  success = vid_to_frame(video,sec,count)"
      ],
      "execution_count": null,
      "outputs": [
        {
          "output_type": "error",
          "ename": "KeyboardInterrupt",
          "evalue": "ignored",
          "traceback": [
            "\u001b[0;31m---------------------------------------------------------------------------\u001b[0m",
            "\u001b[0;31mKeyboardInterrupt\u001b[0m                         Traceback (most recent call last)",
            "\u001b[0;32m<ipython-input-16-b457dbb5f736>\u001b[0m in \u001b[0;36m<module>\u001b[0;34m()\u001b[0m\n\u001b[1;32m      7\u001b[0m   \u001b[0msec\u001b[0m \u001b[0;34m=\u001b[0m \u001b[0msec\u001b[0m \u001b[0;34m+\u001b[0m \u001b[0mframeRate\u001b[0m\u001b[0;34m\u001b[0m\u001b[0;34m\u001b[0m\u001b[0m\n\u001b[1;32m      8\u001b[0m   \u001b[0msec\u001b[0m \u001b[0;34m=\u001b[0m \u001b[0mround\u001b[0m\u001b[0;34m(\u001b[0m\u001b[0msec\u001b[0m\u001b[0;34m,\u001b[0m\u001b[0;36m2\u001b[0m\u001b[0;34m)\u001b[0m\u001b[0;34m\u001b[0m\u001b[0;34m\u001b[0m\u001b[0m\n\u001b[0;32m----> 9\u001b[0;31m   \u001b[0msuccess\u001b[0m \u001b[0;34m=\u001b[0m \u001b[0mvid_to_frame\u001b[0m\u001b[0;34m(\u001b[0m\u001b[0mvideo\u001b[0m\u001b[0;34m,\u001b[0m\u001b[0msec\u001b[0m\u001b[0;34m,\u001b[0m\u001b[0mcount\u001b[0m\u001b[0;34m)\u001b[0m\u001b[0;34m\u001b[0m\u001b[0;34m\u001b[0m\u001b[0m\n\u001b[0m",
            "\u001b[0;32m<ipython-input-13-0523d422f891>\u001b[0m in \u001b[0;36mvid_to_frame\u001b[0;34m(video, sec, count)\u001b[0m\n\u001b[1;32m      3\u001b[0m   \u001b[0mhasFrames\u001b[0m\u001b[0;34m,\u001b[0m\u001b[0mimage\u001b[0m \u001b[0;34m=\u001b[0m \u001b[0mvideo\u001b[0m\u001b[0;34m.\u001b[0m\u001b[0mread\u001b[0m\u001b[0;34m(\u001b[0m\u001b[0;34m)\u001b[0m\u001b[0;34m\u001b[0m\u001b[0;34m\u001b[0m\u001b[0m\n\u001b[1;32m      4\u001b[0m   \u001b[0;32mif\u001b[0m \u001b[0mhasFrames\u001b[0m\u001b[0;34m:\u001b[0m\u001b[0;34m\u001b[0m\u001b[0;34m\u001b[0m\u001b[0m\n\u001b[0;32m----> 5\u001b[0;31m     \u001b[0mcv2\u001b[0m\u001b[0;34m.\u001b[0m\u001b[0mimwrite\u001b[0m\u001b[0;34m(\u001b[0m\u001b[0;34m\"/content/drive/MyDrive/Video_SuperImg/frames\"\u001b[0m\u001b[0;34m+\u001b[0m\u001b[0mstr\u001b[0m\u001b[0;34m(\u001b[0m\u001b[0mcount\u001b[0m\u001b[0;34m)\u001b[0m\u001b[0;34m+\u001b[0m\u001b[0;34m\".jpg\"\u001b[0m\u001b[0;34m,\u001b[0m\u001b[0mimage\u001b[0m\u001b[0;34m)\u001b[0m\u001b[0;34m\u001b[0m\u001b[0;34m\u001b[0m\u001b[0m\n\u001b[0m\u001b[1;32m      6\u001b[0m \u001b[0;34m\u001b[0m\u001b[0m\n\u001b[1;32m      7\u001b[0m   \u001b[0;32mreturn\u001b[0m \u001b[0mhasFrames\u001b[0m\u001b[0;34m\u001b[0m\u001b[0;34m\u001b[0m\u001b[0m\n",
            "\u001b[0;31mKeyboardInterrupt\u001b[0m: "
          ]
        }
      ]
    },
    {
      "cell_type": "code",
      "metadata": {
        "colab": {
          "base_uri": "https://localhost:8080/"
        },
        "id": "dJ7PI7TJyDRN",
        "outputId": "163a8302-dc83-41bf-c2ae-6cc1c5ed7727"
      },
      "source": [
        "from tensorflow import keras\n",
        "import tensorflow as tf\n",
        "model = keras.models.load_model(\"/content/drive/MyDrive/saved_models/super_img\")\n",
        "model.summary()"
      ],
      "execution_count": 4,
      "outputs": [
        {
          "output_type": "stream",
          "text": [
            "Model: \"model\"\n",
            "_________________________________________________________________\n",
            "Layer (type)                 Output Shape              Param #   \n",
            "=================================================================\n",
            "input_1 (InputLayer)         [(None, None, None, 1)]   0         \n",
            "_________________________________________________________________\n",
            "conv2d (Conv2D)              (None, None, None, 64)    1664      \n",
            "_________________________________________________________________\n",
            "conv2d_1 (Conv2D)            (None, None, None, 64)    36928     \n",
            "_________________________________________________________________\n",
            "conv2d_2 (Conv2D)            (None, None, None, 32)    18464     \n",
            "_________________________________________________________________\n",
            "conv2d_3 (Conv2D)            (None, None, None, 9)     2601      \n",
            "_________________________________________________________________\n",
            "tf.nn.depth_to_space (TFOpLa (None, None, None, 1)     0         \n",
            "=================================================================\n",
            "Total params: 59,657\n",
            "Trainable params: 59,657\n",
            "Non-trainable params: 0\n",
            "_________________________________________________________________\n"
          ],
          "name": "stdout"
        }
      ]
    },
    {
      "cell_type": "code",
      "metadata": {
        "colab": {
          "base_uri": "https://localhost:8080/"
        },
        "id": "6s2G2N2r1r06",
        "outputId": "8b76febb-58e8-4674-bb4d-63d84f7df705"
      },
      "source": [
        "from tensorflow.keras.preprocessing import image_dataset_from_directory\n",
        "\n",
        "\n",
        "img_dir = '/content/drive/MyDrive/Video_SuperImg/frames'\n",
        "images =  [os.path.join(img_dir, x) for x in os.listdir(img_dir) if x.endswith('.jpg')]\n",
        "print(os.listdir(img_dir))"
      ],
      "execution_count": null,
      "outputs": [
        {
          "output_type": "stream",
          "text": [
            "[]\n"
          ],
          "name": "stdout"
        }
      ]
    },
    {
      "cell_type": "code",
      "metadata": {
        "id": "bfFiuPq59JVv"
      },
      "source": [
        "def parse_images(path):\n",
        "  content = tf.io.read_file(path)\n",
        "  images = tf.image.decode_jpeg(content,channels=1)\n",
        "  images = tf.image.resize(images,(512,512,3))\n",
        "  return images"
      ],
      "execution_count": null,
      "outputs": []
    },
    {
      "cell_type": "code",
      "metadata": {
        "id": "r70L8m0hCdhm"
      },
      "source": [
        "def load_dataset(dir):\n",
        "  i = 0\n",
        "  files = os.listdir(dir)\n",
        "  data_set = np.zeros((len(files),240,320,3))\n",
        "  for f in files:\n",
        "    if f.endswith('.jpg') and i != data_set.shape[0]-1:\n",
        "      temp = tf.io.read_file(dir + '/' + f)\n",
        "      data = tf.image.decode_jpeg(temp,channels=3)  \n",
        "      i += 1\n",
        "      data_set[i] = data\n",
        "  data_set = tf.cast(data_set,tf.float32)\n",
        "  return data_set"
      ],
      "execution_count": 1,
      "outputs": []
    },
    {
      "cell_type": "code",
      "metadata": {
        "id": "7uD2AGEGBIK8",
        "colab": {
          "base_uri": "https://localhost:8080/"
        },
        "outputId": "1b7f0051-fb71-4447-9891-b05607681a2d"
      },
      "source": [
        "import numpy as np\n",
        "import os\n",
        "import tensorflow as tf\n",
        "dataset = load_dataset('/content/drive/MyDrive/Video_SuperImg')\n",
        "dataset"
      ],
      "execution_count": 2,
      "outputs": [
        {
          "output_type": "execute_result",
          "data": {
            "text/plain": [
              "<tf.Tensor: shape=(2976, 240, 320, 3), dtype=float32, numpy=\n",
              "array([[[[ 0.,  0.,  0.],\n",
              "         [ 0.,  0.,  0.],\n",
              "         [ 0.,  0.,  0.],\n",
              "         ...,\n",
              "         [ 0.,  0.,  0.],\n",
              "         [ 0.,  0.,  0.],\n",
              "         [ 0.,  0.,  0.]],\n",
              "\n",
              "        [[ 0.,  0.,  0.],\n",
              "         [ 0.,  0.,  0.],\n",
              "         [ 0.,  0.,  0.],\n",
              "         ...,\n",
              "         [ 0.,  0.,  0.],\n",
              "         [ 0.,  0.,  0.],\n",
              "         [ 0.,  0.,  0.]],\n",
              "\n",
              "        [[ 0.,  0.,  0.],\n",
              "         [ 0.,  0.,  0.],\n",
              "         [ 0.,  0.,  0.],\n",
              "         ...,\n",
              "         [ 0.,  0.,  0.],\n",
              "         [ 0.,  0.,  0.],\n",
              "         [ 0.,  0.,  0.]],\n",
              "\n",
              "        ...,\n",
              "\n",
              "        [[ 0.,  0.,  0.],\n",
              "         [ 0.,  0.,  0.],\n",
              "         [ 0.,  0.,  0.],\n",
              "         ...,\n",
              "         [ 0.,  0.,  0.],\n",
              "         [ 0.,  0.,  0.],\n",
              "         [ 0.,  0.,  0.]],\n",
              "\n",
              "        [[ 0.,  0.,  0.],\n",
              "         [ 0.,  0.,  0.],\n",
              "         [ 0.,  0.,  0.],\n",
              "         ...,\n",
              "         [ 0.,  0.,  0.],\n",
              "         [ 0.,  0.,  0.],\n",
              "         [ 0.,  0.,  0.]],\n",
              "\n",
              "        [[ 0.,  0.,  0.],\n",
              "         [ 0.,  0.,  0.],\n",
              "         [ 0.,  0.,  0.],\n",
              "         ...,\n",
              "         [ 0.,  0.,  0.],\n",
              "         [ 0.,  0.,  0.],\n",
              "         [ 0.,  0.,  0.]]],\n",
              "\n",
              "\n",
              "       [[[ 1.,  0.,  0.],\n",
              "         [ 1.,  0.,  0.],\n",
              "         [ 4.,  1.,  0.],\n",
              "         ...,\n",
              "         [ 0.,  0.,  2.],\n",
              "         [ 0.,  0.,  2.],\n",
              "         [ 0.,  0.,  2.]],\n",
              "\n",
              "        [[ 1.,  0.,  0.],\n",
              "         [ 1.,  0.,  0.],\n",
              "         [ 3.,  0.,  0.],\n",
              "         ...,\n",
              "         [ 1.,  1.,  3.],\n",
              "         [ 0.,  0.,  2.],\n",
              "         [ 0.,  0.,  2.]],\n",
              "\n",
              "        [[ 1.,  0.,  0.],\n",
              "         [ 1.,  0.,  0.],\n",
              "         [ 3.,  0.,  0.],\n",
              "         ...,\n",
              "         [ 0.,  0.,  2.],\n",
              "         [ 0.,  0.,  2.],\n",
              "         [ 0.,  0.,  2.]],\n",
              "\n",
              "        ...,\n",
              "\n",
              "        [[ 0.,  0.,  4.],\n",
              "         [ 1.,  0.,  2.],\n",
              "         [13.,  0.,  0.],\n",
              "         ...,\n",
              "         [ 0.,  1.,  7.],\n",
              "         [ 0.,  0.,  5.],\n",
              "         [ 0.,  0.,  4.]],\n",
              "\n",
              "        [[ 0.,  0.,  4.],\n",
              "         [ 1.,  0.,  2.],\n",
              "         [13.,  0.,  1.],\n",
              "         ...,\n",
              "         [ 0.,  1.,  7.],\n",
              "         [ 0.,  0.,  5.],\n",
              "         [ 0.,  0.,  4.]],\n",
              "\n",
              "        [[ 0.,  0.,  4.],\n",
              "         [ 1.,  0.,  2.],\n",
              "         [13.,  0.,  1.],\n",
              "         ...,\n",
              "         [ 0.,  4., 10.],\n",
              "         [ 6.,  7., 12.],\n",
              "         [ 8.,  9., 13.]]],\n",
              "\n",
              "\n",
              "       [[[ 0.,  2.,  0.],\n",
              "         [ 0.,  2.,  0.],\n",
              "         [ 0.,  2.,  0.],\n",
              "         ...,\n",
              "         [ 0.,  1.,  0.],\n",
              "         [ 0.,  0.,  0.],\n",
              "         [ 0.,  0.,  0.]],\n",
              "\n",
              "        [[ 0.,  2.,  0.],\n",
              "         [ 0.,  2.,  0.],\n",
              "         [ 0.,  2.,  0.],\n",
              "         ...,\n",
              "         [ 0.,  1.,  0.],\n",
              "         [ 0.,  0.,  0.],\n",
              "         [ 0.,  0.,  0.]],\n",
              "\n",
              "        [[ 0.,  2.,  0.],\n",
              "         [ 0.,  2.,  0.],\n",
              "         [ 0.,  2.,  0.],\n",
              "         ...,\n",
              "         [ 0.,  0.,  2.],\n",
              "         [ 0.,  0.,  2.],\n",
              "         [ 0.,  0.,  2.]],\n",
              "\n",
              "        ...,\n",
              "\n",
              "        [[ 6.,  0.,  0.],\n",
              "         [ 8.,  0.,  0.],\n",
              "         [19.,  0.,  0.],\n",
              "         ...,\n",
              "         [ 0.,  1.,  4.],\n",
              "         [ 0.,  0.,  4.],\n",
              "         [ 0.,  0.,  2.]],\n",
              "\n",
              "        [[ 6.,  0.,  0.],\n",
              "         [ 8.,  0.,  0.],\n",
              "         [19.,  0.,  0.],\n",
              "         ...,\n",
              "         [ 0.,  1.,  4.],\n",
              "         [ 0.,  1.,  5.],\n",
              "         [ 9., 10., 12.]],\n",
              "\n",
              "        [[ 6.,  0.,  0.],\n",
              "         [ 8.,  0.,  0.],\n",
              "         [19.,  0.,  0.],\n",
              "         ...,\n",
              "         [ 0.,  2.,  5.],\n",
              "         [ 6.,  7., 11.],\n",
              "         [20., 21., 23.]]],\n",
              "\n",
              "\n",
              "       ...,\n",
              "\n",
              "\n",
              "       [[[ 0.,  2.,  0.],\n",
              "         [ 0.,  2.,  0.],\n",
              "         [ 0.,  4.,  2.],\n",
              "         ...,\n",
              "         [ 0.,  5.,  1.],\n",
              "         [ 0.,  3.,  0.],\n",
              "         [ 0.,  4.,  0.]],\n",
              "\n",
              "        [[ 0.,  2.,  0.],\n",
              "         [ 0.,  2.,  0.],\n",
              "         [ 0.,  4.,  2.],\n",
              "         ...,\n",
              "         [ 0.,  4.,  0.],\n",
              "         [ 0.,  2.,  0.],\n",
              "         [ 0.,  3.,  0.]],\n",
              "\n",
              "        [[ 0.,  2.,  0.],\n",
              "         [ 0.,  2.,  0.],\n",
              "         [ 0.,  4.,  2.],\n",
              "         ...,\n",
              "         [ 0.,  4.,  0.],\n",
              "         [ 0.,  2.,  0.],\n",
              "         [ 0.,  3.,  0.]],\n",
              "\n",
              "        ...,\n",
              "\n",
              "        [[ 0.,  1.,  0.],\n",
              "         [ 0.,  4.,  2.],\n",
              "         [ 0.,  2.,  2.],\n",
              "         ...,\n",
              "         [ 0.,  3.,  3.],\n",
              "         [ 0.,  1.,  2.],\n",
              "         [ 0.,  1.,  2.]],\n",
              "\n",
              "        [[ 0.,  1.,  0.],\n",
              "         [ 0.,  4.,  2.],\n",
              "         [ 0.,  2.,  2.],\n",
              "         ...,\n",
              "         [ 0.,  4.,  4.],\n",
              "         [ 0.,  1.,  2.],\n",
              "         [ 4.,  8.,  9.]],\n",
              "\n",
              "        [[ 0.,  1.,  0.],\n",
              "         [ 0.,  4.,  2.],\n",
              "         [ 0.,  2.,  2.],\n",
              "         ...,\n",
              "         [ 0.,  2.,  2.],\n",
              "         [ 1.,  5.,  6.],\n",
              "         [22., 26., 27.]]],\n",
              "\n",
              "\n",
              "       [[[ 0.,  0.,  0.],\n",
              "         [ 0.,  0.,  0.],\n",
              "         [ 0.,  0.,  0.],\n",
              "         ...,\n",
              "         [ 0.,  0.,  0.],\n",
              "         [ 0.,  0.,  0.],\n",
              "         [ 0.,  0.,  0.]],\n",
              "\n",
              "        [[ 0.,  0.,  0.],\n",
              "         [ 0.,  0.,  0.],\n",
              "         [ 0.,  0.,  0.],\n",
              "         ...,\n",
              "         [ 0.,  0.,  0.],\n",
              "         [ 0.,  0.,  0.],\n",
              "         [ 0.,  0.,  0.]],\n",
              "\n",
              "        [[ 0.,  0.,  0.],\n",
              "         [ 0.,  0.,  0.],\n",
              "         [ 0.,  0.,  0.],\n",
              "         ...,\n",
              "         [ 0.,  0.,  0.],\n",
              "         [ 0.,  0.,  0.],\n",
              "         [ 0.,  0.,  0.]],\n",
              "\n",
              "        ...,\n",
              "\n",
              "        [[ 0.,  0.,  0.],\n",
              "         [ 0.,  0.,  0.],\n",
              "         [ 0.,  0.,  0.],\n",
              "         ...,\n",
              "         [ 0.,  0.,  0.],\n",
              "         [ 0.,  0.,  0.],\n",
              "         [ 0.,  0.,  0.]],\n",
              "\n",
              "        [[ 0.,  0.,  0.],\n",
              "         [ 0.,  0.,  0.],\n",
              "         [ 0.,  0.,  0.],\n",
              "         ...,\n",
              "         [ 0.,  0.,  0.],\n",
              "         [ 0.,  0.,  0.],\n",
              "         [ 0.,  0.,  0.]],\n",
              "\n",
              "        [[ 0.,  0.,  0.],\n",
              "         [ 0.,  0.,  0.],\n",
              "         [ 0.,  0.,  0.],\n",
              "         ...,\n",
              "         [ 0.,  0.,  0.],\n",
              "         [ 0.,  0.,  0.],\n",
              "         [ 0.,  0.,  0.]]],\n",
              "\n",
              "\n",
              "       [[[ 0.,  0.,  0.],\n",
              "         [ 0.,  0.,  0.],\n",
              "         [ 0.,  0.,  0.],\n",
              "         ...,\n",
              "         [ 0.,  0.,  0.],\n",
              "         [ 0.,  0.,  0.],\n",
              "         [ 0.,  0.,  0.]],\n",
              "\n",
              "        [[ 0.,  0.,  0.],\n",
              "         [ 0.,  0.,  0.],\n",
              "         [ 0.,  0.,  0.],\n",
              "         ...,\n",
              "         [ 0.,  0.,  0.],\n",
              "         [ 0.,  0.,  0.],\n",
              "         [ 0.,  0.,  0.]],\n",
              "\n",
              "        [[ 0.,  0.,  0.],\n",
              "         [ 0.,  0.,  0.],\n",
              "         [ 0.,  0.,  0.],\n",
              "         ...,\n",
              "         [ 0.,  0.,  0.],\n",
              "         [ 0.,  0.,  0.],\n",
              "         [ 0.,  0.,  0.]],\n",
              "\n",
              "        ...,\n",
              "\n",
              "        [[ 0.,  0.,  0.],\n",
              "         [ 0.,  0.,  0.],\n",
              "         [ 0.,  0.,  0.],\n",
              "         ...,\n",
              "         [ 0.,  0.,  0.],\n",
              "         [ 0.,  0.,  0.],\n",
              "         [ 0.,  0.,  0.]],\n",
              "\n",
              "        [[ 0.,  0.,  0.],\n",
              "         [ 0.,  0.,  0.],\n",
              "         [ 0.,  0.,  0.],\n",
              "         ...,\n",
              "         [ 0.,  0.,  0.],\n",
              "         [ 0.,  0.,  0.],\n",
              "         [ 0.,  0.,  0.]],\n",
              "\n",
              "        [[ 0.,  0.,  0.],\n",
              "         [ 0.,  0.,  0.],\n",
              "         [ 0.,  0.,  0.],\n",
              "         ...,\n",
              "         [ 0.,  0.,  0.],\n",
              "         [ 0.,  0.,  0.],\n",
              "         [ 0.,  0.,  0.]]]], dtype=float32)>"
            ]
          },
          "metadata": {
            "tags": []
          },
          "execution_count": 2
        }
      ]
    },
    {
      "cell_type": "code",
      "metadata": {
        "colab": {
          "base_uri": "https://localhost:8080/"
        },
        "id": "9wIV4I0TECWk",
        "outputId": "1d98e651-0de9-4207-eaec-d5d2e861db99"
      },
      "source": [
        "dataset.shape"
      ],
      "execution_count": 3,
      "outputs": [
        {
          "output_type": "execute_result",
          "data": {
            "text/plain": [
              "TensorShape([2976, 240, 320, 3])"
            ]
          },
          "metadata": {
            "tags": []
          },
          "execution_count": 3
        }
      ]
    },
    {
      "cell_type": "code",
      "metadata": {
        "id": "r6z3n9nyJicH"
      },
      "source": [
        "img = model.predict(dataset[0])"
      ],
      "execution_count": 7,
      "outputs": []
    },
    {
      "cell_type": "code",
      "metadata": {
        "id": "MlkR3wxXNO0y",
        "outputId": "a7940167-f74c-4152-a16f-4d468b3a5aad",
        "colab": {
          "base_uri": "https://localhost:8080/"
        }
      },
      "source": [
        "img.shape"
      ],
      "execution_count": 14,
      "outputs": [
        {
          "output_type": "execute_result",
          "data": {
            "text/plain": [
              "(240, 960, 9, 1)"
            ]
          },
          "metadata": {
            "tags": []
          },
          "execution_count": 14
        }
      ]
    }
  ]
}