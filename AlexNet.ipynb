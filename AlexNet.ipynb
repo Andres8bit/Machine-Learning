{
  "nbformat": 4,
  "nbformat_minor": 0,
  "metadata": {
    "accelerator": "TPU",
    "colab": {
      "name": "AlexNet.ipynb",
      "provenance": [],
      "authorship_tag": "ABX9TyOzOopAf5zKG+TVXnkpYwmw",
      "include_colab_link": true
    },
    "kernelspec": {
      "display_name": "Python 3",
      "name": "python3"
    },
    "language_info": {
      "name": "python"
    }
  },
  "cells": [
    {
      "cell_type": "markdown",
      "metadata": {
        "id": "view-in-github",
        "colab_type": "text"
      },
      "source": [
        "<a href=\"https://colab.research.google.com/github/Andres8bit/Machine-Learning/blob/main/AlexNet.ipynb\" target=\"_parent\"><img src=\"https://colab.research.google.com/assets/colab-badge.svg\" alt=\"Open In Colab\"/></a>"
      ]
    },
    {
      "cell_type": "code",
      "metadata": {
        "colab": {
          "base_uri": "https://localhost:8080/"
        },
        "id": "A0mcRHSqCgSv",
        "outputId": "e55e5aad-5703-4265-d2b2-b311d7b12f8f"
      },
      "source": [
        "# To large to Train on Free GPU access: \n",
        "#           One Epoch took longer than 1 hour\n",
        "from keras.models import Sequential\n",
        "from keras.regularizers import L2\n",
        "from keras.optimizers import SGD\n",
        "from tensorflow.keras.preprocessing import image_dataset_from_directory\n",
        "from keras.layers import Conv2D, AveragePooling2D, Flatten, Dense, Activation, MaxPool2D,BatchNormalization,Dropout\n",
        "from tensorflow.keras.callbacks import ReduceLROnPlateau\n",
        "import os\n",
        "import sys\n",
        "import numpy as np \n",
        "import pandas as pd \n",
        "import matplotlib.pyplot as plt\n",
        "import tensorflow as tf\n",
        "from google.colab import drive\n",
        "drive.mount('/content/drive')"
      ],
      "execution_count": null,
      "outputs": [
        {
          "output_type": "stream",
          "text": [
            "Mounted at /content/drive\n"
          ],
          "name": "stdout"
        }
      ]
    },
    {
      "cell_type": "code",
      "metadata": {
        "id": "xjf0WDpI4U92"
      },
      "source": [
        "# Dataset Download:\n",
        "base_path = \"/content/drive/MyDrive/bird Species.zip (Unzipped Files)\"\n",
        "train_path = os.path.join(base_path,'train')\n",
        "test_path = os.path.join(base_path,'test')\n",
        "validation_path = os.path.join(base_path,'valid')"
      ],
      "execution_count": null,
      "outputs": []
    },
    {
      "cell_type": "code",
      "metadata": {
        "colab": {
          "base_uri": "https://localhost:8080/"
        },
        "id": "sUbwg1ab5CfG",
        "outputId": "15dcc909-c102-4f7b-d5f9-634488850cd9"
      },
      "source": [
        "# Load Datasets to Tensorflow Dataset:\n",
        "training_set = image_dataset_from_directory( directory=train_path, labels='inferred', label_mode='categorical', class_names=None,\n",
        "    color_mode='rgb', batch_size=32, image_size=(227, 227),\n",
        "    shuffle=True)\n",
        "test_set = image_dataset_from_directory(test_path,labels='inferred',label_mode='categorical',class_names=None,color_mode='rgb',batch_size=32,shuffle=True,image_size=(227,227))\n",
        "valid_set = image_dataset_from_directory(validation_path,labels='inferred',label_mode='categorical',class_names=None,color_mode='rgb',shuffle=True,batch_size=32,image_size=(227,227))"
      ],
      "execution_count": null,
      "outputs": [
        {
          "output_type": "stream",
          "text": [
            "Found 39364 files belonging to 275 classes.\n",
            "Found 1375 files belonging to 275 classes.\n",
            "Found 1375 files belonging to 275 classes.\n"
          ],
          "name": "stdout"
        }
      ]
    },
    {
      "cell_type": "code",
      "metadata": {
        "colab": {
          "base_uri": "https://localhost:8080/"
        },
        "id": "OTgmJBthIEUP",
        "outputId": "64c2bcbc-6b38-458d-ccce-9ab13e93cade"
      },
      "source": [
        "training_set.class_names"
      ],
      "execution_count": null,
      "outputs": [
        {
          "output_type": "execute_result",
          "data": {
            "text/plain": [
              "['AFRICAN CROWNED CRANE',\n",
              " 'AFRICAN FIREFINCH',\n",
              " 'ALBATROSS',\n",
              " 'ALEXANDRINE PARAKEET',\n",
              " 'AMERICAN AVOCET',\n",
              " 'AMERICAN BITTERN',\n",
              " 'AMERICAN COOT',\n",
              " 'AMERICAN GOLDFINCH',\n",
              " 'AMERICAN KESTREL',\n",
              " 'AMERICAN PIPIT',\n",
              " 'AMERICAN REDSTART',\n",
              " 'ANHINGA',\n",
              " 'ANNAS HUMMINGBIRD',\n",
              " 'ANTBIRD',\n",
              " 'ARARIPE MANAKIN',\n",
              " 'ASIAN CRESTED IBIS',\n",
              " 'BALD EAGLE',\n",
              " 'BALI STARLING',\n",
              " 'BALTIMORE ORIOLE',\n",
              " 'BANANAQUIT',\n",
              " 'BANDED BROADBILL',\n",
              " 'BAR-TAILED GODWIT',\n",
              " 'BARN OWL',\n",
              " 'BARN SWALLOW',\n",
              " 'BARRED PUFFBIRD',\n",
              " 'BAY-BREASTED WARBLER',\n",
              " 'BEARDED BARBET',\n",
              " 'BEARDED REEDLING',\n",
              " 'BELTED KINGFISHER',\n",
              " 'BIRD OF PARADISE',\n",
              " 'BLACK & YELLOW bROADBILL',\n",
              " 'BLACK FRANCOLIN',\n",
              " 'BLACK SKIMMER',\n",
              " 'BLACK SWAN',\n",
              " 'BLACK TAIL CRAKE',\n",
              " 'BLACK THROATED BUSHTIT',\n",
              " 'BLACK THROATED WARBLER',\n",
              " 'BLACK VULTURE',\n",
              " 'BLACK-CAPPED CHICKADEE',\n",
              " 'BLACK-NECKED GREBE',\n",
              " 'BLACK-THROATED SPARROW',\n",
              " 'BLACKBURNIAM WARBLER',\n",
              " 'BLUE GROUSE',\n",
              " 'BLUE HERON',\n",
              " 'BOBOLINK',\n",
              " 'BORNEAN BRISTLEHEAD',\n",
              " 'BORNEAN LEAFBIRD',\n",
              " 'BROWN NOODY',\n",
              " 'BROWN THRASHER',\n",
              " 'BULWERS PHEASANT',\n",
              " 'CACTUS WREN',\n",
              " 'CALIFORNIA CONDOR',\n",
              " 'CALIFORNIA GULL',\n",
              " 'CALIFORNIA QUAIL',\n",
              " 'CANARY',\n",
              " 'CAPE MAY WARBLER',\n",
              " 'CAPUCHINBIRD',\n",
              " 'CARMINE BEE-EATER',\n",
              " 'CASPIAN TERN',\n",
              " 'CASSOWARY',\n",
              " 'CEDAR WAXWING',\n",
              " 'CHARA DE COLLAR',\n",
              " 'CHIPPING SPARROW',\n",
              " 'CHUKAR PARTRIDGE',\n",
              " 'CINNAMON TEAL',\n",
              " 'CLARKS NUTCRACKER',\n",
              " 'COCK OF THE  ROCK',\n",
              " 'COCKATOO',\n",
              " 'COMMON FIRECREST',\n",
              " 'COMMON GRACKLE',\n",
              " 'COMMON HOUSE MARTIN',\n",
              " 'COMMON LOON',\n",
              " 'COMMON POORWILL',\n",
              " 'COMMON STARLING',\n",
              " 'COUCHS KINGBIRD',\n",
              " 'CRESTED AUKLET',\n",
              " 'CRESTED CARACARA',\n",
              " 'CRESTED NUTHATCH',\n",
              " 'CROW',\n",
              " 'CROWNED PIGEON',\n",
              " 'CUBAN TODY',\n",
              " 'CURL CRESTED ARACURI',\n",
              " 'D-ARNAUDS BARBET',\n",
              " 'DARK EYED JUNCO',\n",
              " 'DOUBLE BARRED FINCH',\n",
              " 'DOWNY WOODPECKER',\n",
              " 'EASTERN BLUEBIRD',\n",
              " 'EASTERN MEADOWLARK',\n",
              " 'EASTERN ROSELLA',\n",
              " 'EASTERN TOWEE',\n",
              " 'ELEGANT TROGON',\n",
              " 'ELLIOTS  PHEASANT',\n",
              " 'EMPEROR PENGUIN',\n",
              " 'EMU',\n",
              " 'ENGGANO MYNA',\n",
              " 'EURASIAN GOLDEN ORIOLE',\n",
              " 'EURASIAN MAGPIE',\n",
              " 'EVENING GROSBEAK',\n",
              " 'FIRE TAILLED MYZORNIS',\n",
              " 'FLAME TANAGER',\n",
              " 'FLAMINGO',\n",
              " 'FRIGATE',\n",
              " 'GAMBELS QUAIL',\n",
              " 'GANG GANG COCKATOO',\n",
              " 'GILA WOODPECKER',\n",
              " 'GILDED FLICKER',\n",
              " 'GLOSSY IBIS',\n",
              " 'GO AWAY BIRD',\n",
              " 'GOLD WING WARBLER',\n",
              " 'GOLDEN CHEEKED WARBLER',\n",
              " 'GOLDEN CHLOROPHONIA',\n",
              " 'GOLDEN EAGLE',\n",
              " 'GOLDEN PHEASANT',\n",
              " 'GOLDEN PIPIT',\n",
              " 'GOULDIAN FINCH',\n",
              " 'GRAY CATBIRD',\n",
              " 'GRAY PARTRIDGE',\n",
              " 'GREAT POTOO',\n",
              " 'GREATOR SAGE GROUSE',\n",
              " 'GREEN JAY',\n",
              " 'GREEN MAGPIE',\n",
              " 'GREY PLOVER',\n",
              " 'GUINEA TURACO',\n",
              " 'GUINEAFOWL',\n",
              " 'GYRFALCON',\n",
              " 'HARPY EAGLE',\n",
              " 'HAWAIIAN GOOSE',\n",
              " 'HELMET VANGA',\n",
              " 'HIMALAYAN MONAL',\n",
              " 'HOATZIN',\n",
              " 'HOODED MERGANSER',\n",
              " 'HOOPOES',\n",
              " 'HORNBILL',\n",
              " 'HORNED GUAN',\n",
              " 'HORNED SUNGEM',\n",
              " 'HOUSE FINCH',\n",
              " 'HOUSE SPARROW',\n",
              " 'IMPERIAL SHAQ',\n",
              " 'INCA TERN',\n",
              " 'INDIAN BUSTARD',\n",
              " 'INDIAN PITTA',\n",
              " 'INDIGO BUNTING',\n",
              " 'JABIRU',\n",
              " 'JAVA SPARROW',\n",
              " 'KAKAPO',\n",
              " 'KILLDEAR',\n",
              " 'KING VULTURE',\n",
              " 'KIWI',\n",
              " 'KOOKABURRA',\n",
              " 'LARK BUNTING',\n",
              " 'LEARS MACAW',\n",
              " 'LILAC ROLLER',\n",
              " 'LONG-EARED OWL',\n",
              " 'MAGPIE GOOSE',\n",
              " 'MALABAR HORNBILL',\n",
              " 'MALACHITE KINGFISHER',\n",
              " 'MALEO',\n",
              " 'MALLARD DUCK',\n",
              " 'MANDRIN DUCK',\n",
              " 'MARABOU STORK',\n",
              " 'MASKED BOOBY',\n",
              " 'MASKED LAPWING',\n",
              " 'MIKADO  PHEASANT',\n",
              " 'MOURNING DOVE',\n",
              " 'MYNA',\n",
              " 'NICOBAR PIGEON',\n",
              " 'NOISY FRIARBIRD',\n",
              " 'NORTHERN BALD IBIS',\n",
              " 'NORTHERN CARDINAL',\n",
              " 'NORTHERN FLICKER',\n",
              " 'NORTHERN GANNET',\n",
              " 'NORTHERN GOSHAWK',\n",
              " 'NORTHERN JACANA',\n",
              " 'NORTHERN MOCKINGBIRD',\n",
              " 'NORTHERN PARULA',\n",
              " 'NORTHERN RED BISHOP',\n",
              " 'NORTHERN SHOVELER',\n",
              " 'OCELLATED TURKEY',\n",
              " 'OKINAWA RAIL',\n",
              " 'OSPREY',\n",
              " 'OSTRICH',\n",
              " 'OVENBIRD',\n",
              " 'OYSTER CATCHER',\n",
              " 'PAINTED BUNTIG',\n",
              " 'PALILA',\n",
              " 'PARADISE TANAGER',\n",
              " 'PARAKETT  AKULET',\n",
              " 'PARUS MAJOR',\n",
              " 'PEACOCK',\n",
              " 'PELICAN',\n",
              " 'PEREGRINE FALCON',\n",
              " 'PHILIPPINE EAGLE',\n",
              " 'PINK ROBIN',\n",
              " 'PUFFIN',\n",
              " 'PURPLE FINCH',\n",
              " 'PURPLE GALLINULE',\n",
              " 'PURPLE MARTIN',\n",
              " 'PURPLE SWAMPHEN',\n",
              " 'PYGMY KINGFISHER',\n",
              " 'QUETZAL',\n",
              " 'RAINBOW LORIKEET',\n",
              " 'RAZORBILL',\n",
              " 'RED BEARDED BEE EATER',\n",
              " 'RED BELLIED PITTA',\n",
              " 'RED BROWED FINCH',\n",
              " 'RED FACED CORMORANT',\n",
              " 'RED FACED WARBLER',\n",
              " 'RED HEADED DUCK',\n",
              " 'RED HEADED WOODPECKER',\n",
              " 'RED HONEY CREEPER',\n",
              " 'RED TAILED THRUSH',\n",
              " 'RED WINGED BLACKBIRD',\n",
              " 'RED WISKERED BULBUL',\n",
              " 'REGENT BOWERBIRD',\n",
              " 'RING-NECKED PHEASANT',\n",
              " 'ROADRUNNER',\n",
              " 'ROBIN',\n",
              " 'ROCK DOVE',\n",
              " 'ROSY FACED LOVEBIRD',\n",
              " 'ROUGH LEG BUZZARD',\n",
              " 'ROYAL FLYCATCHER',\n",
              " 'RUBY THROATED HUMMINGBIRD',\n",
              " 'RUFOUS KINGFISHER',\n",
              " 'RUFUOS MOTMOT',\n",
              " 'SAMATRAN THRUSH',\n",
              " 'SAND MARTIN',\n",
              " 'SCARLET IBIS',\n",
              " 'SCARLET MACAW',\n",
              " 'SHOEBILL',\n",
              " 'SHORT BILLED DOWITCHER',\n",
              " 'SMITHS LONGSPUR',\n",
              " 'SNOWY EGRET',\n",
              " 'SNOWY OWL',\n",
              " 'SORA',\n",
              " 'SPANGLED COTINGA',\n",
              " 'SPLENDID WREN',\n",
              " 'SPOON BILED SANDPIPER',\n",
              " 'SPOONBILL',\n",
              " 'SRI LANKA BLUE MAGPIE',\n",
              " 'STEAMER DUCK',\n",
              " 'STORK BILLED KINGFISHER',\n",
              " 'STRAWBERRY FINCH',\n",
              " 'STRIPPED SWALLOW',\n",
              " 'SUPERB STARLING',\n",
              " 'SWINHOES PHEASANT',\n",
              " 'TAIWAN MAGPIE',\n",
              " 'TAKAHE',\n",
              " 'TASMANIAN HEN',\n",
              " 'TEAL DUCK',\n",
              " 'TIT MOUSE',\n",
              " 'TOUCHAN',\n",
              " 'TOWNSENDS WARBLER',\n",
              " 'TREE SWALLOW',\n",
              " 'TRUMPTER SWAN',\n",
              " 'TURKEY VULTURE',\n",
              " 'TURQUOISE MOTMOT',\n",
              " 'UMBRELLA BIRD',\n",
              " 'VARIED THRUSH',\n",
              " 'VENEZUELIAN TROUPIAL',\n",
              " 'VERMILION FLYCATHER',\n",
              " 'VICTORIA CROWNED PIGEON',\n",
              " 'VIOLET GREEN SWALLOW',\n",
              " 'VULTURINE GUINEAFOWL',\n",
              " 'WATTLED CURASSOW',\n",
              " 'WHIMBREL',\n",
              " 'WHITE CHEEKED TURACO',\n",
              " 'WHITE NECKED RAVEN',\n",
              " 'WHITE TAILED TROPIC',\n",
              " 'WHITE THROATED BEE EATER',\n",
              " 'WILD TURKEY',\n",
              " 'WILSONS BIRD OF PARADISE',\n",
              " 'WOOD DUCK',\n",
              " 'YELLOW BELLIED FLOWERPECKER',\n",
              " 'YELLOW CACIQUE',\n",
              " 'YELLOW HEADED BLACKBIRD']"
            ]
          },
          "metadata": {
            "tags": []
          },
          "execution_count": 4
        }
      ]
    },
    {
      "cell_type": "code",
      "metadata": {
        "id": "sPfWvtgVMWZM"
      },
      "source": [
        ""
      ],
      "execution_count": null,
      "outputs": []
    },
    {
      "cell_type": "code",
      "metadata": {
        "id": "hmiyui9D7VU1"
      },
      "source": [
        "class_names = training_set.class_names\n",
        "\n",
        "# plt.figure(figsize=(12,12))\n",
        "# for images, labels in training_set.take(1):\n",
        "#     for i in range(9):\n",
        "#         ax = plt.subplot(3, 3, i + 1)\n",
        "#         plt.imshow(images[i].numpy().astype(\"uint8\"))\n",
        "#         plt.title(class_names[labels[i]])\n",
        "#         plt.axis(\"off\")"
      ],
      "execution_count": null,
      "outputs": []
    },
    {
      "cell_type": "code",
      "metadata": {
        "id": "FoD4uylA-BNv"
      },
      "source": [
        "# Buffered Prefetching for better performance by overlaping model execution and data preprocessing:\n",
        "AUTOTUNE = tf.data.AUTOTUNE\n",
        "\n",
        "training_set = training_set.prefetch(buffer_size=AUTOTUNE)\n",
        "test_set = test_set.prefetch(buffer_size=AUTOTUNE)\n",
        "valid_set = valid_set.prefetch(buffer_size=AUTOTUNE)"
      ],
      "execution_count": null,
      "outputs": []
    },
    {
      "cell_type": "code",
      "metadata": {
        "colab": {
          "base_uri": "https://localhost:8080/"
        },
        "id": "8GyJbNJuECL-",
        "outputId": "0708d755-07de-49cb-874b-68c0e9b5595e"
      },
      "source": [
        "# Model Architecture:\n",
        "model = Sequential()\n",
        "\n",
        "# 1st Convolutional layer, input = (227,227,3):\n",
        "model.add(Conv2D(filters=96,kernel_size=(11,11),strides=(4,4), padding='valid', \n",
        "                 input_shape=(227,227,3)))\n",
        "# Relu activation Layer:\n",
        "model.add(Activation('relu'))\n",
        "# Pooling Layer:\n",
        "model.add(MaxPool2D(pool_size=(3,3),strides=(2,2)))\n",
        "# BatchNormalization Layer:\n",
        "model.add(BatchNormalization())\n",
        "\n",
        "# 2nd Convolutional Layer:\n",
        "model.add(Conv2D(filters=256,kernel_size=(5,5),strides=(1,1),padding='same',\n",
        "                 kernel_regularizer=L2(0.0005)))\n",
        "# Relu activation Layer:\n",
        "model.add(Activation('relu'))\n",
        "# Pooling Layer:\n",
        "model.add(MaxPool2D(pool_size=(3,3),strides=(2,2),padding='valid'))\n",
        "# BatchNormalization Layer:\n",
        "model.add(BatchNormalization())\n",
        "\n",
        "# 3rd  Convolutional Layer:\n",
        "model.add(Conv2D(filters=384,kernel_size=(3,3),strides=(1,1),padding='same',\n",
        "                 kernel_regularizer=L2(0.0005)))\n",
        "# Relu Activation Layer:\n",
        "model.add(Activation('relu'))\n",
        "# BatchNormalization Layer:\n",
        "model.add(BatchNormalization())\n",
        "\n",
        "# 4th Convolutional Layer:\n",
        "model.add(Conv2D(filters=384,kernel_size=(3,3),strides=(1,1),padding='same', \n",
        "                 kernel_regularizer=L2(0.0005)))\n",
        "# Activation Layer:\n",
        "model.add(Activation('relu'))\n",
        "# BathNormalization:\n",
        "model.add(BatchNormalization())\n",
        "\n",
        "# 5th Convolutional Layer:\n",
        "model.add(Conv2D(filters=256,kernel_size=(3,3),strides=(1,1),padding='same',\n",
        "                 kernel_regularizer=L2(0.0005)))\n",
        "# Activation Layer:\n",
        "model.add(Activation('relu'))\n",
        "# BatchNormalization:\n",
        "model.add(BatchNormalization())\n",
        "# MaxPooling Layer:\n",
        "model.add(MaxPool2D(pool_size=(3,3),strides=(2,2),padding='valid'))\n",
        "\n",
        "# Flatten Convolution for Fully Connected Layers:\n",
        "model.add(Flatten())\n",
        "\n",
        "# 6th Dense Layer:\n",
        "model.add(Dense(units=4096,activation='relu'))\n",
        "# Dropout layer:\n",
        "model.add(Dropout(0.5))\n",
        "\n",
        "# 7th Dense Layer:\n",
        "model.add(Dense(units=275,activation='softmax'))\n",
        "\n",
        "model.build()\n",
        "model.summary()"
      ],
      "execution_count": null,
      "outputs": [
        {
          "output_type": "stream",
          "text": [
            "Model: \"sequential\"\n",
            "_________________________________________________________________\n",
            "Layer (type)                 Output Shape              Param #   \n",
            "=================================================================\n",
            "conv2d (Conv2D)              (None, 55, 55, 96)        34944     \n",
            "_________________________________________________________________\n",
            "activation (Activation)      (None, 55, 55, 96)        0         \n",
            "_________________________________________________________________\n",
            "max_pooling2d (MaxPooling2D) (None, 27, 27, 96)        0         \n",
            "_________________________________________________________________\n",
            "batch_normalization (BatchNo (None, 27, 27, 96)        384       \n",
            "_________________________________________________________________\n",
            "conv2d_1 (Conv2D)            (None, 27, 27, 256)       614656    \n",
            "_________________________________________________________________\n",
            "activation_1 (Activation)    (None, 27, 27, 256)       0         \n",
            "_________________________________________________________________\n",
            "max_pooling2d_1 (MaxPooling2 (None, 13, 13, 256)       0         \n",
            "_________________________________________________________________\n",
            "batch_normalization_1 (Batch (None, 13, 13, 256)       1024      \n",
            "_________________________________________________________________\n",
            "conv2d_2 (Conv2D)            (None, 13, 13, 384)       885120    \n",
            "_________________________________________________________________\n",
            "activation_2 (Activation)    (None, 13, 13, 384)       0         \n",
            "_________________________________________________________________\n",
            "batch_normalization_2 (Batch (None, 13, 13, 384)       1536      \n",
            "_________________________________________________________________\n",
            "conv2d_3 (Conv2D)            (None, 13, 13, 384)       1327488   \n",
            "_________________________________________________________________\n",
            "activation_3 (Activation)    (None, 13, 13, 384)       0         \n",
            "_________________________________________________________________\n",
            "batch_normalization_3 (Batch (None, 13, 13, 384)       1536      \n",
            "_________________________________________________________________\n",
            "conv2d_4 (Conv2D)            (None, 13, 13, 256)       884992    \n",
            "_________________________________________________________________\n",
            "activation_4 (Activation)    (None, 13, 13, 256)       0         \n",
            "_________________________________________________________________\n",
            "batch_normalization_4 (Batch (None, 13, 13, 256)       1024      \n",
            "_________________________________________________________________\n",
            "max_pooling2d_2 (MaxPooling2 (None, 6, 6, 256)         0         \n",
            "_________________________________________________________________\n",
            "flatten (Flatten)            (None, 9216)              0         \n",
            "_________________________________________________________________\n",
            "dense (Dense)                (None, 4096)              37752832  \n",
            "_________________________________________________________________\n",
            "dropout (Dropout)            (None, 4096)              0         \n",
            "_________________________________________________________________\n",
            "dense_1 (Dense)              (None, 275)               1126675   \n",
            "=================================================================\n",
            "Total params: 42,632,211\n",
            "Trainable params: 42,629,459\n",
            "Non-trainable params: 2,752\n",
            "_________________________________________________________________\n"
          ],
          "name": "stdout"
        }
      ]
    },
    {
      "cell_type": "code",
      "metadata": {
        "id": "r-8QVsfvFDRg"
      },
      "source": [
        "# Learing Rate Scheduler & SGD Optimizer:\n",
        "reduce_learning_rate = ReduceLROnPlateau(monitor='val_loss',factor=np.sqrt(0.1))\n",
        "optimizer = SGD(learning_rate=0.1,momentum=0.9)\n"
      ],
      "execution_count": null,
      "outputs": []
    },
    {
      "cell_type": "code",
      "metadata": {
        "id": "T7z2kZ7QGcx8"
      },
      "source": [
        "# Compile Model:\n",
        "model.compile(loss='categorical_crossentropy',optimizer=optimizer,metrics=['accuracy'])"
      ],
      "execution_count": null,
      "outputs": []
    },
    {
      "cell_type": "code",
      "metadata": {
        "colab": {
          "background_save": true,
          "base_uri": "https://localhost:8080/"
        },
        "id": "MUxuu61gGvE2",
        "outputId": "06e1063e-0075-46c7-c3c5-b2f0a2f6d0b4"
      },
      "source": [
        "# Fit Model:\n",
        "model.fit(training_set,batch_size=128,epochs=90,validation_data=valid_set,verbose=2,callbacks=[reduce_learning_rate])"
      ],
      "execution_count": null,
      "outputs": [
        {
          "output_type": "stream",
          "text": [
            "Epoch 1/90\n"
          ],
          "name": "stdout"
        }
      ]
    }
  ]
}