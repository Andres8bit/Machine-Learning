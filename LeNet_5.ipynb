{
  "nbformat": 4,
  "nbformat_minor": 0,
  "metadata": {
    "colab": {
      "name": "LeNet-5.ipynb",
      "provenance": [],
      "collapsed_sections": [],
      "authorship_tag": "ABX9TyOPZCetg5ZaVWdykb75sert",
      "include_colab_link": true
    },
    "kernelspec": {
      "name": "python3",
      "display_name": "Python 3"
    },
    "language_info": {
      "name": "python"
    },
    "accelerator": "GPU"
  },
  "cells": [
    {
      "cell_type": "markdown",
      "metadata": {
        "id": "view-in-github",
        "colab_type": "text"
      },
      "source": [
        "<a href=\"https://colab.research.google.com/github/Andres8bit/Machine-Learning/blob/main/LeNet_5.ipynb\" target=\"_parent\"><img src=\"https://colab.research.google.com/assets/colab-badge.svg\" alt=\"Open In Colab\"/></a>"
      ]
    },
    {
      "cell_type": "code",
      "metadata": {
        "id": "2g5TxCrCNTyi"
      },
      "source": [
        "from keras.models import Sequential\n",
        "from keras.datasets import mnist\n",
        "from keras.callbacks import ModelCheckpoint, LearningRateScheduler\n",
        "from keras.layers import Conv2D, AveragePooling2D, Flatten, Dense\n",
        "import tensorflow as tf\n",
        "import matplotlib.pyplot as plt\n",
        "import matplotlib.cm as cm\n",
        "import numpy as np\n",
        "from keras.utils import np_utils\n",
        "%matplotlib inline"
      ],
      "execution_count": 1,
      "outputs": []
    },
    {
      "cell_type": "code",
      "metadata": {
        "id": "8kTSXsIyVPBM"
      },
      "source": [
        "def learning_rate_scheduler(epoch):\n",
        "  if epoch <=2:\n",
        "    lr = 5e-4\n",
        "  elif epoch > 2 and epoch <= 5:\n",
        "    lr = 2e-4\n",
        "  elif epoch > 5 and epoch <= 9:\n",
        "    lr = 5e-5\n",
        "  else:\n",
        "    lr = 1e-5\n",
        "  return lr"
      ],
      "execution_count": 2,
      "outputs": []
    },
    {
      "cell_type": "code",
      "metadata": {
        "id": "A99L8bcqdswy"
      },
      "source": [
        "def normalize_images(items):\n",
        "  temp = np.zeros(shape=(items.shape))\n",
        "  mean = np.mean(items,axis=(0,1,2))\n",
        "  std = np.std(items,axis=(0,1,2))\n",
        "  temp =(items - mean) /(std +1e-7)\n",
        "  return temp"
      ],
      "execution_count": 3,
      "outputs": []
    },
    {
      "cell_type": "code",
      "metadata": {
        "colab": {
          "base_uri": "https://localhost:8080/"
        },
        "id": "pFKAe4ORaNHv",
        "outputId": "a694a4c4-ca6d-4ef4-d43a-736841d779b7"
      },
      "source": [
        "# Load and Normalize MINST Training data:\n",
        "(X_train,Y_train), (X_test,Y_test) = mnist.load_data()\n",
        "X_train = normalize_images(X_train)\n",
        "X_test = normalize_images(X_test)"
      ],
      "execution_count": 4,
      "outputs": [
        {
          "output_type": "stream",
          "text": [
            "Downloading data from https://storage.googleapis.com/tensorflow/tf-keras-datasets/mnist.npz\n",
            "11493376/11490434 [==============================] - 0s 0us/step\n",
            "11501568/11490434 [==============================] - 0s 0us/step\n"
          ],
          "name": "stdout"
        }
      ]
    },
    {
      "cell_type": "code",
      "metadata": {
        "id": "Gxwv59MZec0Z"
      },
      "source": [
        "# One-Hot Encode Labels:\n",
        "Y_train = np_utils.to_categorical(Y_train, 10)\n",
        "Y_test = np_utils.to_categorical(Y_test,10)"
      ],
      "execution_count": 6,
      "outputs": []
    },
    {
      "cell_type": "code",
      "metadata": {
        "id": "gpNDxP41e6bP"
      },
      "source": [
        "# Shape data to fit model:\n",
        "X_train = X_train.reshape(X_train.shape[0], 28, 28, 1)\n",
        "X_test = X_test.reshape(X_test.shape[0], 28, 28, 1)\n",
        "input_shape = (28, 28, 1)"
      ],
      "execution_count": 7,
      "outputs": []
    },
    {
      "cell_type": "code",
      "metadata": {
        "id": "gt1zSruFO6X1"
      },
      "source": [
        "# Model Architecture for LeNet-5:\n",
        "model = Sequential()\n",
        "\n",
        "# 1st Convolutional Layer:\n",
        "model.add(Conv2D(filters=6,kernel_size=5,strides=1,activation='tanh',input_shape=input_shape,padding='same'))\n",
        "# Pooling Layer:\n",
        "model.add(AveragePooling2D(pool_size=2,strides=2,padding='valid'))\n",
        "\n",
        "# 2nd Convolutional Layer:\n",
        "model.add(Conv2D(filters=16,kernel_size=5,strides=1,activation='tanh',padding='valid'))\n",
        "# Pooling Layer:\n",
        "model.add(AveragePooling2D(pool_size=2,strides=2,padding='valid'))\n",
        "\n",
        "# 3rd Convolutional Layer:\n",
        "model.add(Conv2D(filters=120,kernel_size=5,strides=1,activation='tanh',padding='valid'))\n",
        "\n",
        "# Flatten layers for fully connected layer:\n",
        "model.add(Flatten())\n",
        "\n",
        "# Fully Connected Layer:\n",
        "model.add(Dense(units=84,activation='tanh'))\n",
        "# SoftMax Layer:\n",
        "model.add(Dense(units=10,activation='softmax'))"
      ],
      "execution_count": 8,
      "outputs": []
    },
    {
      "cell_type": "code",
      "metadata": {
        "colab": {
          "base_uri": "https://localhost:8080/"
        },
        "id": "M-L7IdAYVKsP",
        "outputId": "e5e303ab-03c9-4cf1-9f89-637aaac45b2f"
      },
      "source": [
        "model.summary()"
      ],
      "execution_count": 9,
      "outputs": [
        {
          "output_type": "stream",
          "text": [
            "Model: \"sequential\"\n",
            "_________________________________________________________________\n",
            "Layer (type)                 Output Shape              Param #   \n",
            "=================================================================\n",
            "conv2d (Conv2D)              (None, 28, 28, 6)         156       \n",
            "_________________________________________________________________\n",
            "average_pooling2d (AveragePo (None, 14, 14, 6)         0         \n",
            "_________________________________________________________________\n",
            "conv2d_1 (Conv2D)            (None, 10, 10, 16)        2416      \n",
            "_________________________________________________________________\n",
            "average_pooling2d_1 (Average (None, 5, 5, 16)          0         \n",
            "_________________________________________________________________\n",
            "conv2d_2 (Conv2D)            (None, 1, 1, 120)         48120     \n",
            "_________________________________________________________________\n",
            "flatten (Flatten)            (None, 120)               0         \n",
            "_________________________________________________________________\n",
            "dense (Dense)                (None, 84)                10164     \n",
            "_________________________________________________________________\n",
            "dense_1 (Dense)              (None, 10)                850       \n",
            "=================================================================\n",
            "Total params: 61,706\n",
            "Trainable params: 61,706\n",
            "Non-trainable params: 0\n",
            "_________________________________________________________________\n"
          ],
          "name": "stdout"
        }
      ]
    },
    {
      "cell_type": "code",
      "metadata": {
        "id": "23v7w_5bW9kp"
      },
      "source": [
        "# Learingin Rate Scheduler,CheckPoint, and Callback setup:\n",
        "lr_rate = LearningRateScheduler(learning_rate_scheduler)\n",
        "checkpointer = ModelCheckpoint(filepath='model.weights.best.hdf5',verbose=1,save_best_only=True)\n",
        "callbacks =[checkpoint,lr_rate]"
      ],
      "execution_count": 17,
      "outputs": []
    },
    {
      "cell_type": "code",
      "metadata": {
        "id": "mg1sTT4oX-CQ"
      },
      "source": [
        "model.compile(loss='categorical_crossentropy',optimizer='adam',metrics='accuracy')"
      ],
      "execution_count": 11,
      "outputs": []
    },
    {
      "cell_type": "code",
      "metadata": {
        "colab": {
          "base_uri": "https://localhost:8080/"
        },
        "id": "WPzxoL8laaRH",
        "outputId": "cdf5332d-a8c9-4811-f0aa-fb1788a39599"
      },
      "source": [
        "hist = model.fit(X_train, Y_train, batch_size=32, epochs=20,\n",
        "          validation_data=(X_test, Y_test), callbacks=[checkpointer, lr_rate], \n",
        "          verbose=2, shuffle=True)\n"
      ],
      "execution_count": 18,
      "outputs": [
        {
          "output_type": "stream",
          "text": [
            "Epoch 1/20\n",
            "1875/1875 - 5s - loss: 0.0330 - accuracy: 0.9891 - val_loss: 0.0469 - val_accuracy: 0.9853\n",
            "\n",
            "Epoch 00001: val_loss improved from inf to 0.04689, saving model to model.weights.best.hdf5\n",
            "Epoch 2/20\n",
            "1875/1875 - 5s - loss: 0.0224 - accuracy: 0.9929 - val_loss: 0.0337 - val_accuracy: 0.9885\n",
            "\n",
            "Epoch 00002: val_loss improved from 0.04689 to 0.03370, saving model to model.weights.best.hdf5\n",
            "Epoch 3/20\n",
            "1875/1875 - 5s - loss: 0.0200 - accuracy: 0.9938 - val_loss: 0.0351 - val_accuracy: 0.9879\n",
            "\n",
            "Epoch 00003: val_loss did not improve from 0.03370\n",
            "Epoch 4/20\n",
            "1875/1875 - 5s - loss: 0.0092 - accuracy: 0.9977 - val_loss: 0.0297 - val_accuracy: 0.9905\n",
            "\n",
            "Epoch 00004: val_loss improved from 0.03370 to 0.02969, saving model to model.weights.best.hdf5\n",
            "Epoch 5/20\n",
            "1875/1875 - 5s - loss: 0.0078 - accuracy: 0.9980 - val_loss: 0.0309 - val_accuracy: 0.9900\n",
            "\n",
            "Epoch 00005: val_loss did not improve from 0.02969\n",
            "Epoch 6/20\n",
            "1875/1875 - 5s - loss: 0.0066 - accuracy: 0.9985 - val_loss: 0.0332 - val_accuracy: 0.9893\n",
            "\n",
            "Epoch 00006: val_loss did not improve from 0.02969\n",
            "Epoch 7/20\n",
            "1875/1875 - 5s - loss: 0.0041 - accuracy: 0.9992 - val_loss: 0.0276 - val_accuracy: 0.9908\n",
            "\n",
            "Epoch 00007: val_loss improved from 0.02969 to 0.02761, saving model to model.weights.best.hdf5\n",
            "Epoch 8/20\n",
            "1875/1875 - 5s - loss: 0.0036 - accuracy: 0.9994 - val_loss: 0.0283 - val_accuracy: 0.9907\n",
            "\n",
            "Epoch 00008: val_loss did not improve from 0.02761\n",
            "Epoch 9/20\n",
            "1875/1875 - 5s - loss: 0.0032 - accuracy: 0.9995 - val_loss: 0.0279 - val_accuracy: 0.9916\n",
            "\n",
            "Epoch 00009: val_loss did not improve from 0.02761\n",
            "Epoch 10/20\n",
            "1875/1875 - 5s - loss: 0.0030 - accuracy: 0.9995 - val_loss: 0.0276 - val_accuracy: 0.9912\n",
            "\n",
            "Epoch 00010: val_loss improved from 0.02761 to 0.02760, saving model to model.weights.best.hdf5\n",
            "Epoch 11/20\n",
            "1875/1875 - 5s - loss: 0.0025 - accuracy: 0.9997 - val_loss: 0.0276 - val_accuracy: 0.9914\n",
            "\n",
            "Epoch 00011: val_loss improved from 0.02760 to 0.02760, saving model to model.weights.best.hdf5\n",
            "Epoch 12/20\n",
            "1875/1875 - 5s - loss: 0.0024 - accuracy: 0.9997 - val_loss: 0.0275 - val_accuracy: 0.9912\n",
            "\n",
            "Epoch 00012: val_loss improved from 0.02760 to 0.02746, saving model to model.weights.best.hdf5\n",
            "Epoch 13/20\n",
            "1875/1875 - 5s - loss: 0.0023 - accuracy: 0.9998 - val_loss: 0.0276 - val_accuracy: 0.9910\n",
            "\n",
            "Epoch 00013: val_loss did not improve from 0.02746\n",
            "Epoch 14/20\n",
            "1875/1875 - 5s - loss: 0.0023 - accuracy: 0.9997 - val_loss: 0.0278 - val_accuracy: 0.9910\n",
            "\n",
            "Epoch 00014: val_loss did not improve from 0.02746\n",
            "Epoch 15/20\n",
            "1875/1875 - 5s - loss: 0.0023 - accuracy: 0.9998 - val_loss: 0.0276 - val_accuracy: 0.9907\n",
            "\n",
            "Epoch 00015: val_loss did not improve from 0.02746\n",
            "Epoch 16/20\n",
            "1875/1875 - 5s - loss: 0.0022 - accuracy: 0.9998 - val_loss: 0.0277 - val_accuracy: 0.9910\n",
            "\n",
            "Epoch 00016: val_loss did not improve from 0.02746\n",
            "Epoch 17/20\n",
            "1875/1875 - 5s - loss: 0.0022 - accuracy: 0.9998 - val_loss: 0.0280 - val_accuracy: 0.9911\n",
            "\n",
            "Epoch 00017: val_loss did not improve from 0.02746\n",
            "Epoch 18/20\n",
            "1875/1875 - 5s - loss: 0.0021 - accuracy: 0.9998 - val_loss: 0.0280 - val_accuracy: 0.9909\n",
            "\n",
            "Epoch 00018: val_loss did not improve from 0.02746\n",
            "Epoch 19/20\n",
            "1875/1875 - 5s - loss: 0.0021 - accuracy: 0.9998 - val_loss: 0.0280 - val_accuracy: 0.9913\n",
            "\n",
            "Epoch 00019: val_loss did not improve from 0.02746\n",
            "Epoch 20/20\n",
            "1875/1875 - 5s - loss: 0.0021 - accuracy: 0.9998 - val_loss: 0.0282 - val_accuracy: 0.9912\n",
            "\n",
            "Epoch 00020: val_loss did not improve from 0.02746\n"
          ],
          "name": "stdout"
        }
      ]
    },
    {
      "cell_type": "code",
      "metadata": {
        "id": "GuIyN4Dagrwg"
      },
      "source": [
        "model.load_weights('model.weights.best.hdf5')"
      ],
      "execution_count": 20,
      "outputs": []
    },
    {
      "cell_type": "code",
      "metadata": {
        "colab": {
          "base_uri": "https://localhost:8080/"
        },
        "id": "nBEdeBUQg_9_",
        "outputId": "da3ae90e-62e0-453c-81c8-e1c2a3ba263d"
      },
      "source": [
        "score = model.evaluate(X_test,Y_test,verbose=0)\n",
        "accuracy = score[1] *100\n",
        "print('Test Accuracy: %.4f%%' % accuracy)"
      ],
      "execution_count": 23,
      "outputs": [
        {
          "output_type": "stream",
          "text": [
            "Test Accuracy: 99.1200%\n"
          ],
          "name": "stdout"
        }
      ]
    }
  ]
}