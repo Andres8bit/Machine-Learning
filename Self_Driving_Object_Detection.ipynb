{
  "nbformat": 4,
  "nbformat_minor": 0,
  "metadata": {
    "colab": {
      "name": "Self Driving Object Detection.ipynb",
      "provenance": [],
      "authorship_tag": "ABX9TyMHJDXiK3Ocz4pWNLwrquDu",
      "include_colab_link": true
    },
    "kernelspec": {
      "name": "python3",
      "display_name": "Python 3"
    },
    "language_info": {
      "name": "python"
    }
  },
  "cells": [
    {
      "cell_type": "markdown",
      "metadata": {
        "id": "view-in-github",
        "colab_type": "text"
      },
      "source": [
        "<a href=\"https://colab.research.google.com/github/Andres8bit/Machine-Learning/blob/main/Self_Driving_Object_Detection.ipynb\" target=\"_parent\"><img src=\"https://colab.research.google.com/assets/colab-badge.svg\" alt=\"Open In Colab\"/></a>"
      ]
    },
    {
      "cell_type": "code",
      "metadata": {
        "id": "OBNkBOGI1JvV"
      },
      "source": [
        "import os\n",
        "import re\n",
        "import zipfile\n",
        "\n",
        "import numpy as np\n",
        "import tensorflow as tf\n",
        "from tensorflow import keras\n",
        "\n",
        "import matplotlib.pyplot as plt\n",
        "import tensorflow_datasets as tfds\n"
      ],
      "execution_count": 8,
      "outputs": []
    },
    {
      "cell_type": "code",
      "metadata": {
        "colab": {
          "base_uri": "https://localhost:8080/"
        },
        "id": "AQCfBEdQL2S9",
        "outputId": "de70d9ee-4501-433b-c560-13d22c06ba11"
      },
      "source": [
        "url = \"https://github.com/srihari-humbarwadi/datasets/releases/download/v0.1.0/data.zip\"\n",
        "filename = os.path.join(os.getcwd(), \"data.zip\")\n",
        "keras.utils.get_file(filename, url)\n",
        "\n",
        "\n",
        "with zipfile.ZipFile(\"data.zip\", \"r\") as z_fp:\n",
        "    z_fp.extractall(\"./\")\n"
      ],
      "execution_count": 9,
      "outputs": [
        {
          "output_type": "stream",
          "text": [
            "Downloading data from https://github.com/srihari-humbarwadi/datasets/releases/download/v0.1.0/data.zip\n",
            "560529408/560525318 [==============================] - 7s 0us/step\n"
          ],
          "name": "stdout"
        }
      ]
    },
    {
      "cell_type": "code",
      "metadata": {
        "id": "PBeeoBVLQvaR"
      },
      "source": [
        "# Helper Functions for bounding box:\n",
        "def swap_x_y(boxes):\n",
        "  # swaps all the x y values of the boxes\n",
        "  return tf.stack([ boxes[:,1] ,boxes[:,0], boxes[:,3],boxes[:,2]],axis=-1)\n",
        "\n",
        "def convert_to_xywh(boxes):\n",
        "  # Convert [xmin,ymin,xmax,ymax] -> [x,y,width,height]\n",
        "  return tf.concat(\n",
        "        [(boxes[..., :2] + boxes[..., 2:]) / 2.0, boxes[..., 2:] - boxes[..., :2]],\n",
        "        axis=-1,\n",
        "    )\n",
        "\n",
        "def convert_to_coners(boxes):\n",
        "  # Convert [x,y,width,height] -> [xmin,ymin,xmax,ymax]\n",
        "    return tf.concat(\n",
        "        [boxes[..., :2] - boxes[..., 2:] / 2.0, boxes[..., :2] + boxes[..., 2:] / 2.0],\n",
        "        axis=-1,\n",
        "    )  \n"
      ],
      "execution_count": 12,
      "outputs": []
    },
    {
      "cell_type": "code",
      "metadata": {
        "id": "kAKMP0xUT4tp"
      },
      "source": [
        "def intersection_over_union(boxes1,boxes2):\n",
        "  # Calculate the intersection over union between the ground truth and predicted\n",
        "  # anchor boxes\n",
        "  boxes1_corners = convert_to_corners(boxes1)\n",
        "  boxes2_corners = convert_to_corners(boxes2)\n",
        "  lu = tf.maximum(boxes1_corners[:, None, :2], boxes2_corners[:, :2])\n",
        "  rd = tf.minimum(boxes1_corners[:, None, 2:], boxes2_corners[:, 2:])\n",
        "  intersection = tf.maximum(0.0, rd - lu)\n",
        "  intersection_area = intersection[:, :, 0] * intersection[:, :, 1]\n",
        "  boxes1_area = boxes1[:, 2] * boxes1[:, 3]\n",
        "  boxes2_area = boxes2[:, 2] * boxes2[:, 3]\n",
        "  union_area = tf.maximum(\n",
        "        boxes1_area[:, None] + boxes2_area - intersection_area, 1e-8\n",
        "    )\n",
        "  # IOU scores between two box sets of shape (N,M)\n",
        "  return tf.clip_by_value(intersection_area / union_area, 0.0, 1.0)"
      ],
      "execution_count": 14,
      "outputs": []
    },
    {
      "cell_type": "code",
      "metadata": {
        "id": "qtwAha51VvtR"
      },
      "source": [
        "def visualize_detections(\n",
        "    image, boxes, classes, scores, figsize=(7, 7), linewidth=1, color=[0, 0, 1]\n",
        "):\n",
        "    \"\"\"Visualize Detections\"\"\"\n",
        "    image = np.array(image, dtype=np.uint8)\n",
        "    plt.figure(figsize=figsize)\n",
        "    plt.axis(\"off\")\n",
        "    plt.imshow(image)\n",
        "    ax = plt.gca()\n",
        "    for box, _cls, score in zip(boxes, classes, scores):\n",
        "        text = \"{}: {:.2f}\".format(_cls, score)\n",
        "        x1, y1, x2, y2 = box\n",
        "        w, h = x2 - x1, y2 - y1\n",
        "        patch = plt.Rectangle(\n",
        "            [x1, y1], w, h, fill=False, edgecolor=color, linewidth=linewidth\n",
        "        )\n",
        "        ax.add_patch(patch)\n",
        "        ax.text(\n",
        "            x1,\n",
        "            y1,\n",
        "            text,\n",
        "            bbox={\"facecolor\": color, \"alpha\": 0.4},\n",
        "            clip_box=ax.clipbox,\n",
        "            clip_on=True,\n",
        "        )\n",
        "    plt.show()\n",
        "    return ax"
      ],
      "execution_count": 15,
      "outputs": []
    },
    {
      "cell_type": "code",
      "metadata": {
        "id": "aucpCYEmWR68"
      },
      "source": [
        "# Anchor Generator:\n",
        "  # Fixed sized boxes that the model uses to predict object bounding boxes\n",
        "  # Regression is used on the offset between the objects center and \n",
        "  # the anchor box.\n",
        "  # Takes the width and height of the anchor box to predict scale of the object.\n",
        "  # Each location within a feature map 9 anchor boxes, in 3 different scales & \n",
        "  # ratios.\n",
        "class AnchorBox:\n",
        "  # Generates Anchor Boxes for features maps of strides [8:128] -> at powers of 2\n",
        "  # Arguments:\n",
        "  #   Aspect ratio: float list for aspect ratios at each feature map location\n",
        "  #   scales: float list for scales of anchor boxes at each location in the feature\n",
        "  #     map.\n",
        "  #   num_anchors: number of anchors at each location of a feature map\n",
        "  #   strides: list of strides of each convolutional layer\n",
        "\n",
        "    def __init__(self):\n",
        "        self.aspect_ratios = [0.5, 1.0, 2.0]\n",
        "        self.scales = [2 ** x for x in [0, 1 / 3, 2 / 3]]\n",
        "\n",
        "        self._num_anchors = len(self.aspect_ratios) * len(self.scales)\n",
        "        self._strides = [2 ** i for i in range(3, 8)]\n",
        "        self._areas = [x ** 2 for x in [32.0, 64.0, 128.0, 256.0, 512.0]]\n",
        "        self._anchor_dims = self._compute_dims()\n",
        "\n",
        "    def _compute_dims(self):\n",
        "        #Computes anchor box dimensions for all ratios and scales at all levels\n",
        "        # of the feature pyramid.\n",
        "        \n",
        "        anchor_dims_all = []\n",
        "        for area in self._areas:\n",
        "            anchor_dims = []\n",
        "            for ratio in self.aspect_ratios:\n",
        "                anchor_height = tf.math.sqrt(area / ratio)\n",
        "                anchor_width = area / anchor_height\n",
        "                dims = tf.reshape(\n",
        "                    tf.stack([anchor_width, anchor_height], axis=-1), [1, 1, 2]\n",
        "                )\n",
        "                for scale in self.scales:\n",
        "                    anchor_dims.append(scale * dims)\n",
        "            anchor_dims_all.append(tf.stack(anchor_dims, axis=-2))\n",
        "        return anchor_dims_all\n",
        "\n",
        "    def _get_anchors(self, feature_height, feature_width, level):\n",
        "        # Generates anchor boxes for a given feature map size and level\n",
        "        # Arguments:\n",
        "        #   feature_height: An integer representing the height of the feature map.\n",
        "        #   feature_width: An integer representing the width of the feature map.\n",
        "        #   level: An integer representing the level of the feature map in the\n",
        "        #     feature pyramid.\n",
        "\n",
        "        rx = tf.range(feature_width, dtype=tf.float32) + 0.5\n",
        "        ry = tf.range(feature_height, dtype=tf.float32) + 0.5\n",
        "        centers = tf.stack(tf.meshgrid(rx, ry), axis=-1) * self._strides[level - 3]\n",
        "        centers = tf.expand_dims(centers, axis=-2)\n",
        "        centers = tf.tile(centers, [1, 1, self._num_anchors, 1])\n",
        "        dims = tf.tile(\n",
        "            self._anchor_dims[level - 3], [feature_height, feature_width, 1, 1]\n",
        "        )\n",
        "        anchors = tf.concat([centers, dims], axis=-1)\n",
        "        return tf.reshape(\n",
        "            anchors, [feature_height * feature_width * self._num_anchors, 4]\n",
        "        )\n",
        "\n",
        "    def get_anchors(self, image_height, image_width):\n",
        "        # Generates anchor boxes for all the feature maps of the feature pyramid.\n",
        "\n",
        "        # Arguments:\n",
        "        #   image_height: Height of the input image.\n",
        "        #   image_width: Width of the input image.\n",
        "\n",
        "\n",
        "        anchors = [\n",
        "            self._get_anchors(\n",
        "                tf.math.ceil(image_height / 2 ** i),\n",
        "                tf.math.ceil(image_width / 2 ** i),\n",
        "                i,\n",
        "            )\n",
        "            for i in range(3, 8)\n",
        "        ]\n",
        "        return tf.concat(anchors, axis=0)"
      ],
      "execution_count": 18,
      "outputs": []
    }
  ]
}