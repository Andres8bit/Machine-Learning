{
  "nbformat": 4,
  "nbformat_minor": 0,
  "metadata": {
    "colab": {
      "name": "IMDB movie sentiment classification.ipynb",
      "provenance": [],
      "authorship_tag": "ABX9TyM53phK4kNjvxKxeWg788wT",
      "include_colab_link": true
    },
    "kernelspec": {
      "name": "python3",
      "display_name": "Python 3"
    },
    "language_info": {
      "name": "python"
    },
    "accelerator": "GPU",
    "widgets": {
      "application/vnd.jupyter.widget-state+json": {
        "1350dc4a9b524866822c302d8e2f3a37": {
          "model_module": "@jupyter-widgets/controls",
          "model_name": "HBoxModel",
          "state": {
            "_view_name": "HBoxView",
            "_dom_classes": [],
            "_model_name": "HBoxModel",
            "_view_module": "@jupyter-widgets/controls",
            "_model_module_version": "1.5.0",
            "_view_count": null,
            "_view_module_version": "1.5.0",
            "box_style": "",
            "layout": "IPY_MODEL_c809ea2eadd84033b27477e31c20dae8",
            "_model_module": "@jupyter-widgets/controls",
            "children": [
              "IPY_MODEL_d8c689edfedf4b598b64e05cc57fd27b",
              "IPY_MODEL_e02e7566673844e2bf69846229b88fca"
            ]
          }
        },
        "c809ea2eadd84033b27477e31c20dae8": {
          "model_module": "@jupyter-widgets/base",
          "model_name": "LayoutModel",
          "state": {
            "_view_name": "LayoutView",
            "grid_template_rows": null,
            "right": null,
            "justify_content": null,
            "_view_module": "@jupyter-widgets/base",
            "overflow": null,
            "_model_module_version": "1.2.0",
            "_view_count": null,
            "flex_flow": null,
            "width": null,
            "min_width": null,
            "border": null,
            "align_items": null,
            "bottom": null,
            "_model_module": "@jupyter-widgets/base",
            "top": null,
            "grid_column": null,
            "overflow_y": null,
            "overflow_x": null,
            "grid_auto_flow": null,
            "grid_area": null,
            "grid_template_columns": null,
            "flex": null,
            "_model_name": "LayoutModel",
            "justify_items": null,
            "grid_row": null,
            "max_height": null,
            "align_content": null,
            "visibility": null,
            "align_self": null,
            "height": null,
            "min_height": null,
            "padding": null,
            "grid_auto_rows": null,
            "grid_gap": null,
            "max_width": null,
            "order": null,
            "_view_module_version": "1.2.0",
            "grid_template_areas": null,
            "object_position": null,
            "object_fit": null,
            "grid_auto_columns": null,
            "margin": null,
            "display": null,
            "left": null
          }
        },
        "d8c689edfedf4b598b64e05cc57fd27b": {
          "model_module": "@jupyter-widgets/controls",
          "model_name": "FloatProgressModel",
          "state": {
            "_view_name": "ProgressView",
            "style": "IPY_MODEL_b52d2c0aea8f4be98a8160b98d01afc8",
            "_dom_classes": [],
            "description": "Dl Completed...: 100%",
            "_model_name": "FloatProgressModel",
            "bar_style": "success",
            "max": 1,
            "_view_module": "@jupyter-widgets/controls",
            "_model_module_version": "1.5.0",
            "value": 1,
            "_view_count": null,
            "_view_module_version": "1.5.0",
            "orientation": "horizontal",
            "min": 0,
            "description_tooltip": null,
            "_model_module": "@jupyter-widgets/controls",
            "layout": "IPY_MODEL_e7e9aacc241a433e8c1d0574990e92b5"
          }
        },
        "e02e7566673844e2bf69846229b88fca": {
          "model_module": "@jupyter-widgets/controls",
          "model_name": "HTMLModel",
          "state": {
            "_view_name": "HTMLView",
            "style": "IPY_MODEL_fdae0a74580844adac291a4953228c1b",
            "_dom_classes": [],
            "description": "",
            "_model_name": "HTMLModel",
            "placeholder": "​",
            "_view_module": "@jupyter-widgets/controls",
            "_model_module_version": "1.5.0",
            "value": " 1/1 [00:01&lt;00:00,  1.67s/ url]",
            "_view_count": null,
            "_view_module_version": "1.5.0",
            "description_tooltip": null,
            "_model_module": "@jupyter-widgets/controls",
            "layout": "IPY_MODEL_81b771b906914ee88d0d083d1a303b10"
          }
        },
        "b52d2c0aea8f4be98a8160b98d01afc8": {
          "model_module": "@jupyter-widgets/controls",
          "model_name": "ProgressStyleModel",
          "state": {
            "_view_name": "StyleView",
            "_model_name": "ProgressStyleModel",
            "description_width": "initial",
            "_view_module": "@jupyter-widgets/base",
            "_model_module_version": "1.5.0",
            "_view_count": null,
            "_view_module_version": "1.2.0",
            "bar_color": null,
            "_model_module": "@jupyter-widgets/controls"
          }
        },
        "e7e9aacc241a433e8c1d0574990e92b5": {
          "model_module": "@jupyter-widgets/base",
          "model_name": "LayoutModel",
          "state": {
            "_view_name": "LayoutView",
            "grid_template_rows": null,
            "right": null,
            "justify_content": null,
            "_view_module": "@jupyter-widgets/base",
            "overflow": null,
            "_model_module_version": "1.2.0",
            "_view_count": null,
            "flex_flow": null,
            "width": null,
            "min_width": null,
            "border": null,
            "align_items": null,
            "bottom": null,
            "_model_module": "@jupyter-widgets/base",
            "top": null,
            "grid_column": null,
            "overflow_y": null,
            "overflow_x": null,
            "grid_auto_flow": null,
            "grid_area": null,
            "grid_template_columns": null,
            "flex": null,
            "_model_name": "LayoutModel",
            "justify_items": null,
            "grid_row": null,
            "max_height": null,
            "align_content": null,
            "visibility": null,
            "align_self": null,
            "height": null,
            "min_height": null,
            "padding": null,
            "grid_auto_rows": null,
            "grid_gap": null,
            "max_width": null,
            "order": null,
            "_view_module_version": "1.2.0",
            "grid_template_areas": null,
            "object_position": null,
            "object_fit": null,
            "grid_auto_columns": null,
            "margin": null,
            "display": null,
            "left": null
          }
        },
        "fdae0a74580844adac291a4953228c1b": {
          "model_module": "@jupyter-widgets/controls",
          "model_name": "DescriptionStyleModel",
          "state": {
            "_view_name": "StyleView",
            "_model_name": "DescriptionStyleModel",
            "description_width": "",
            "_view_module": "@jupyter-widgets/base",
            "_model_module_version": "1.5.0",
            "_view_count": null,
            "_view_module_version": "1.2.0",
            "_model_module": "@jupyter-widgets/controls"
          }
        },
        "81b771b906914ee88d0d083d1a303b10": {
          "model_module": "@jupyter-widgets/base",
          "model_name": "LayoutModel",
          "state": {
            "_view_name": "LayoutView",
            "grid_template_rows": null,
            "right": null,
            "justify_content": null,
            "_view_module": "@jupyter-widgets/base",
            "overflow": null,
            "_model_module_version": "1.2.0",
            "_view_count": null,
            "flex_flow": null,
            "width": null,
            "min_width": null,
            "border": null,
            "align_items": null,
            "bottom": null,
            "_model_module": "@jupyter-widgets/base",
            "top": null,
            "grid_column": null,
            "overflow_y": null,
            "overflow_x": null,
            "grid_auto_flow": null,
            "grid_area": null,
            "grid_template_columns": null,
            "flex": null,
            "_model_name": "LayoutModel",
            "justify_items": null,
            "grid_row": null,
            "max_height": null,
            "align_content": null,
            "visibility": null,
            "align_self": null,
            "height": null,
            "min_height": null,
            "padding": null,
            "grid_auto_rows": null,
            "grid_gap": null,
            "max_width": null,
            "order": null,
            "_view_module_version": "1.2.0",
            "grid_template_areas": null,
            "object_position": null,
            "object_fit": null,
            "grid_auto_columns": null,
            "margin": null,
            "display": null,
            "left": null
          }
        },
        "a083b11910a942f695471fcd000efd6f": {
          "model_module": "@jupyter-widgets/controls",
          "model_name": "HBoxModel",
          "state": {
            "_view_name": "HBoxView",
            "_dom_classes": [],
            "_model_name": "HBoxModel",
            "_view_module": "@jupyter-widgets/controls",
            "_model_module_version": "1.5.0",
            "_view_count": null,
            "_view_module_version": "1.5.0",
            "box_style": "",
            "layout": "IPY_MODEL_95ac17647b6843418575ca2ee6aee81f",
            "_model_module": "@jupyter-widgets/controls",
            "children": [
              "IPY_MODEL_5ac90e55daec4a439bcb5076aad1efdf",
              "IPY_MODEL_9fdde83a9ad949969858da4106722a25"
            ]
          }
        },
        "95ac17647b6843418575ca2ee6aee81f": {
          "model_module": "@jupyter-widgets/base",
          "model_name": "LayoutModel",
          "state": {
            "_view_name": "LayoutView",
            "grid_template_rows": null,
            "right": null,
            "justify_content": null,
            "_view_module": "@jupyter-widgets/base",
            "overflow": null,
            "_model_module_version": "1.2.0",
            "_view_count": null,
            "flex_flow": null,
            "width": null,
            "min_width": null,
            "border": null,
            "align_items": null,
            "bottom": null,
            "_model_module": "@jupyter-widgets/base",
            "top": null,
            "grid_column": null,
            "overflow_y": null,
            "overflow_x": null,
            "grid_auto_flow": null,
            "grid_area": null,
            "grid_template_columns": null,
            "flex": null,
            "_model_name": "LayoutModel",
            "justify_items": null,
            "grid_row": null,
            "max_height": null,
            "align_content": null,
            "visibility": null,
            "align_self": null,
            "height": null,
            "min_height": null,
            "padding": null,
            "grid_auto_rows": null,
            "grid_gap": null,
            "max_width": null,
            "order": null,
            "_view_module_version": "1.2.0",
            "grid_template_areas": null,
            "object_position": null,
            "object_fit": null,
            "grid_auto_columns": null,
            "margin": null,
            "display": null,
            "left": null
          }
        },
        "5ac90e55daec4a439bcb5076aad1efdf": {
          "model_module": "@jupyter-widgets/controls",
          "model_name": "FloatProgressModel",
          "state": {
            "_view_name": "ProgressView",
            "style": "IPY_MODEL_64f6e253f4144f0794589b5d4ad88221",
            "_dom_classes": [],
            "description": "Dl Size...: 100%",
            "_model_name": "FloatProgressModel",
            "bar_style": "success",
            "max": 1,
            "_view_module": "@jupyter-widgets/controls",
            "_model_module_version": "1.5.0",
            "value": 1,
            "_view_count": null,
            "_view_module_version": "1.5.0",
            "orientation": "horizontal",
            "min": 0,
            "description_tooltip": null,
            "_model_module": "@jupyter-widgets/controls",
            "layout": "IPY_MODEL_7d98c14e4935487e8749c2be4eed4161"
          }
        },
        "9fdde83a9ad949969858da4106722a25": {
          "model_module": "@jupyter-widgets/controls",
          "model_name": "HTMLModel",
          "state": {
            "_view_name": "HTMLView",
            "style": "IPY_MODEL_d6b42d3f6cac448da0fe1e50a76ff7e6",
            "_dom_classes": [],
            "description": "",
            "_model_name": "HTMLModel",
            "placeholder": "​",
            "_view_module": "@jupyter-widgets/controls",
            "_model_module_version": "1.5.0",
            "value": " 80/80 [00:01&lt;00:00, 49.17 MiB/s]",
            "_view_count": null,
            "_view_module_version": "1.5.0",
            "description_tooltip": null,
            "_model_module": "@jupyter-widgets/controls",
            "layout": "IPY_MODEL_f40fb65060e644b2b14e431cc97f7230"
          }
        },
        "64f6e253f4144f0794589b5d4ad88221": {
          "model_module": "@jupyter-widgets/controls",
          "model_name": "ProgressStyleModel",
          "state": {
            "_view_name": "StyleView",
            "_model_name": "ProgressStyleModel",
            "description_width": "initial",
            "_view_module": "@jupyter-widgets/base",
            "_model_module_version": "1.5.0",
            "_view_count": null,
            "_view_module_version": "1.2.0",
            "bar_color": null,
            "_model_module": "@jupyter-widgets/controls"
          }
        },
        "7d98c14e4935487e8749c2be4eed4161": {
          "model_module": "@jupyter-widgets/base",
          "model_name": "LayoutModel",
          "state": {
            "_view_name": "LayoutView",
            "grid_template_rows": null,
            "right": null,
            "justify_content": null,
            "_view_module": "@jupyter-widgets/base",
            "overflow": null,
            "_model_module_version": "1.2.0",
            "_view_count": null,
            "flex_flow": null,
            "width": null,
            "min_width": null,
            "border": null,
            "align_items": null,
            "bottom": null,
            "_model_module": "@jupyter-widgets/base",
            "top": null,
            "grid_column": null,
            "overflow_y": null,
            "overflow_x": null,
            "grid_auto_flow": null,
            "grid_area": null,
            "grid_template_columns": null,
            "flex": null,
            "_model_name": "LayoutModel",
            "justify_items": null,
            "grid_row": null,
            "max_height": null,
            "align_content": null,
            "visibility": null,
            "align_self": null,
            "height": null,
            "min_height": null,
            "padding": null,
            "grid_auto_rows": null,
            "grid_gap": null,
            "max_width": null,
            "order": null,
            "_view_module_version": "1.2.0",
            "grid_template_areas": null,
            "object_position": null,
            "object_fit": null,
            "grid_auto_columns": null,
            "margin": null,
            "display": null,
            "left": null
          }
        },
        "d6b42d3f6cac448da0fe1e50a76ff7e6": {
          "model_module": "@jupyter-widgets/controls",
          "model_name": "DescriptionStyleModel",
          "state": {
            "_view_name": "StyleView",
            "_model_name": "DescriptionStyleModel",
            "description_width": "",
            "_view_module": "@jupyter-widgets/base",
            "_model_module_version": "1.5.0",
            "_view_count": null,
            "_view_module_version": "1.2.0",
            "_model_module": "@jupyter-widgets/controls"
          }
        },
        "f40fb65060e644b2b14e431cc97f7230": {
          "model_module": "@jupyter-widgets/base",
          "model_name": "LayoutModel",
          "state": {
            "_view_name": "LayoutView",
            "grid_template_rows": null,
            "right": null,
            "justify_content": null,
            "_view_module": "@jupyter-widgets/base",
            "overflow": null,
            "_model_module_version": "1.2.0",
            "_view_count": null,
            "flex_flow": null,
            "width": null,
            "min_width": null,
            "border": null,
            "align_items": null,
            "bottom": null,
            "_model_module": "@jupyter-widgets/base",
            "top": null,
            "grid_column": null,
            "overflow_y": null,
            "overflow_x": null,
            "grid_auto_flow": null,
            "grid_area": null,
            "grid_template_columns": null,
            "flex": null,
            "_model_name": "LayoutModel",
            "justify_items": null,
            "grid_row": null,
            "max_height": null,
            "align_content": null,
            "visibility": null,
            "align_self": null,
            "height": null,
            "min_height": null,
            "padding": null,
            "grid_auto_rows": null,
            "grid_gap": null,
            "max_width": null,
            "order": null,
            "_view_module_version": "1.2.0",
            "grid_template_areas": null,
            "object_position": null,
            "object_fit": null,
            "grid_auto_columns": null,
            "margin": null,
            "display": null,
            "left": null
          }
        },
        "22f1ae368a7e40a9a955403462fd3af4": {
          "model_module": "@jupyter-widgets/controls",
          "model_name": "HBoxModel",
          "state": {
            "_view_name": "HBoxView",
            "_dom_classes": [],
            "_model_name": "HBoxModel",
            "_view_module": "@jupyter-widgets/controls",
            "_model_module_version": "1.5.0",
            "_view_count": null,
            "_view_module_version": "1.5.0",
            "box_style": "",
            "layout": "IPY_MODEL_62cb2f89accb425081beba7208b3d5cb",
            "_model_module": "@jupyter-widgets/controls",
            "children": [
              "IPY_MODEL_9f4e308ef9084829b69a6a5f2eaa9853",
              "IPY_MODEL_4ac0596286b949ccb7dbe19606ab37be"
            ]
          }
        },
        "62cb2f89accb425081beba7208b3d5cb": {
          "model_module": "@jupyter-widgets/base",
          "model_name": "LayoutModel",
          "state": {
            "_view_name": "LayoutView",
            "grid_template_rows": null,
            "right": null,
            "justify_content": null,
            "_view_module": "@jupyter-widgets/base",
            "overflow": null,
            "_model_module_version": "1.2.0",
            "_view_count": null,
            "flex_flow": null,
            "width": null,
            "min_width": null,
            "border": null,
            "align_items": null,
            "bottom": null,
            "_model_module": "@jupyter-widgets/base",
            "top": null,
            "grid_column": null,
            "overflow_y": null,
            "overflow_x": null,
            "grid_auto_flow": null,
            "grid_area": null,
            "grid_template_columns": null,
            "flex": null,
            "_model_name": "LayoutModel",
            "justify_items": null,
            "grid_row": null,
            "max_height": null,
            "align_content": null,
            "visibility": null,
            "align_self": null,
            "height": null,
            "min_height": null,
            "padding": null,
            "grid_auto_rows": null,
            "grid_gap": null,
            "max_width": null,
            "order": null,
            "_view_module_version": "1.2.0",
            "grid_template_areas": null,
            "object_position": null,
            "object_fit": null,
            "grid_auto_columns": null,
            "margin": null,
            "display": null,
            "left": null
          }
        },
        "9f4e308ef9084829b69a6a5f2eaa9853": {
          "model_module": "@jupyter-widgets/controls",
          "model_name": "FloatProgressModel",
          "state": {
            "_view_name": "ProgressView",
            "style": "IPY_MODEL_b327ef80aa6844d39bf7aaf5e573dcaa",
            "_dom_classes": [],
            "description": "",
            "_model_name": "FloatProgressModel",
            "bar_style": "info",
            "max": 1,
            "_view_module": "@jupyter-widgets/controls",
            "_model_module_version": "1.5.0",
            "value": 1,
            "_view_count": null,
            "_view_module_version": "1.5.0",
            "orientation": "horizontal",
            "min": 0,
            "description_tooltip": null,
            "_model_module": "@jupyter-widgets/controls",
            "layout": "IPY_MODEL_d71ff8d7a38c4a2dab8837f46300af18"
          }
        },
        "4ac0596286b949ccb7dbe19606ab37be": {
          "model_module": "@jupyter-widgets/controls",
          "model_name": "HTMLModel",
          "state": {
            "_view_name": "HTMLView",
            "style": "IPY_MODEL_e0e6b697c36d42cfa9128c26393cc784",
            "_dom_classes": [],
            "description": "",
            "_model_name": "HTMLModel",
            "placeholder": "​",
            "_view_module": "@jupyter-widgets/controls",
            "_model_module_version": "1.5.0",
            "value": " 25000/0 [00:14&lt;00:00, 3438.11 examples/s]",
            "_view_count": null,
            "_view_module_version": "1.5.0",
            "description_tooltip": null,
            "_model_module": "@jupyter-widgets/controls",
            "layout": "IPY_MODEL_b376ac64011f44fcbb5c7677633fffc1"
          }
        },
        "b327ef80aa6844d39bf7aaf5e573dcaa": {
          "model_module": "@jupyter-widgets/controls",
          "model_name": "ProgressStyleModel",
          "state": {
            "_view_name": "StyleView",
            "_model_name": "ProgressStyleModel",
            "description_width": "initial",
            "_view_module": "@jupyter-widgets/base",
            "_model_module_version": "1.5.0",
            "_view_count": null,
            "_view_module_version": "1.2.0",
            "bar_color": null,
            "_model_module": "@jupyter-widgets/controls"
          }
        },
        "d71ff8d7a38c4a2dab8837f46300af18": {
          "model_module": "@jupyter-widgets/base",
          "model_name": "LayoutModel",
          "state": {
            "_view_name": "LayoutView",
            "grid_template_rows": null,
            "right": null,
            "justify_content": null,
            "_view_module": "@jupyter-widgets/base",
            "overflow": null,
            "_model_module_version": "1.2.0",
            "_view_count": null,
            "flex_flow": null,
            "width": null,
            "min_width": null,
            "border": null,
            "align_items": null,
            "bottom": null,
            "_model_module": "@jupyter-widgets/base",
            "top": null,
            "grid_column": null,
            "overflow_y": null,
            "overflow_x": null,
            "grid_auto_flow": null,
            "grid_area": null,
            "grid_template_columns": null,
            "flex": null,
            "_model_name": "LayoutModel",
            "justify_items": null,
            "grid_row": null,
            "max_height": null,
            "align_content": null,
            "visibility": null,
            "align_self": null,
            "height": null,
            "min_height": null,
            "padding": null,
            "grid_auto_rows": null,
            "grid_gap": null,
            "max_width": null,
            "order": null,
            "_view_module_version": "1.2.0",
            "grid_template_areas": null,
            "object_position": null,
            "object_fit": null,
            "grid_auto_columns": null,
            "margin": null,
            "display": null,
            "left": null
          }
        },
        "e0e6b697c36d42cfa9128c26393cc784": {
          "model_module": "@jupyter-widgets/controls",
          "model_name": "DescriptionStyleModel",
          "state": {
            "_view_name": "StyleView",
            "_model_name": "DescriptionStyleModel",
            "description_width": "",
            "_view_module": "@jupyter-widgets/base",
            "_model_module_version": "1.5.0",
            "_view_count": null,
            "_view_module_version": "1.2.0",
            "_model_module": "@jupyter-widgets/controls"
          }
        },
        "b376ac64011f44fcbb5c7677633fffc1": {
          "model_module": "@jupyter-widgets/base",
          "model_name": "LayoutModel",
          "state": {
            "_view_name": "LayoutView",
            "grid_template_rows": null,
            "right": null,
            "justify_content": null,
            "_view_module": "@jupyter-widgets/base",
            "overflow": null,
            "_model_module_version": "1.2.0",
            "_view_count": null,
            "flex_flow": null,
            "width": null,
            "min_width": null,
            "border": null,
            "align_items": null,
            "bottom": null,
            "_model_module": "@jupyter-widgets/base",
            "top": null,
            "grid_column": null,
            "overflow_y": null,
            "overflow_x": null,
            "grid_auto_flow": null,
            "grid_area": null,
            "grid_template_columns": null,
            "flex": null,
            "_model_name": "LayoutModel",
            "justify_items": null,
            "grid_row": null,
            "max_height": null,
            "align_content": null,
            "visibility": null,
            "align_self": null,
            "height": null,
            "min_height": null,
            "padding": null,
            "grid_auto_rows": null,
            "grid_gap": null,
            "max_width": null,
            "order": null,
            "_view_module_version": "1.2.0",
            "grid_template_areas": null,
            "object_position": null,
            "object_fit": null,
            "grid_auto_columns": null,
            "margin": null,
            "display": null,
            "left": null
          }
        },
        "b48032e39d2645b2b578aa4fac5fa4fc": {
          "model_module": "@jupyter-widgets/controls",
          "model_name": "HBoxModel",
          "state": {
            "_view_name": "HBoxView",
            "_dom_classes": [],
            "_model_name": "HBoxModel",
            "_view_module": "@jupyter-widgets/controls",
            "_model_module_version": "1.5.0",
            "_view_count": null,
            "_view_module_version": "1.5.0",
            "box_style": "",
            "layout": "IPY_MODEL_bc4a3c6f410b4e8aa86b6829f1d26ecf",
            "_model_module": "@jupyter-widgets/controls",
            "children": [
              "IPY_MODEL_40594651a4e342d5a16eeda6e6e05081",
              "IPY_MODEL_a8ecb5d263614c89aea7033e00a733d4"
            ]
          }
        },
        "bc4a3c6f410b4e8aa86b6829f1d26ecf": {
          "model_module": "@jupyter-widgets/base",
          "model_name": "LayoutModel",
          "state": {
            "_view_name": "LayoutView",
            "grid_template_rows": null,
            "right": null,
            "justify_content": null,
            "_view_module": "@jupyter-widgets/base",
            "overflow": null,
            "_model_module_version": "1.2.0",
            "_view_count": null,
            "flex_flow": null,
            "width": null,
            "min_width": null,
            "border": null,
            "align_items": null,
            "bottom": null,
            "_model_module": "@jupyter-widgets/base",
            "top": null,
            "grid_column": null,
            "overflow_y": null,
            "overflow_x": null,
            "grid_auto_flow": null,
            "grid_area": null,
            "grid_template_columns": null,
            "flex": null,
            "_model_name": "LayoutModel",
            "justify_items": null,
            "grid_row": null,
            "max_height": null,
            "align_content": null,
            "visibility": null,
            "align_self": null,
            "height": null,
            "min_height": null,
            "padding": null,
            "grid_auto_rows": null,
            "grid_gap": null,
            "max_width": null,
            "order": null,
            "_view_module_version": "1.2.0",
            "grid_template_areas": null,
            "object_position": null,
            "object_fit": null,
            "grid_auto_columns": null,
            "margin": null,
            "display": null,
            "left": null
          }
        },
        "40594651a4e342d5a16eeda6e6e05081": {
          "model_module": "@jupyter-widgets/controls",
          "model_name": "FloatProgressModel",
          "state": {
            "_view_name": "ProgressView",
            "style": "IPY_MODEL_cdf1d4d84d20421cbaf98b977780bea9",
            "_dom_classes": [],
            "description": " 35%",
            "_model_name": "FloatProgressModel",
            "bar_style": "danger",
            "max": 25000,
            "_view_module": "@jupyter-widgets/controls",
            "_model_module_version": "1.5.0",
            "value": 8752,
            "_view_count": null,
            "_view_module_version": "1.5.0",
            "orientation": "horizontal",
            "min": 0,
            "description_tooltip": null,
            "_model_module": "@jupyter-widgets/controls",
            "layout": "IPY_MODEL_cccbaf46cf1d4d39bb6a954c70939909"
          }
        },
        "a8ecb5d263614c89aea7033e00a733d4": {
          "model_module": "@jupyter-widgets/controls",
          "model_name": "HTMLModel",
          "state": {
            "_view_name": "HTMLView",
            "style": "IPY_MODEL_524d3e9f1c0641eca43299c5306a34b2",
            "_dom_classes": [],
            "description": "",
            "_model_name": "HTMLModel",
            "placeholder": "​",
            "_view_module": "@jupyter-widgets/controls",
            "_model_module_version": "1.5.0",
            "value": " 8752/25000 [00:00&lt;00:00, 87514.87 examples/s]",
            "_view_count": null,
            "_view_module_version": "1.5.0",
            "description_tooltip": null,
            "_model_module": "@jupyter-widgets/controls",
            "layout": "IPY_MODEL_82bb8b3baa004bc7ad81b4fc3e2b47e0"
          }
        },
        "cdf1d4d84d20421cbaf98b977780bea9": {
          "model_module": "@jupyter-widgets/controls",
          "model_name": "ProgressStyleModel",
          "state": {
            "_view_name": "StyleView",
            "_model_name": "ProgressStyleModel",
            "description_width": "initial",
            "_view_module": "@jupyter-widgets/base",
            "_model_module_version": "1.5.0",
            "_view_count": null,
            "_view_module_version": "1.2.0",
            "bar_color": null,
            "_model_module": "@jupyter-widgets/controls"
          }
        },
        "cccbaf46cf1d4d39bb6a954c70939909": {
          "model_module": "@jupyter-widgets/base",
          "model_name": "LayoutModel",
          "state": {
            "_view_name": "LayoutView",
            "grid_template_rows": null,
            "right": null,
            "justify_content": null,
            "_view_module": "@jupyter-widgets/base",
            "overflow": null,
            "_model_module_version": "1.2.0",
            "_view_count": null,
            "flex_flow": null,
            "width": null,
            "min_width": null,
            "border": null,
            "align_items": null,
            "bottom": null,
            "_model_module": "@jupyter-widgets/base",
            "top": null,
            "grid_column": null,
            "overflow_y": null,
            "overflow_x": null,
            "grid_auto_flow": null,
            "grid_area": null,
            "grid_template_columns": null,
            "flex": null,
            "_model_name": "LayoutModel",
            "justify_items": null,
            "grid_row": null,
            "max_height": null,
            "align_content": null,
            "visibility": null,
            "align_self": null,
            "height": null,
            "min_height": null,
            "padding": null,
            "grid_auto_rows": null,
            "grid_gap": null,
            "max_width": null,
            "order": null,
            "_view_module_version": "1.2.0",
            "grid_template_areas": null,
            "object_position": null,
            "object_fit": null,
            "grid_auto_columns": null,
            "margin": null,
            "display": null,
            "left": null
          }
        },
        "524d3e9f1c0641eca43299c5306a34b2": {
          "model_module": "@jupyter-widgets/controls",
          "model_name": "DescriptionStyleModel",
          "state": {
            "_view_name": "StyleView",
            "_model_name": "DescriptionStyleModel",
            "description_width": "",
            "_view_module": "@jupyter-widgets/base",
            "_model_module_version": "1.5.0",
            "_view_count": null,
            "_view_module_version": "1.2.0",
            "_model_module": "@jupyter-widgets/controls"
          }
        },
        "82bb8b3baa004bc7ad81b4fc3e2b47e0": {
          "model_module": "@jupyter-widgets/base",
          "model_name": "LayoutModel",
          "state": {
            "_view_name": "LayoutView",
            "grid_template_rows": null,
            "right": null,
            "justify_content": null,
            "_view_module": "@jupyter-widgets/base",
            "overflow": null,
            "_model_module_version": "1.2.0",
            "_view_count": null,
            "flex_flow": null,
            "width": null,
            "min_width": null,
            "border": null,
            "align_items": null,
            "bottom": null,
            "_model_module": "@jupyter-widgets/base",
            "top": null,
            "grid_column": null,
            "overflow_y": null,
            "overflow_x": null,
            "grid_auto_flow": null,
            "grid_area": null,
            "grid_template_columns": null,
            "flex": null,
            "_model_name": "LayoutModel",
            "justify_items": null,
            "grid_row": null,
            "max_height": null,
            "align_content": null,
            "visibility": null,
            "align_self": null,
            "height": null,
            "min_height": null,
            "padding": null,
            "grid_auto_rows": null,
            "grid_gap": null,
            "max_width": null,
            "order": null,
            "_view_module_version": "1.2.0",
            "grid_template_areas": null,
            "object_position": null,
            "object_fit": null,
            "grid_auto_columns": null,
            "margin": null,
            "display": null,
            "left": null
          }
        },
        "595f5ab2088746e5a0ca754947e2b43f": {
          "model_module": "@jupyter-widgets/controls",
          "model_name": "HBoxModel",
          "state": {
            "_view_name": "HBoxView",
            "_dom_classes": [],
            "_model_name": "HBoxModel",
            "_view_module": "@jupyter-widgets/controls",
            "_model_module_version": "1.5.0",
            "_view_count": null,
            "_view_module_version": "1.5.0",
            "box_style": "",
            "layout": "IPY_MODEL_9ff8a02622884473bb3bcb4b1ed119e6",
            "_model_module": "@jupyter-widgets/controls",
            "children": [
              "IPY_MODEL_a592df1fc42d4206954ea586b607a888",
              "IPY_MODEL_7971eb2db7e3488d8a04921e563b8909"
            ]
          }
        },
        "9ff8a02622884473bb3bcb4b1ed119e6": {
          "model_module": "@jupyter-widgets/base",
          "model_name": "LayoutModel",
          "state": {
            "_view_name": "LayoutView",
            "grid_template_rows": null,
            "right": null,
            "justify_content": null,
            "_view_module": "@jupyter-widgets/base",
            "overflow": null,
            "_model_module_version": "1.2.0",
            "_view_count": null,
            "flex_flow": null,
            "width": null,
            "min_width": null,
            "border": null,
            "align_items": null,
            "bottom": null,
            "_model_module": "@jupyter-widgets/base",
            "top": null,
            "grid_column": null,
            "overflow_y": null,
            "overflow_x": null,
            "grid_auto_flow": null,
            "grid_area": null,
            "grid_template_columns": null,
            "flex": null,
            "_model_name": "LayoutModel",
            "justify_items": null,
            "grid_row": null,
            "max_height": null,
            "align_content": null,
            "visibility": null,
            "align_self": null,
            "height": null,
            "min_height": null,
            "padding": null,
            "grid_auto_rows": null,
            "grid_gap": null,
            "max_width": null,
            "order": null,
            "_view_module_version": "1.2.0",
            "grid_template_areas": null,
            "object_position": null,
            "object_fit": null,
            "grid_auto_columns": null,
            "margin": null,
            "display": null,
            "left": null
          }
        },
        "a592df1fc42d4206954ea586b607a888": {
          "model_module": "@jupyter-widgets/controls",
          "model_name": "FloatProgressModel",
          "state": {
            "_view_name": "ProgressView",
            "style": "IPY_MODEL_72cdaa66b59549c3bce8dd3a43c7ae4c",
            "_dom_classes": [],
            "description": "",
            "_model_name": "FloatProgressModel",
            "bar_style": "info",
            "max": 1,
            "_view_module": "@jupyter-widgets/controls",
            "_model_module_version": "1.5.0",
            "value": 1,
            "_view_count": null,
            "_view_module_version": "1.5.0",
            "orientation": "horizontal",
            "min": 0,
            "description_tooltip": null,
            "_model_module": "@jupyter-widgets/controls",
            "layout": "IPY_MODEL_8bd64384971547449e7f30006da875ed"
          }
        },
        "7971eb2db7e3488d8a04921e563b8909": {
          "model_module": "@jupyter-widgets/controls",
          "model_name": "HTMLModel",
          "state": {
            "_view_name": "HTMLView",
            "style": "IPY_MODEL_eb9f21a3cc59458e94da878eef76a907",
            "_dom_classes": [],
            "description": "",
            "_model_name": "HTMLModel",
            "placeholder": "​",
            "_view_module": "@jupyter-widgets/controls",
            "_model_module_version": "1.5.0",
            "value": " 25000/0 [00:14&lt;00:00, 3408.45 examples/s]",
            "_view_count": null,
            "_view_module_version": "1.5.0",
            "description_tooltip": null,
            "_model_module": "@jupyter-widgets/controls",
            "layout": "IPY_MODEL_ffc415b7b3404b6b8754324178294d56"
          }
        },
        "72cdaa66b59549c3bce8dd3a43c7ae4c": {
          "model_module": "@jupyter-widgets/controls",
          "model_name": "ProgressStyleModel",
          "state": {
            "_view_name": "StyleView",
            "_model_name": "ProgressStyleModel",
            "description_width": "initial",
            "_view_module": "@jupyter-widgets/base",
            "_model_module_version": "1.5.0",
            "_view_count": null,
            "_view_module_version": "1.2.0",
            "bar_color": null,
            "_model_module": "@jupyter-widgets/controls"
          }
        },
        "8bd64384971547449e7f30006da875ed": {
          "model_module": "@jupyter-widgets/base",
          "model_name": "LayoutModel",
          "state": {
            "_view_name": "LayoutView",
            "grid_template_rows": null,
            "right": null,
            "justify_content": null,
            "_view_module": "@jupyter-widgets/base",
            "overflow": null,
            "_model_module_version": "1.2.0",
            "_view_count": null,
            "flex_flow": null,
            "width": null,
            "min_width": null,
            "border": null,
            "align_items": null,
            "bottom": null,
            "_model_module": "@jupyter-widgets/base",
            "top": null,
            "grid_column": null,
            "overflow_y": null,
            "overflow_x": null,
            "grid_auto_flow": null,
            "grid_area": null,
            "grid_template_columns": null,
            "flex": null,
            "_model_name": "LayoutModel",
            "justify_items": null,
            "grid_row": null,
            "max_height": null,
            "align_content": null,
            "visibility": null,
            "align_self": null,
            "height": null,
            "min_height": null,
            "padding": null,
            "grid_auto_rows": null,
            "grid_gap": null,
            "max_width": null,
            "order": null,
            "_view_module_version": "1.2.0",
            "grid_template_areas": null,
            "object_position": null,
            "object_fit": null,
            "grid_auto_columns": null,
            "margin": null,
            "display": null,
            "left": null
          }
        },
        "eb9f21a3cc59458e94da878eef76a907": {
          "model_module": "@jupyter-widgets/controls",
          "model_name": "DescriptionStyleModel",
          "state": {
            "_view_name": "StyleView",
            "_model_name": "DescriptionStyleModel",
            "description_width": "",
            "_view_module": "@jupyter-widgets/base",
            "_model_module_version": "1.5.0",
            "_view_count": null,
            "_view_module_version": "1.2.0",
            "_model_module": "@jupyter-widgets/controls"
          }
        },
        "ffc415b7b3404b6b8754324178294d56": {
          "model_module": "@jupyter-widgets/base",
          "model_name": "LayoutModel",
          "state": {
            "_view_name": "LayoutView",
            "grid_template_rows": null,
            "right": null,
            "justify_content": null,
            "_view_module": "@jupyter-widgets/base",
            "overflow": null,
            "_model_module_version": "1.2.0",
            "_view_count": null,
            "flex_flow": null,
            "width": null,
            "min_width": null,
            "border": null,
            "align_items": null,
            "bottom": null,
            "_model_module": "@jupyter-widgets/base",
            "top": null,
            "grid_column": null,
            "overflow_y": null,
            "overflow_x": null,
            "grid_auto_flow": null,
            "grid_area": null,
            "grid_template_columns": null,
            "flex": null,
            "_model_name": "LayoutModel",
            "justify_items": null,
            "grid_row": null,
            "max_height": null,
            "align_content": null,
            "visibility": null,
            "align_self": null,
            "height": null,
            "min_height": null,
            "padding": null,
            "grid_auto_rows": null,
            "grid_gap": null,
            "max_width": null,
            "order": null,
            "_view_module_version": "1.2.0",
            "grid_template_areas": null,
            "object_position": null,
            "object_fit": null,
            "grid_auto_columns": null,
            "margin": null,
            "display": null,
            "left": null
          }
        },
        "2fe037e5b918410c99f48fb3589c9d0a": {
          "model_module": "@jupyter-widgets/controls",
          "model_name": "HBoxModel",
          "state": {
            "_view_name": "HBoxView",
            "_dom_classes": [],
            "_model_name": "HBoxModel",
            "_view_module": "@jupyter-widgets/controls",
            "_model_module_version": "1.5.0",
            "_view_count": null,
            "_view_module_version": "1.5.0",
            "box_style": "",
            "layout": "IPY_MODEL_edc3bf9d5a3b4f8fbb826ab958584370",
            "_model_module": "@jupyter-widgets/controls",
            "children": [
              "IPY_MODEL_26cd654808704d8c925b648835eebcff",
              "IPY_MODEL_e613138f98d240f195ee9029bd865588"
            ]
          }
        },
        "edc3bf9d5a3b4f8fbb826ab958584370": {
          "model_module": "@jupyter-widgets/base",
          "model_name": "LayoutModel",
          "state": {
            "_view_name": "LayoutView",
            "grid_template_rows": null,
            "right": null,
            "justify_content": null,
            "_view_module": "@jupyter-widgets/base",
            "overflow": null,
            "_model_module_version": "1.2.0",
            "_view_count": null,
            "flex_flow": null,
            "width": null,
            "min_width": null,
            "border": null,
            "align_items": null,
            "bottom": null,
            "_model_module": "@jupyter-widgets/base",
            "top": null,
            "grid_column": null,
            "overflow_y": null,
            "overflow_x": null,
            "grid_auto_flow": null,
            "grid_area": null,
            "grid_template_columns": null,
            "flex": null,
            "_model_name": "LayoutModel",
            "justify_items": null,
            "grid_row": null,
            "max_height": null,
            "align_content": null,
            "visibility": null,
            "align_self": null,
            "height": null,
            "min_height": null,
            "padding": null,
            "grid_auto_rows": null,
            "grid_gap": null,
            "max_width": null,
            "order": null,
            "_view_module_version": "1.2.0",
            "grid_template_areas": null,
            "object_position": null,
            "object_fit": null,
            "grid_auto_columns": null,
            "margin": null,
            "display": null,
            "left": null
          }
        },
        "26cd654808704d8c925b648835eebcff": {
          "model_module": "@jupyter-widgets/controls",
          "model_name": "FloatProgressModel",
          "state": {
            "_view_name": "ProgressView",
            "style": "IPY_MODEL_64f51412e098429e9b3cba3aac5134cf",
            "_dom_classes": [],
            "description": " 40%",
            "_model_name": "FloatProgressModel",
            "bar_style": "danger",
            "max": 25000,
            "_view_module": "@jupyter-widgets/controls",
            "_model_module_version": "1.5.0",
            "value": 10091,
            "_view_count": null,
            "_view_module_version": "1.5.0",
            "orientation": "horizontal",
            "min": 0,
            "description_tooltip": null,
            "_model_module": "@jupyter-widgets/controls",
            "layout": "IPY_MODEL_58ebc41efe014231918beb5c009db3f8"
          }
        },
        "e613138f98d240f195ee9029bd865588": {
          "model_module": "@jupyter-widgets/controls",
          "model_name": "HTMLModel",
          "state": {
            "_view_name": "HTMLView",
            "style": "IPY_MODEL_092bf373548a4cada98de7e61e841b4c",
            "_dom_classes": [],
            "description": "",
            "_model_name": "HTMLModel",
            "placeholder": "​",
            "_view_module": "@jupyter-widgets/controls",
            "_model_module_version": "1.5.0",
            "value": " 10091/25000 [00:00&lt;00:00, 100894.94 examples/s]",
            "_view_count": null,
            "_view_module_version": "1.5.0",
            "description_tooltip": null,
            "_model_module": "@jupyter-widgets/controls",
            "layout": "IPY_MODEL_7b6df0c7e4824879b3083e60a9c6bf76"
          }
        },
        "64f51412e098429e9b3cba3aac5134cf": {
          "model_module": "@jupyter-widgets/controls",
          "model_name": "ProgressStyleModel",
          "state": {
            "_view_name": "StyleView",
            "_model_name": "ProgressStyleModel",
            "description_width": "initial",
            "_view_module": "@jupyter-widgets/base",
            "_model_module_version": "1.5.0",
            "_view_count": null,
            "_view_module_version": "1.2.0",
            "bar_color": null,
            "_model_module": "@jupyter-widgets/controls"
          }
        },
        "58ebc41efe014231918beb5c009db3f8": {
          "model_module": "@jupyter-widgets/base",
          "model_name": "LayoutModel",
          "state": {
            "_view_name": "LayoutView",
            "grid_template_rows": null,
            "right": null,
            "justify_content": null,
            "_view_module": "@jupyter-widgets/base",
            "overflow": null,
            "_model_module_version": "1.2.0",
            "_view_count": null,
            "flex_flow": null,
            "width": null,
            "min_width": null,
            "border": null,
            "align_items": null,
            "bottom": null,
            "_model_module": "@jupyter-widgets/base",
            "top": null,
            "grid_column": null,
            "overflow_y": null,
            "overflow_x": null,
            "grid_auto_flow": null,
            "grid_area": null,
            "grid_template_columns": null,
            "flex": null,
            "_model_name": "LayoutModel",
            "justify_items": null,
            "grid_row": null,
            "max_height": null,
            "align_content": null,
            "visibility": null,
            "align_self": null,
            "height": null,
            "min_height": null,
            "padding": null,
            "grid_auto_rows": null,
            "grid_gap": null,
            "max_width": null,
            "order": null,
            "_view_module_version": "1.2.0",
            "grid_template_areas": null,
            "object_position": null,
            "object_fit": null,
            "grid_auto_columns": null,
            "margin": null,
            "display": null,
            "left": null
          }
        },
        "092bf373548a4cada98de7e61e841b4c": {
          "model_module": "@jupyter-widgets/controls",
          "model_name": "DescriptionStyleModel",
          "state": {
            "_view_name": "StyleView",
            "_model_name": "DescriptionStyleModel",
            "description_width": "",
            "_view_module": "@jupyter-widgets/base",
            "_model_module_version": "1.5.0",
            "_view_count": null,
            "_view_module_version": "1.2.0",
            "_model_module": "@jupyter-widgets/controls"
          }
        },
        "7b6df0c7e4824879b3083e60a9c6bf76": {
          "model_module": "@jupyter-widgets/base",
          "model_name": "LayoutModel",
          "state": {
            "_view_name": "LayoutView",
            "grid_template_rows": null,
            "right": null,
            "justify_content": null,
            "_view_module": "@jupyter-widgets/base",
            "overflow": null,
            "_model_module_version": "1.2.0",
            "_view_count": null,
            "flex_flow": null,
            "width": null,
            "min_width": null,
            "border": null,
            "align_items": null,
            "bottom": null,
            "_model_module": "@jupyter-widgets/base",
            "top": null,
            "grid_column": null,
            "overflow_y": null,
            "overflow_x": null,
            "grid_auto_flow": null,
            "grid_area": null,
            "grid_template_columns": null,
            "flex": null,
            "_model_name": "LayoutModel",
            "justify_items": null,
            "grid_row": null,
            "max_height": null,
            "align_content": null,
            "visibility": null,
            "align_self": null,
            "height": null,
            "min_height": null,
            "padding": null,
            "grid_auto_rows": null,
            "grid_gap": null,
            "max_width": null,
            "order": null,
            "_view_module_version": "1.2.0",
            "grid_template_areas": null,
            "object_position": null,
            "object_fit": null,
            "grid_auto_columns": null,
            "margin": null,
            "display": null,
            "left": null
          }
        },
        "d63b67376a354dd799cae1d2c7c71986": {
          "model_module": "@jupyter-widgets/controls",
          "model_name": "HBoxModel",
          "state": {
            "_view_name": "HBoxView",
            "_dom_classes": [],
            "_model_name": "HBoxModel",
            "_view_module": "@jupyter-widgets/controls",
            "_model_module_version": "1.5.0",
            "_view_count": null,
            "_view_module_version": "1.5.0",
            "box_style": "",
            "layout": "IPY_MODEL_59619df2efa54e908167c9ddf0035ff5",
            "_model_module": "@jupyter-widgets/controls",
            "children": [
              "IPY_MODEL_485c777f49bc491fa011863d01406007",
              "IPY_MODEL_fdd07b43ccad4002ba9f8921b291175d"
            ]
          }
        },
        "59619df2efa54e908167c9ddf0035ff5": {
          "model_module": "@jupyter-widgets/base",
          "model_name": "LayoutModel",
          "state": {
            "_view_name": "LayoutView",
            "grid_template_rows": null,
            "right": null,
            "justify_content": null,
            "_view_module": "@jupyter-widgets/base",
            "overflow": null,
            "_model_module_version": "1.2.0",
            "_view_count": null,
            "flex_flow": null,
            "width": null,
            "min_width": null,
            "border": null,
            "align_items": null,
            "bottom": null,
            "_model_module": "@jupyter-widgets/base",
            "top": null,
            "grid_column": null,
            "overflow_y": null,
            "overflow_x": null,
            "grid_auto_flow": null,
            "grid_area": null,
            "grid_template_columns": null,
            "flex": null,
            "_model_name": "LayoutModel",
            "justify_items": null,
            "grid_row": null,
            "max_height": null,
            "align_content": null,
            "visibility": null,
            "align_self": null,
            "height": null,
            "min_height": null,
            "padding": null,
            "grid_auto_rows": null,
            "grid_gap": null,
            "max_width": null,
            "order": null,
            "_view_module_version": "1.2.0",
            "grid_template_areas": null,
            "object_position": null,
            "object_fit": null,
            "grid_auto_columns": null,
            "margin": null,
            "display": null,
            "left": null
          }
        },
        "485c777f49bc491fa011863d01406007": {
          "model_module": "@jupyter-widgets/controls",
          "model_name": "FloatProgressModel",
          "state": {
            "_view_name": "ProgressView",
            "style": "IPY_MODEL_91599941e1224425873fe39e951f5390",
            "_dom_classes": [],
            "description": "",
            "_model_name": "FloatProgressModel",
            "bar_style": "info",
            "max": 1,
            "_view_module": "@jupyter-widgets/controls",
            "_model_module_version": "1.5.0",
            "value": 1,
            "_view_count": null,
            "_view_module_version": "1.5.0",
            "orientation": "horizontal",
            "min": 0,
            "description_tooltip": null,
            "_model_module": "@jupyter-widgets/controls",
            "layout": "IPY_MODEL_4ec0ee13b5704e8bba81e29d8316541f"
          }
        },
        "fdd07b43ccad4002ba9f8921b291175d": {
          "model_module": "@jupyter-widgets/controls",
          "model_name": "HTMLModel",
          "state": {
            "_view_name": "HTMLView",
            "style": "IPY_MODEL_7a8fb67b7e3541918700e97f25fd0c6a",
            "_dom_classes": [],
            "description": "",
            "_model_name": "HTMLModel",
            "placeholder": "​",
            "_view_module": "@jupyter-widgets/controls",
            "_model_module_version": "1.5.0",
            "value": " 50000/0 [00:18&lt;00:00, 3529.86 examples/s]",
            "_view_count": null,
            "_view_module_version": "1.5.0",
            "description_tooltip": null,
            "_model_module": "@jupyter-widgets/controls",
            "layout": "IPY_MODEL_d7d86275144b48a69b5b601b7d303650"
          }
        },
        "91599941e1224425873fe39e951f5390": {
          "model_module": "@jupyter-widgets/controls",
          "model_name": "ProgressStyleModel",
          "state": {
            "_view_name": "StyleView",
            "_model_name": "ProgressStyleModel",
            "description_width": "initial",
            "_view_module": "@jupyter-widgets/base",
            "_model_module_version": "1.5.0",
            "_view_count": null,
            "_view_module_version": "1.2.0",
            "bar_color": null,
            "_model_module": "@jupyter-widgets/controls"
          }
        },
        "4ec0ee13b5704e8bba81e29d8316541f": {
          "model_module": "@jupyter-widgets/base",
          "model_name": "LayoutModel",
          "state": {
            "_view_name": "LayoutView",
            "grid_template_rows": null,
            "right": null,
            "justify_content": null,
            "_view_module": "@jupyter-widgets/base",
            "overflow": null,
            "_model_module_version": "1.2.0",
            "_view_count": null,
            "flex_flow": null,
            "width": null,
            "min_width": null,
            "border": null,
            "align_items": null,
            "bottom": null,
            "_model_module": "@jupyter-widgets/base",
            "top": null,
            "grid_column": null,
            "overflow_y": null,
            "overflow_x": null,
            "grid_auto_flow": null,
            "grid_area": null,
            "grid_template_columns": null,
            "flex": null,
            "_model_name": "LayoutModel",
            "justify_items": null,
            "grid_row": null,
            "max_height": null,
            "align_content": null,
            "visibility": null,
            "align_self": null,
            "height": null,
            "min_height": null,
            "padding": null,
            "grid_auto_rows": null,
            "grid_gap": null,
            "max_width": null,
            "order": null,
            "_view_module_version": "1.2.0",
            "grid_template_areas": null,
            "object_position": null,
            "object_fit": null,
            "grid_auto_columns": null,
            "margin": null,
            "display": null,
            "left": null
          }
        },
        "7a8fb67b7e3541918700e97f25fd0c6a": {
          "model_module": "@jupyter-widgets/controls",
          "model_name": "DescriptionStyleModel",
          "state": {
            "_view_name": "StyleView",
            "_model_name": "DescriptionStyleModel",
            "description_width": "",
            "_view_module": "@jupyter-widgets/base",
            "_model_module_version": "1.5.0",
            "_view_count": null,
            "_view_module_version": "1.2.0",
            "_model_module": "@jupyter-widgets/controls"
          }
        },
        "d7d86275144b48a69b5b601b7d303650": {
          "model_module": "@jupyter-widgets/base",
          "model_name": "LayoutModel",
          "state": {
            "_view_name": "LayoutView",
            "grid_template_rows": null,
            "right": null,
            "justify_content": null,
            "_view_module": "@jupyter-widgets/base",
            "overflow": null,
            "_model_module_version": "1.2.0",
            "_view_count": null,
            "flex_flow": null,
            "width": null,
            "min_width": null,
            "border": null,
            "align_items": null,
            "bottom": null,
            "_model_module": "@jupyter-widgets/base",
            "top": null,
            "grid_column": null,
            "overflow_y": null,
            "overflow_x": null,
            "grid_auto_flow": null,
            "grid_area": null,
            "grid_template_columns": null,
            "flex": null,
            "_model_name": "LayoutModel",
            "justify_items": null,
            "grid_row": null,
            "max_height": null,
            "align_content": null,
            "visibility": null,
            "align_self": null,
            "height": null,
            "min_height": null,
            "padding": null,
            "grid_auto_rows": null,
            "grid_gap": null,
            "max_width": null,
            "order": null,
            "_view_module_version": "1.2.0",
            "grid_template_areas": null,
            "object_position": null,
            "object_fit": null,
            "grid_auto_columns": null,
            "margin": null,
            "display": null,
            "left": null
          }
        },
        "03324ccb0edb4257bbcc8cef92382a7e": {
          "model_module": "@jupyter-widgets/controls",
          "model_name": "HBoxModel",
          "state": {
            "_view_name": "HBoxView",
            "_dom_classes": [],
            "_model_name": "HBoxModel",
            "_view_module": "@jupyter-widgets/controls",
            "_model_module_version": "1.5.0",
            "_view_count": null,
            "_view_module_version": "1.5.0",
            "box_style": "",
            "layout": "IPY_MODEL_3fe2e696b88b415f83d15168ba408f0b",
            "_model_module": "@jupyter-widgets/controls",
            "children": [
              "IPY_MODEL_a793eca4b7b0463f875c9b663f12d5e0",
              "IPY_MODEL_3f06b736951842988417b38a95215e3d"
            ]
          }
        },
        "3fe2e696b88b415f83d15168ba408f0b": {
          "model_module": "@jupyter-widgets/base",
          "model_name": "LayoutModel",
          "state": {
            "_view_name": "LayoutView",
            "grid_template_rows": null,
            "right": null,
            "justify_content": null,
            "_view_module": "@jupyter-widgets/base",
            "overflow": null,
            "_model_module_version": "1.2.0",
            "_view_count": null,
            "flex_flow": null,
            "width": null,
            "min_width": null,
            "border": null,
            "align_items": null,
            "bottom": null,
            "_model_module": "@jupyter-widgets/base",
            "top": null,
            "grid_column": null,
            "overflow_y": null,
            "overflow_x": null,
            "grid_auto_flow": null,
            "grid_area": null,
            "grid_template_columns": null,
            "flex": null,
            "_model_name": "LayoutModel",
            "justify_items": null,
            "grid_row": null,
            "max_height": null,
            "align_content": null,
            "visibility": null,
            "align_self": null,
            "height": null,
            "min_height": null,
            "padding": null,
            "grid_auto_rows": null,
            "grid_gap": null,
            "max_width": null,
            "order": null,
            "_view_module_version": "1.2.0",
            "grid_template_areas": null,
            "object_position": null,
            "object_fit": null,
            "grid_auto_columns": null,
            "margin": null,
            "display": null,
            "left": null
          }
        },
        "a793eca4b7b0463f875c9b663f12d5e0": {
          "model_module": "@jupyter-widgets/controls",
          "model_name": "FloatProgressModel",
          "state": {
            "_view_name": "ProgressView",
            "style": "IPY_MODEL_f60e0285cd2c49ab8a64a8042caf3915",
            "_dom_classes": [],
            "description": " 59%",
            "_model_name": "FloatProgressModel",
            "bar_style": "danger",
            "max": 50000,
            "_view_module": "@jupyter-widgets/controls",
            "_model_module_version": "1.5.0",
            "value": 29648,
            "_view_count": null,
            "_view_module_version": "1.5.0",
            "orientation": "horizontal",
            "min": 0,
            "description_tooltip": null,
            "_model_module": "@jupyter-widgets/controls",
            "layout": "IPY_MODEL_e31f0d8f0caf4985bcb9efe5abebd79c"
          }
        },
        "3f06b736951842988417b38a95215e3d": {
          "model_module": "@jupyter-widgets/controls",
          "model_name": "HTMLModel",
          "state": {
            "_view_name": "HTMLView",
            "style": "IPY_MODEL_80b67a10d5c24c45be3f78d20549ed2b",
            "_dom_classes": [],
            "description": "",
            "_model_name": "HTMLModel",
            "placeholder": "​",
            "_view_module": "@jupyter-widgets/controls",
            "_model_module_version": "1.5.0",
            "value": " 29648/50000 [00:00&lt;00:00, 49107.04 examples/s]",
            "_view_count": null,
            "_view_module_version": "1.5.0",
            "description_tooltip": null,
            "_model_module": "@jupyter-widgets/controls",
            "layout": "IPY_MODEL_860a8df127b84403bb581bea6f318cb4"
          }
        },
        "f60e0285cd2c49ab8a64a8042caf3915": {
          "model_module": "@jupyter-widgets/controls",
          "model_name": "ProgressStyleModel",
          "state": {
            "_view_name": "StyleView",
            "_model_name": "ProgressStyleModel",
            "description_width": "initial",
            "_view_module": "@jupyter-widgets/base",
            "_model_module_version": "1.5.0",
            "_view_count": null,
            "_view_module_version": "1.2.0",
            "bar_color": null,
            "_model_module": "@jupyter-widgets/controls"
          }
        },
        "e31f0d8f0caf4985bcb9efe5abebd79c": {
          "model_module": "@jupyter-widgets/base",
          "model_name": "LayoutModel",
          "state": {
            "_view_name": "LayoutView",
            "grid_template_rows": null,
            "right": null,
            "justify_content": null,
            "_view_module": "@jupyter-widgets/base",
            "overflow": null,
            "_model_module_version": "1.2.0",
            "_view_count": null,
            "flex_flow": null,
            "width": null,
            "min_width": null,
            "border": null,
            "align_items": null,
            "bottom": null,
            "_model_module": "@jupyter-widgets/base",
            "top": null,
            "grid_column": null,
            "overflow_y": null,
            "overflow_x": null,
            "grid_auto_flow": null,
            "grid_area": null,
            "grid_template_columns": null,
            "flex": null,
            "_model_name": "LayoutModel",
            "justify_items": null,
            "grid_row": null,
            "max_height": null,
            "align_content": null,
            "visibility": null,
            "align_self": null,
            "height": null,
            "min_height": null,
            "padding": null,
            "grid_auto_rows": null,
            "grid_gap": null,
            "max_width": null,
            "order": null,
            "_view_module_version": "1.2.0",
            "grid_template_areas": null,
            "object_position": null,
            "object_fit": null,
            "grid_auto_columns": null,
            "margin": null,
            "display": null,
            "left": null
          }
        },
        "80b67a10d5c24c45be3f78d20549ed2b": {
          "model_module": "@jupyter-widgets/controls",
          "model_name": "DescriptionStyleModel",
          "state": {
            "_view_name": "StyleView",
            "_model_name": "DescriptionStyleModel",
            "description_width": "",
            "_view_module": "@jupyter-widgets/base",
            "_model_module_version": "1.5.0",
            "_view_count": null,
            "_view_module_version": "1.2.0",
            "_model_module": "@jupyter-widgets/controls"
          }
        },
        "860a8df127b84403bb581bea6f318cb4": {
          "model_module": "@jupyter-widgets/base",
          "model_name": "LayoutModel",
          "state": {
            "_view_name": "LayoutView",
            "grid_template_rows": null,
            "right": null,
            "justify_content": null,
            "_view_module": "@jupyter-widgets/base",
            "overflow": null,
            "_model_module_version": "1.2.0",
            "_view_count": null,
            "flex_flow": null,
            "width": null,
            "min_width": null,
            "border": null,
            "align_items": null,
            "bottom": null,
            "_model_module": "@jupyter-widgets/base",
            "top": null,
            "grid_column": null,
            "overflow_y": null,
            "overflow_x": null,
            "grid_auto_flow": null,
            "grid_area": null,
            "grid_template_columns": null,
            "flex": null,
            "_model_name": "LayoutModel",
            "justify_items": null,
            "grid_row": null,
            "max_height": null,
            "align_content": null,
            "visibility": null,
            "align_self": null,
            "height": null,
            "min_height": null,
            "padding": null,
            "grid_auto_rows": null,
            "grid_gap": null,
            "max_width": null,
            "order": null,
            "_view_module_version": "1.2.0",
            "grid_template_areas": null,
            "object_position": null,
            "object_fit": null,
            "grid_auto_columns": null,
            "margin": null,
            "display": null,
            "left": null
          }
        }
      }
    }
  },
  "cells": [
    {
      "cell_type": "markdown",
      "metadata": {
        "id": "view-in-github",
        "colab_type": "text"
      },
      "source": [
        "<a href=\"https://colab.research.google.com/github/Andres8bit/Machine-Learning/blob/main/IMDB_movie_sentiment_classification.ipynb\" target=\"_parent\"><img src=\"https://colab.research.google.com/assets/colab-badge.svg\" alt=\"Open In Colab\"/></a>"
      ]
    },
    {
      "cell_type": "code",
      "metadata": {
        "id": "SkYfQlVdS9qG"
      },
      "source": [
        "import numpy as np\n",
        "import tensorflow_datasets as tfds\n",
        "import tensorflow as tf\n",
        "import matplotlib.pyplot as plt\n"
      ],
      "execution_count": 1,
      "outputs": []
    },
    {
      "cell_type": "code",
      "metadata": {
        "id": "R1k0mJ_mZR-8"
      },
      "source": [
        "def plot_graphs(history,metric):\n",
        "  plt.plot(history.history[metric])\n",
        "  plt.plot(history.history['val_'+metric], '')\n",
        "  plt.xlabel(\"Epochs\")\n",
        "  plt.ylabel(metric)\n",
        "  plt.legend([metric,'val_'+metric])"
      ],
      "execution_count": 2,
      "outputs": []
    },
    {
      "cell_type": "code",
      "metadata": {
        "colab": {
          "base_uri": "https://localhost:8080/",
          "height": 421,
          "referenced_widgets": [
            "1350dc4a9b524866822c302d8e2f3a37",
            "c809ea2eadd84033b27477e31c20dae8",
            "d8c689edfedf4b598b64e05cc57fd27b",
            "e02e7566673844e2bf69846229b88fca",
            "b52d2c0aea8f4be98a8160b98d01afc8",
            "e7e9aacc241a433e8c1d0574990e92b5",
            "fdae0a74580844adac291a4953228c1b",
            "81b771b906914ee88d0d083d1a303b10",
            "a083b11910a942f695471fcd000efd6f",
            "95ac17647b6843418575ca2ee6aee81f",
            "5ac90e55daec4a439bcb5076aad1efdf",
            "9fdde83a9ad949969858da4106722a25",
            "64f6e253f4144f0794589b5d4ad88221",
            "7d98c14e4935487e8749c2be4eed4161",
            "d6b42d3f6cac448da0fe1e50a76ff7e6",
            "f40fb65060e644b2b14e431cc97f7230",
            "22f1ae368a7e40a9a955403462fd3af4",
            "62cb2f89accb425081beba7208b3d5cb",
            "9f4e308ef9084829b69a6a5f2eaa9853",
            "4ac0596286b949ccb7dbe19606ab37be",
            "b327ef80aa6844d39bf7aaf5e573dcaa",
            "d71ff8d7a38c4a2dab8837f46300af18",
            "e0e6b697c36d42cfa9128c26393cc784",
            "b376ac64011f44fcbb5c7677633fffc1",
            "b48032e39d2645b2b578aa4fac5fa4fc",
            "bc4a3c6f410b4e8aa86b6829f1d26ecf",
            "40594651a4e342d5a16eeda6e6e05081",
            "a8ecb5d263614c89aea7033e00a733d4",
            "cdf1d4d84d20421cbaf98b977780bea9",
            "cccbaf46cf1d4d39bb6a954c70939909",
            "524d3e9f1c0641eca43299c5306a34b2",
            "82bb8b3baa004bc7ad81b4fc3e2b47e0",
            "595f5ab2088746e5a0ca754947e2b43f",
            "9ff8a02622884473bb3bcb4b1ed119e6",
            "a592df1fc42d4206954ea586b607a888",
            "7971eb2db7e3488d8a04921e563b8909",
            "72cdaa66b59549c3bce8dd3a43c7ae4c",
            "8bd64384971547449e7f30006da875ed",
            "eb9f21a3cc59458e94da878eef76a907",
            "ffc415b7b3404b6b8754324178294d56",
            "2fe037e5b918410c99f48fb3589c9d0a",
            "edc3bf9d5a3b4f8fbb826ab958584370",
            "26cd654808704d8c925b648835eebcff",
            "e613138f98d240f195ee9029bd865588",
            "64f51412e098429e9b3cba3aac5134cf",
            "58ebc41efe014231918beb5c009db3f8",
            "092bf373548a4cada98de7e61e841b4c",
            "7b6df0c7e4824879b3083e60a9c6bf76",
            "d63b67376a354dd799cae1d2c7c71986",
            "59619df2efa54e908167c9ddf0035ff5",
            "485c777f49bc491fa011863d01406007",
            "fdd07b43ccad4002ba9f8921b291175d",
            "91599941e1224425873fe39e951f5390",
            "4ec0ee13b5704e8bba81e29d8316541f",
            "7a8fb67b7e3541918700e97f25fd0c6a",
            "d7d86275144b48a69b5b601b7d303650",
            "03324ccb0edb4257bbcc8cef92382a7e",
            "3fe2e696b88b415f83d15168ba408f0b",
            "a793eca4b7b0463f875c9b663f12d5e0",
            "3f06b736951842988417b38a95215e3d",
            "f60e0285cd2c49ab8a64a8042caf3915",
            "e31f0d8f0caf4985bcb9efe5abebd79c",
            "80b67a10d5c24c45be3f78d20549ed2b",
            "860a8df127b84403bb581bea6f318cb4"
          ]
        },
        "id": "C6-Dqx4BjTjA",
        "outputId": "246ce686-4aaf-4ec5-ae7e-3e0d299d2661"
      },
      "source": [
        "dataset, info = tfds.load('imdb_reviews', with_info=True,\n",
        "                          as_supervised=True)\n",
        "\n",
        "train_dataset, test_dataset = dataset['train'],dataset['test']\n",
        "\n",
        "train_dataset.element_spec"
      ],
      "execution_count": 3,
      "outputs": [
        {
          "output_type": "stream",
          "text": [
            "\u001b[1mDownloading and preparing dataset imdb_reviews/plain_text/1.0.0 (download: 80.23 MiB, generated: Unknown size, total: 80.23 MiB) to /root/tensorflow_datasets/imdb_reviews/plain_text/1.0.0...\u001b[0m\n"
          ],
          "name": "stdout"
        },
        {
          "output_type": "display_data",
          "data": {
            "application/vnd.jupyter.widget-view+json": {
              "model_id": "1350dc4a9b524866822c302d8e2f3a37",
              "version_minor": 0,
              "version_major": 2
            },
            "text/plain": [
              "HBox(children=(FloatProgress(value=1.0, bar_style='info', description='Dl Completed...', max=1.0, style=Progre…"
            ]
          },
          "metadata": {
            "tags": []
          }
        },
        {
          "output_type": "display_data",
          "data": {
            "application/vnd.jupyter.widget-view+json": {
              "model_id": "a083b11910a942f695471fcd000efd6f",
              "version_minor": 0,
              "version_major": 2
            },
            "text/plain": [
              "HBox(children=(FloatProgress(value=1.0, bar_style='info', description='Dl Size...', max=1.0, style=ProgressSty…"
            ]
          },
          "metadata": {
            "tags": []
          }
        },
        {
          "output_type": "stream",
          "text": [
            "\n",
            "\n",
            "\n",
            "\n"
          ],
          "name": "stdout"
        },
        {
          "output_type": "display_data",
          "data": {
            "application/vnd.jupyter.widget-view+json": {
              "model_id": "22f1ae368a7e40a9a955403462fd3af4",
              "version_minor": 0,
              "version_major": 2
            },
            "text/plain": [
              "HBox(children=(FloatProgress(value=1.0, bar_style='info', max=1.0), HTML(value='')))"
            ]
          },
          "metadata": {
            "tags": []
          }
        },
        {
          "output_type": "stream",
          "text": [
            "\rShuffling and writing examples to /root/tensorflow_datasets/imdb_reviews/plain_text/1.0.0.incompleteAGD7JX/imdb_reviews-train.tfrecord\n"
          ],
          "name": "stdout"
        },
        {
          "output_type": "display_data",
          "data": {
            "application/vnd.jupyter.widget-view+json": {
              "model_id": "b48032e39d2645b2b578aa4fac5fa4fc",
              "version_minor": 0,
              "version_major": 2
            },
            "text/plain": [
              "HBox(children=(FloatProgress(value=0.0, max=25000.0), HTML(value='')))"
            ]
          },
          "metadata": {
            "tags": []
          }
        },
        {
          "output_type": "stream",
          "text": [
            "\r"
          ],
          "name": "stdout"
        },
        {
          "output_type": "display_data",
          "data": {
            "application/vnd.jupyter.widget-view+json": {
              "model_id": "595f5ab2088746e5a0ca754947e2b43f",
              "version_minor": 0,
              "version_major": 2
            },
            "text/plain": [
              "HBox(children=(FloatProgress(value=1.0, bar_style='info', max=1.0), HTML(value='')))"
            ]
          },
          "metadata": {
            "tags": []
          }
        },
        {
          "output_type": "stream",
          "text": [
            "\rShuffling and writing examples to /root/tensorflow_datasets/imdb_reviews/plain_text/1.0.0.incompleteAGD7JX/imdb_reviews-test.tfrecord\n"
          ],
          "name": "stdout"
        },
        {
          "output_type": "display_data",
          "data": {
            "application/vnd.jupyter.widget-view+json": {
              "model_id": "2fe037e5b918410c99f48fb3589c9d0a",
              "version_minor": 0,
              "version_major": 2
            },
            "text/plain": [
              "HBox(children=(FloatProgress(value=0.0, max=25000.0), HTML(value='')))"
            ]
          },
          "metadata": {
            "tags": []
          }
        },
        {
          "output_type": "stream",
          "text": [
            "\r"
          ],
          "name": "stdout"
        },
        {
          "output_type": "display_data",
          "data": {
            "application/vnd.jupyter.widget-view+json": {
              "model_id": "d63b67376a354dd799cae1d2c7c71986",
              "version_minor": 0,
              "version_major": 2
            },
            "text/plain": [
              "HBox(children=(FloatProgress(value=1.0, bar_style='info', max=1.0), HTML(value='')))"
            ]
          },
          "metadata": {
            "tags": []
          }
        },
        {
          "output_type": "stream",
          "text": [
            "\rShuffling and writing examples to /root/tensorflow_datasets/imdb_reviews/plain_text/1.0.0.incompleteAGD7JX/imdb_reviews-unsupervised.tfrecord\n"
          ],
          "name": "stdout"
        },
        {
          "output_type": "display_data",
          "data": {
            "application/vnd.jupyter.widget-view+json": {
              "model_id": "03324ccb0edb4257bbcc8cef92382a7e",
              "version_minor": 0,
              "version_major": 2
            },
            "text/plain": [
              "HBox(children=(FloatProgress(value=0.0, max=50000.0), HTML(value='')))"
            ]
          },
          "metadata": {
            "tags": []
          }
        },
        {
          "output_type": "stream",
          "text": [
            "WARNING:absl:Dataset is using deprecated text encoder API which will be removed soon. Please use the plain_text version of the dataset and migrate to `tensorflow_text`.\n"
          ],
          "name": "stderr"
        },
        {
          "output_type": "stream",
          "text": [
            "\u001b[1mDataset imdb_reviews downloaded and prepared to /root/tensorflow_datasets/imdb_reviews/plain_text/1.0.0. Subsequent calls will reuse this data.\u001b[0m\n",
            "\r"
          ],
          "name": "stdout"
        },
        {
          "output_type": "execute_result",
          "data": {
            "text/plain": [
              "(TensorSpec(shape=(), dtype=tf.string, name=None),\n",
              " TensorSpec(shape=(), dtype=tf.int64, name=None))"
            ]
          },
          "metadata": {
            "tags": []
          },
          "execution_count": 3
        }
      ]
    },
    {
      "cell_type": "code",
      "metadata": {
        "colab": {
          "base_uri": "https://localhost:8080/"
        },
        "id": "8Sryg5cRlvGn",
        "outputId": "92bd25be-f532-416c-99d4-80ac8bf746f0"
      },
      "source": [
        "for example, label in train_dataset.take(100):\n",
        "  print('text: ',example.numpy())\n",
        "  print('label: ',label.numpy())"
      ],
      "execution_count": 4,
      "outputs": [
        {
          "output_type": "stream",
          "text": [
            "text:  b\"This was an absolutely terrible movie. Don't be lured in by Christopher Walken or Michael Ironside. Both are great actors, but this must simply be their worst role in history. Even their great acting could not redeem this movie's ridiculous storyline. This movie is an early nineties US propaganda piece. The most pathetic scenes were those when the Columbian rebels were making their cases for revolutions. Maria Conchita Alonso appeared phony, and her pseudo-love affair with Walken was nothing but a pathetic emotional plug in a movie that was devoid of any real meaning. I am disappointed that there are movies like this, ruining actor's like Christopher Walken's good name. I could barely sit through it.\"\n",
            "label:  0\n",
            "text:  b'I have been known to fall asleep during films, but this is usually due to a combination of things including, really tired, being warm and comfortable on the sette and having just eaten a lot. However on this occasion I fell asleep because the film was rubbish. The plot development was constant. Constantly slow and boring. Things seemed to happen, but with no explanation of what was causing them or why. I admit, I may have missed part of the film, but i watched the majority of it and everything just seemed to happen of its own accord without any real concern for anything else. I cant recommend this film at all.'\n",
            "label:  0\n",
            "text:  b'Mann photographs the Alberta Rocky Mountains in a superb fashion, and Jimmy Stewart and Walter Brennan give enjoyable performances as they always seem to do. <br /><br />But come on Hollywood - a Mountie telling the people of Dawson City, Yukon to elect themselves a marshal (yes a marshal!) and to enforce the law themselves, then gunfighters battling it out on the streets for control of the town? <br /><br />Nothing even remotely resembling that happened on the Canadian side of the border during the Klondike gold rush. Mr. Mann and company appear to have mistaken Dawson City for Deadwood, the Canadian North for the American Wild West.<br /><br />Canadian viewers be prepared for a Reefer Madness type of enjoyable howl with this ludicrous plot, or, to shake your head in disgust.'\n",
            "label:  0\n",
            "text:  b'This is the kind of film for a snowy Sunday afternoon when the rest of the world can go ahead with its own business as you descend into a big arm-chair and mellow for a couple of hours. Wonderful performances from Cher and Nicolas Cage (as always) gently row the plot along. There are no rapids to cross, no dangerous waters, just a warm and witty paddle through New York life at its best. A family film in every sense and one that deserves the praise it received.'\n",
            "label:  1\n",
            "text:  b'As others have mentioned, all the women that go nude in this film are mostly absolutely gorgeous. The plot very ably shows the hypocrisy of the female libido. When men are around they want to be pursued, but when no \"men\" are around, they become the pursuers of a 14 year old boy. And the boy becomes a man really fast (we should all be so lucky at this age!). He then gets up the courage to pursue his true love.'\n",
            "label:  1\n",
            "text:  b\"This is a film which should be seen by anybody interested in, effected by, or suffering from an eating disorder. It is an amazingly accurate and sensitive portrayal of bulimia in a teenage girl, its causes and its symptoms. The girl is played by one of the most brilliant young actresses working in cinema today, Alison Lohman, who was later so spectacular in 'Where the Truth Lies'. I would recommend that this film be shown in all schools, as you will never see a better on this subject. Alison Lohman is absolutely outstanding, and one marvels at her ability to convey the anguish of a girl suffering from this compulsive disorder. If barometers tell us the air pressure, Alison Lohman tells us the emotional pressure with the same degree of accuracy. Her emotional range is so precise, each scene could be measured microscopically for its gradations of trauma, on a scale of rising hysteria and desperation which reaches unbearable intensity. Mare Winningham is the perfect choice to play her mother, and does so with immense sympathy and a range of emotions just as finely tuned as Lohman's. Together, they make a pair of sensitive emotional oscillators vibrating in resonance with one another. This film is really an astonishing achievement, and director Katt Shea should be proud of it. The only reason for not seeing it is if you are not interested in people. But even if you like nature films best, this is after all animal behaviour at the sharp edge. Bulimia is an extreme version of how a tormented soul can destroy her own body in a frenzy of despair. And if we don't sympathise with people suffering from the depths of despair, then we are dead inside.\"\n",
            "label:  1\n",
            "text:  b'Okay, you have:<br /><br />Penelope Keith as Miss Herringbone-Tweed, B.B.E. (Backbone of England.) She\\'s killed off in the first scene - that\\'s right, folks; this show has no backbone!<br /><br />Peter O\\'Toole as Ol\\' Colonel Cricket from The First War and now the emblazered Lord of the Manor.<br /><br />Joanna Lumley as the ensweatered Lady of the Manor, 20 years younger than the colonel and 20 years past her own prime but still glamourous (Brit spelling, not mine) enough to have a toy-boy on the side. It\\'s alright, they have Col. Cricket\\'s full knowledge and consent (they guy even comes \\'round for Christmas!) Still, she\\'s considerate of the colonel enough to have said toy-boy her own age (what a gal!)<br /><br />David McCallum as said toy-boy, equally as pointlessly glamourous as his squeeze. Pilcher couldn\\'t come up with any cover for him within the story, so she gave him a hush-hush job at the Circus.<br /><br />and finally:<br /><br />Susan Hampshire as Miss Polonia Teacups, Venerable Headmistress of the Venerable Girls\\' Boarding-School, serving tea in her office with a dash of deep, poignant advice for life in the outside world just before graduation. Her best bit of advice: \"I\\'ve only been to Nancherrow (the local Stately Home of England) once. I thought it was very beautiful but, somehow, not part of the real world.\" Well, we can\\'t say they didn\\'t warn us.<br /><br />Ah, Susan - time was, your character would have been running the whole show. They don\\'t write \\'em like that any more. Our loss, not yours.<br /><br />So - with a cast and setting like this, you have the re-makings of \"Brideshead Revisited,\" right?<br /><br />Wrong! They took these 1-dimensional supporting roles because they paid so well. After all, acting is one of the oldest temp-jobs there is (YOU name another!)<br /><br />First warning sign: lots and lots of backlighting. They get around it by shooting outdoors - \"hey, it\\'s just the sunlight!\"<br /><br />Second warning sign: Leading Lady cries a lot. When not crying, her eyes are moist. That\\'s the law of romance novels: Leading Lady is \"dewy-eyed.\"<br /><br />Henceforth, Leading Lady shall be known as L.L.<br /><br />Third warning sign: L.L. actually has stars in her eyes when she\\'s in love. Still, I\\'ll give Emily Mortimer an award just for having to act with that spotlight in her eyes (I wonder . did they use contacts?)<br /><br />And lastly, fourth warning sign: no on-screen female character is \"Mrs.\" She\\'s either \"Miss\" or \"Lady.\"<br /><br />When all was said and done, I still couldn\\'t tell you who was pursuing whom and why. I couldn\\'t even tell you what was said and done.<br /><br />To sum up: they all live through World War II without anything happening to them at all.<br /><br />OK, at the end, L.L. finds she\\'s lost her parents to the Japanese prison camps and baby sis comes home catatonic. Meanwhile (there\\'s always a \"meanwhile,\") some young guy L.L. had a crush on (when, I don\\'t know) comes home from some wartime tough spot and is found living on the street by Lady of the Manor (must be some street if SHE\\'s going to find him there.) Both war casualties are whisked away to recover at Nancherrow (SOMEBODY has to be \"whisked away\" SOMEWHERE in these romance stories!)<br /><br />Great drama.'\n",
            "label:  0\n",
            "text:  b'The film is based on a genuine 1950s novel.<br /><br />Journalist Colin McInnes wrote a set of three \"London novels\": \"Absolute Beginners\", \"City of Spades\" and \"Mr Love and Justice\". I have read all three. The first two are excellent. The last, perhaps an experiment that did not come off. But McInnes\\'s work is highly acclaimed; and rightly so. This musical is the novelist\\'s ultimate nightmare - to see the fruits of one\\'s mind being turned into a glitzy, badly-acted, soporific one-dimensional apology of a film that says it captures the spirit of 1950s London, and does nothing of the sort.<br /><br />Thank goodness Colin McInnes wasn\\'t alive to witness it.'\n",
            "label:  0\n",
            "text:  b'I really love the sexy action and sci-fi films of the sixties and its because of the actress\\'s that appeared in them. They found the sexiest women to be in these films and it didn\\'t matter if they could act (Remember \"Candy\"?). The reason I was disappointed by this film was because it wasn\\'t nostalgic enough. The story here has a European sci-fi film called \"Dragonfly\" being made and the director is fired. So the producers decide to let a young aspiring filmmaker (Jeremy Davies) to complete the picture. They\\'re is one real beautiful woman in the film who plays Dragonfly but she\\'s barely in it. Film is written and directed by Roman Coppola who uses some of his fathers exploits from his early days and puts it into the script. I wish the film could have been an homage to those early films. They could have lots of cameos by actors who appeared in them. There is one actor in this film who was popular from the sixties and its John Phillip Law (Barbarella). Gerard Depardieu, Giancarlo Giannini and Dean Stockwell appear as well. I guess I\\'m going to have to continue waiting for a director to make a good homage to the films of the sixties. If any are reading this, \"Make it as sexy as you can\"! I\\'ll be waiting!'\n",
            "label:  0\n",
            "text:  b'Sure, this one isn\\'t really a blockbuster, nor does it target such a position. \"Dieter\" is the first name of a quite popular German musician, who is either loved or hated for his kind of acting and thats exactly what this movie is about. It is based on the autobiography \"Dieter Bohlen\" wrote a few years ago but isn\\'t meant to be accurate on that. The movie is filled with some sexual offensive content (at least for American standard) which is either amusing (not for the other \"actors\" of course) or dumb - it depends on your individual kind of humor or on you being a \"Bohlen\"-Fan or not. Technically speaking there isn\\'t much to criticize. Speaking of me I find this movie to be an OK-movie.'\n",
            "label:  0\n",
            "text:  b'During a sleepless night, I was switching through the channels & found this embarrassment of a movie. What were they thinking?<br /><br />If this is life after \"Remote Control\" for Kari (Wuhrer) Salin, no wonder she\\'s gone nowhere.<br /><br />And why did David Keith take this role? It\\'s pathetic!<br /><br />Anyway, I turned on the movie near the end, so I didn\\'t get much of the plot. But this must\\'ve been the best part. This nerdy college kid brings home this dominatrix-ish girl...this scene is straight out of the comic books -- or the cheap porn movies. She calls the mother anal retentive and kisses the father \"Oh, I didn\\'t expect tongue!\" Great lines!<br /><br />After this, I had to see how it ended..<br /><br />Well, of course, this bitch from hell has a helluva past, so the SWAT team is upstairs. And yes...they surround her! And YES YES! The kid blows her brains out!!!! AHAHHAHAHAHA!!<br /><br />This is must-see TV. <br /><br />'\n",
            "label:  0\n",
            "text:  b'Cute film about three lively sisters from Switzerland (often seen running about in matching outfits) who want to get their parents back together (seems mom is still carrying the torch for dad) - so they sail off to New York to stop the dad from marrying a blonde gold-digger he calls \"Precious\". Dad hasn\\'t seen his daughters in ten years, they (oddly enough) don\\'t seem to mind and think he\\'s wonderful, and meanwhile Precious seems to lead a life mainly run by her overbearing mother (Alice Brady), a woman who just wants to see to it her daughter marries a rich man. The sisters get the idea of pushing Precious into the path of a drunken Hungarian count, tricking the two gold-digging women into thinking he is one of the richest men in Europe. But a case of mistaken identity makes the girls think the count is good-looking Ray Milland, who goes along with the scheme \\'cause he has a crush on sister Kay.<br /><br />This film is enjoyable, light fare. Barbara Read as Kay comes across as sweet and pretty, Ray Milland looks oh so young and handsome here (though, unfortunately, is given little to do), Alice Brady is quite good as the scheming mother - but it is Deanna Durbin, a real charmer and cute as a button playing youngest sister Penny, who pretty much steals the show. With absolutely beautiful vocals, she sings several songs throughout the film, though I actually would have liked to have seen them feature her even more in this. The plot in this film is a bit silly, but nevertheless, I found the film to be entertaining and fun.'\n",
            "label:  1\n",
            "text:  b\"This 1984 version of the Dickens' classic `A Christmas Carol,' directed by Clive Donner, stars George C. Scott as Ebenezer Scrooge. By this time around, the challenge for the filmmaker was to take such familiar material and make it seem fresh and new again; and, happily to say, with this film Donner not only met the challenge but surpassed any expectations anyone might have had for it. He tells the story with precision and an eye to detail, and extracts performances from his actors that are nothing less than superlative, especially Scott. One could argue that the definitive portrayal of Scrooge-- one of the best known characters in literary fiction, ever-- was created by Alastair Sim in the 1951 film; but I think with his performance here, Scott has now achieved that distinction. There is such a purity and honesty in his Scrooge that it becomes difficult to even consider anyone else in the role once you've seen Scott do it; simply put, he IS Scrooge. And what a tribute it is to such a gifted actor; to be able to take such a well known figure and make it so uniquely his own is quite miraculous. It is truly a joy to see an actor ply his trade so well, to be able to make a character so real, from every word he utters down to the finest expression of his face, and to make it all ring so true. It's a study in perfection.<br /><br />The other members of the cast are splendid as well, but then again they have to be in order to maintain the integrity of Scott's performance; and they do. Frank Finlay is the Ghost of Jacob Marley; a notable turn, though not as memorable, perhaps, as the one by Alec Guinness (as Marley) in the film, `Scrooge.' Angela Pleasence is a welcome visage as the Spirit of Christmas Past; Edward Woodward, grand and boisterous, and altogether convincing as the Spirit of Christmas Present; and Michael Carter, grim and menacing as the Spirit of Christmas Yet To Come.<br /><br />David Warner hits just the right mark with his Bob Cratchit, bringing a sincerity to the role that measures up well to the standard of quality set by Scott's Scrooge, and Susannah York fares just as well as Mrs. Cratchit. The real gem to be found here, though, is the performance of young Anthony Walters as Tiny Tim; it's heartfelt without ever becoming maudlin, and simply one of the best interpretations-- and the most real-- ever presented on film.<br /><br />The excellent supporting cast includes Roger Rees (Fred Holywell, and also the narrator of the film), Caroline Langrishe (Janet Holywell), Lucy Gutteridge (Belle), Michael Gough (Mr. Poole) and Joanne Whalley (Fan). A flawless presentation, this version of `A Christmas Carol' sets the standard against which all others must be gauged; no matter how many versions you may have seen, watching this one is like seeing it for the first time ever. And forever after, whenever you think of Scrooge, the image your mind will conjure up will be that of George C. Scott. A thoroughly entertaining and satisfying experience, this film demands a place in the annual schedule of the holiday festivities of every home. I rate this one 10/10.\"\n",
            "label:  1\n",
            "text:  b'Put the blame on executive producer Wes Craven and financiers the Weinsteins for this big-budget debacle: a thrash-metal updating of \"Dracula\", with a condescending verbal jab at Bram Stoker (who probably wouldn\\'t want his name on this thing anyway) and nothing much for the rest of us except slasher-styled jolts and gore. Christopher Plummer looks winded as Van Helsing in the modern-day--not just a descendant of Van Helsing but the real thing; he keeps himself going with leeches obtained from Count Dracula\\'s corpse, which is exhumed from its coffin after being stolen from Van Helsing\\'s vault and flown to New Orleans. This is just what New Orleans needs in the 21st Century! The film, well-produced but without a single original idea (except for multi-racial victims), is both repulsive and lazy, and after about an hour starts repeating itself. * from ****'\n",
            "label:  0\n",
            "text:  b'Hilarious, evocative, confusing, brilliant film. Reminds me of Bunuel\\'s L\\'Age D\\'Or or Jodorowsky\\'s Holy Mountain-- lots of strange characters mucking about and looking for..... what is it? I laughed almost the whole way through, all the while keeping a peripheral eye on the bewildered and occasionally horrified reactions of the audience that surrounded me in the theatre. Entertaining through and through, from the beginning to the guts and poisoned entrails all the way to the end, if it was an end. I only wish i could remember every detail. It haunts me sometimes.<br /><br />Honestly, though, i have only the most positive recollections of this film. As it doesn\\'t seem to be available to take home and watch, i suppose i\\'ll have to wait a few more years until Crispin Glover comes my way again with his Big Slide Show (and subsequent \"What is it?\" screening)... I saw this film in Atlanta almost directly after being involved in a rather devastating car crash, so i was slightly dazed at the time, which was perhaps a very good state of mind to watch the prophetic talking arthropods and the retards in the superhero costumes and godlike Glover in his appropriate burly-Q setting, scantily clad girlies rising out of the floor like a magnificent DADAist wet dream.<br /><br />Is it a statement on Life As We Know It? Of course everyone EXPECTS art to be just that. I rather think that the truth is more evident in the absences and in the negative space. What you don\\'t tell us is what we must deduce, but is far more valid than the lies that other people feed us day in and day out. Rather one \"WHAT IS IT?\" than 5000 movies like \"Titanic\" or \"Sleepless in Seattle\" (shudder, gag, groan).<br /><br />Thank you, Mr. Glover (additionally a fun man to watch on screen or at his Big Slide Show-- smart, funny, quirky, and outrageously hot). Make more films, write more books, keep the nightmare alive.'\n",
            "label:  1\n",
            "text:  b'It was disgusting and painful. What a waste of a cast! I swear, the audience (1/2 full) laughed TWICE in 90 minutes. This is not a lie. Do not even rent it.<br /><br />Zeta Jones was just too mean to be believable.<br /><br />Cusack was OK. Just OK. I felt sorry for him (the actor) in case people remember this mess.<br /><br />Roberts was the same as she always is. Charming and sweet, but with no purpose. The \"romance\" with John was completely unbelievable.'\n",
            "label:  0\n",
            "text:  b'This is a straight-to-video movie, so it should go without saying that it\\'s not going to rival the first Lion King, but that said, this was downright good.<br /><br />My kids loved this, but that\\'s a given, they love anything that\\'s a cartoon. The big shock was that *I* liked it too, it was laugh out loud funny at some parts (even the fart jokes*), had lots of rather creative tie-ins with the first movie, and even some jokes that you had to be older to understand (but without being risqu\\xc3\\xa9 like in Shrek [\"do you think he\\'s compensating for something?\"]).<br /><br />A special note on the fart jokes, I was surprised to find that none of the jokes were just toilet noises (in fact there were almost no noises/imagery at all, the references were actually rather subtle), they actually had a setup/punchline/etc, and were almost in good taste. I\\'d like my kids to think that there\\'s more to humor than going to the bathroom, and this movie is fine in those regards.<br /><br />Hmm what else? The music was so-so, not nearly as creative as in the first or second movie, but plenty of fun for the kids. No painfully corny moments, which was a blessing for me. A little action but nothing too scary (the Secret of NIMH gave my kids nightmares, not sure a G rating was appropriate for that one...)<br /><br />All in all I\\'d say this is a great movie for kids of any age, one that\\'s 100% safe to let them watch (I try not to be overly sensitive but I\\'ve had to jump up and turn off the TV during a few movies that were less kid-appropriate than expected) - but you\\'re safe to leave the room during this one. I\\'d say stick around anyway though, you might find that you enjoy it too :)'\n",
            "label:  1\n",
            "text:  b'Finally, Timon and Pumbaa in their own film...<br /><br />\\'The Lion King 1 1/2: Hakuna Matata\\' is an irreverent new take on a classic tale. Which classic tale, you ask? Why, \\'The Lion King\\' of course!<br /><br />Yep, if there\\'s one thing that Disney is never short of, it\\'s narcissism.<br /><br />But that doesn\\'t mean that this isn\\'t a good film. It\\'s basically the events of \\'The Lion King\\' as told from Timon and Pumbaa\\'s perspective. And it\\'s because of this that you\\'ll have to know the story of \\'The Lion King\\' by heart to see where they\\'re coming from.<br /><br />Anyway, at one level I was watching this and thinking \"Oh my god this is so lame...\" and on another level I was having a ball. Much of the humour is predictable - I mean, when Pumbaa makes up two beds, a big one for himself and a small one for Timon, within the first nanosecond we all know that Timon is going to take the big one. But that doesn\\'t stop it from being hilarious, which, IMO, is \\'Hakuna Matata\\' in a nutshell. It\\'s not what happens, it\\'s how.<br /><br />And a note of warning: there are also some fart jokes. Seriously, did you expect anything else in a film where Pumbaa takes centre stage? But as fart jokes go, these are especially good, and should satisfy even the most particular connoisseur.<br /><br />The returning voice talent is great. I\\'m kinda surprised that some of the actors were willing to return, what with most of them only having two or three lines (if they\\'re lucky). Whoopi Goldberg is particularly welcome.<br /><br />The music is also great. From \\'Digga Tunnah\\' at the start to \\'That\\'s all I need\\', an adaption of \\'Warthog Rhapsody\\' (a song that was cut from \\'The Lion King\\' and is frankly much improved in this incarnation), the music leaves me with nothing to complain about whatsoever.<br /><br />In the end, Timon and Pumbaa are awesome characters, and while it may be argued that \\'Hakuna Matata\\' is simply an excuse to see them in various fun and assorted compromising situations then so be it. It\\'s rare to find characters that you just want to spend time with.<br /><br />Am I starting to sound creepy?<br /><br />Either way, \\'The Lion King 1 1/2\\' is great if you\\'ve seen \\'The Lion King\\' far too many times. Especially if you are right now thinking \"Don\\'t be silly, there\\'s no such thing as seeing \\'The Lion King\\' too many times!\"'\n",
            "label:  1\n",
            "text:  b'Indian Directors have it tough, They have to compete with movies like \"Laggan\" where 11 henpecked,Castrated males defend their village and half of them are certifiable idiots. \"Devdas\", a hapless, fedar- festooned foreign return drinking to oblivion, with characters running in endless corridors oblivious to any one\\'s feelings or sentiments-alas they live in an ornate squalor of red tapestry and pageantry. But to make a good movie, you have to tight-rope walk to appease the frontbenchers who are the quentessential gapers who are mesmerized with Split skirts and Dishum-Dishum fights preferably involving a nitwit \"Bollywood\" leading actor who is marginally handsome. So you can connect with a director who wants to tell a tale of Leonine village head who in own words \"defending his Village\" this is considered a violent movie or too masculine for a male audience. There are very few actors who can convey the anger and pathos like Nana Patekar (Narasimhan). Nana Patekar lets you in his courtyard and watch him beret and mock the Politician when his loyal admirers burst in laughter with every word of satire thrown at him, meanwhile his daughter is bathing his Grandson.This is as authentic a scene you can get in rural India. Nana Patekar is the essential actor who belongs to the old school of acting which is a disappearing breed in Hindi Films. The violence depicted is an intricate part of storytelling with Song&Dances thrown in for the gawkers without whom movies won\\'t sell, a sad but true state of affairs. Faster this changes better for \"Bollywood\". All said and done this is one good Movie.'\n",
            "label:  1\n",
            "text:  b\"Nathan Detroit runs illegal craps games for high rollers in NYC, but the heat is on and he can't find a secure location. He bets chronic gambler Sky Masterson that Sky can't make a prim missionary, Sarah Brown, go out to dinner with him. Sky takes up the challenge, but both men have some surprises in store \\xc2\\x85<br /><br />This is one of those expensive fifties MGM musicals in splashy colour, with big sets, loud music, larger-than-life roles and performances to match; Broadway photographed for the big screen if you like that sort of thing, which I don't. My main problem with these type of movies is simply the music. I like all kinds of music, from Albinoni to ZZ Top, but Broadway show tunes in swing time with never-ending pah-pah-tah-dah trumpet flourishes at the end of every fourth bar aren't my cup of tea. This was written by the tag team of Frank Loesser, Mankiewicz, Jo Swerling and Abe Burrows (based on a couple of Damon Runyon stories), and while the plot is quite affable the songs are weak. Blaine's two numbers for example are identical, unnecessary, don't advance the plot and grate on the ears (and are also flagrantly misogynistic if that sort of thing bothers you). There are only two memorable tunes, Luck Be A Lady (sung by Brando, not Sinatra as you might expect) and Sit Down, You're Rockin' The Boat (nicely performed by Kaye) but you have to sit through two hours to get to them. The movie's trump card is a young Brando giving a thoughtful, laid-back performance; he also sings quite well and even dances a little, and is evenly matched with the always interesting Simmons. The sequence where the two of them escape to Havana for the night is a welcome respite from all the noise, bustle and vowel-murdering of Noo Yawk. Fans of musicals may dig this, but in my view a musical has to do something more than just film the stage show.\"\n",
            "label:  0\n",
            "text:  b\"I can still remember first seeing this on TV. I couldn't believe TVNZ let it on! I had to own it! A lot of the humor will be lost on non-NZ'ers, but give it a go! <br /><br />Since finishing the Back of the Y series Matt and Chris have gone on to bigger and better(?) things. NZ's greatest dare-devil stuntman, Randy Campbell has often appeared on the British TV series Balls of Steel. Yes, he still f^@ks up all his stunts because he is too drunk.<br /><br />Also the 'house band' Deja Voodoo have since released 2 albums, Brown Sabbath and Back in Brown. The band consists of members of the Back of the Y team and singles such as 'I Would Give You One of My Beers (But I've Only Got 6)' and 'You Weren't Even Born in The 80's' continue their humor.<br /><br />The South-By-Southwest film festival also featured their feature length film 'The Devil Made Me Do It' which will be released early 2008 in NZ.<br /><br />All up, if you don't find these guys funny then you can just F%^K OFF!!\"\n",
            "label:  1\n",
            "text:  b'In a time of magic, barbarians and demons abound a diabolical tyrant named Nekhron and his mother Queen Juliane who lives in the realm of ice and wants to conquer the region of fire ruled by the King Jerol but when his beautiful daughter Princess Teegra has been kidnapped by Nekhron\\'s goons, a warrior named Larn must protect her and must defeat Nekhron from taking over the world and the kingdom with the help of an avenger named Darkwolf.<br /><br />A nicely done and excellent underrated animated fantasy epic that combines live actors with animation traced over them ( rotoscoping), it\\'s Ralph Bakshi\\'s second best movie only with \"American Pop\" being number one and \"Heavy Traffic\" being third and \"Wizards\" being fourth. It\\'s certainly better than his \"Cool World\" or \"Lord of the Rings\", the artwork is designed by famed artist Frank Farzetta and the animation has good coloring and there\\'s also a hottie for the guys.<br /><br />I highly recommend this movie to fantasy and animation lovers everywhere especially the new 2-Disc Limited Edition DVD from Blue Underground.<br /><br />Also recommended: \"The Black Cauldron\", \"The Dark Crystal\", \"Conan The Barbarian\", \"The Wizard of Oz\", \" Rock & Rule\", \"Wizards\", \"Heavy Metal\", \"Starchaser: Legend of Orin\", \"Fantastic Planet\", \" Princess Mononoke\", \" Nausicca: Valley of the Wind\", \" Conan The Destroyer\", \" Willow\", \" The Princess Bride\", \"Lord of the Rings ( 1978)\", \" The Sword in The Stone\", \" Excalibur\", \" Army of Darkness\", \" Krull\", \"Dragonheart\", \" King Arthur\", \" The Hobbit\", \" Return of the King ( 1980)\", \"Conquest\", \" American Pop\", \" Jason and The Argonauts\", \" Clash of the Titans\", \" The Last Unicorn\", \" The Secret of NIMH\", \"The Flight of Dragons\", \" Hercules (Disney)\", \" Legend\", \" The Chronicles of Narnia\", \" Harry Potter and The Goblet of Fire\".'\n",
            "label:  1\n",
            "text:  b'A pretty memorable movie of the animals-killing-people variety, specifically similar to \"Willard\" in that it stars an aging character actor (in this case, a step down a bit to the level of Les Tremayne, who puts in the only distinguished performance I\\'ve seen him give) in a role as a man whose life is unbalanced and who subsequently decides to use his animal friends to exact revenge on those who have wronged him. Yes, this is one of those movies where pretty much everybody is despicable, so that you will cheer when they die, and really the selection of actors, locations, etc. couldn\\'t be better at giving the film an atmosphere of shabby decadence.<br /><br />Tremayne\\'s character is \"Snakey Bender\", and he is certainly the most interesting thing about the movie: an aged snake collector who is obsessed with John Philip Souza\\'s music. When the local preacher clamps down on his practice of collecting small animals from the local schoolchildren as bait for his snakes, and his friend gets married to a stripper (thus upsetting his ritual Wednesday night band concert) he goes on the rampage, in the process creating a memorable pile-up of clunkers beneath the cliff where he dumps the wrecks after disposing of their unfortunate owners. One amusing game you can play while watching \"Snakes\" is to place bets on which cars will land the farthest down the cliff.<br /><br />All in all, very cheap and exploitative, but will really be a lot of fun for fans of these kinds of movies.'\n",
            "label:  1\n",
            "text:  b\"Except for an awkward scene, this refreshing fairy tale fantasy has a fun and delightful undercurrent of adult cynical wit that charms its way into the audience as well as a soundtrack that powerfully moves this fairy epic along. Except for one of the Robert DeNiro scenes that doesn't come across smooth and appears out of sync with the tone of the rest of the movie, this luscious romantic fairy tail has a great storytelling feel and the strong magic and the fine balance between serious adventure scenes and the lighter spiritual humor is well done. In the updated tradition of THE PRINCESS BRIDE this contemporary presentation of magic and love is captivating. Eight out of Ten Stars.\"\n",
            "label:  1\n",
            "text:  b'In this film we have the fabulous opportunity to see what happened to Timon and Pumbaa in the film when they are not shown - which is a lot! This film even goes back to before Simba and (presumbably) just after the birth of Kiara. <br /><br />Quite true to the first film, \"Lion King 1/2 (or Lion King 3 in other places)\" is a funny, entertaining, exciting and surprising film (or sequel if that\\'s what you want to call it). A bundle of surprises and hilarity await for you!<br /><br />While Timon and Pumbaa are watching a film at the cinema (with a remote control), Timon and Pumbaa have an argument of what point of \"The Lion King\" they are going to start watching, as Timon wants to go to the part when he and Pumbaa come in and Pumbaa wants to go back to the beginning. They have a very fair compromise of watching the film of their own story, which is what awaits... It starts with Timon\\'s first home...<br /><br />For anyone with a good sense of humour who liked the first films of just about any age, enjoy \"Lion King 1/2\"! :-)'\n",
            "label:  1\n",
            "text:  b\"Well, i rented this movie and found out it realllllllly sucks. It is about that family with the stepmother and the same stupid fights in the family,then the cool son comes with his stupid camera and he likes to take a photo to damaged building and weird things and weird movie ,and then he asks his father to take him to a side trip and simply agrees, etc etc etc..... They go to that town which no one know it exists (blah blah blah) And the most annoying thing is that the movie ends and yet you don't understand what is THAT MOVIE!!!!I have seen many mystery movies but that was the worst, Honestly it doesn't have a description at all and i wish i didn't see it.\"\n",
            "label:  0\n",
            "text:  b'I actually had quite high hopes going into this movie, so I took what was given with a grain of salt and hoped for the best. About 1/3 of the way through the film I simply had to give up, quite simply the movie is a mish-mash of stuff happening for no apparent reason and it\\'s all disconnected. I love movies that make you think, but this movie was just a bunch of ideas thrown together and never really connected.<br /><br />Don\\'t think it\\'s David Lynch-esquire as some would have you believe, it is nowhere near that realm other than some trippy visuals. Saying it\\'s artsy to disguise the fact there\\'s no apparent plot or story is just a manner or justifying why you wasted the 1.5 hours in the film. The acting was good, but that cannot save lack of story. I do agree with the one comment posted previously... \"it\\'s like being in some other person\\'s head... while they\\'re on drugs,\" in other words nothing makes sense.'\n",
            "label:  0\n",
            "text:  b\"I liked the initial premise to this film which is what led me to hunt it out but the problem I quickly found is that one pretty much knows what's going to happen within the first 20-30 minutes ( the doubles will come from behind the mirror and take over everybody).<br /><br />There is no real twist (which is fine) , but the final reveal doesn't make a great deal of sense either (how can she be racked with uncertainty and fear for the whole film, if she's an evil id from beyond the mirror?).<br /><br />Admittedly the scenes 'beyond the mirror' were chilling when they first appeared and the blonde's murder is also effectively creepy, but ultimately alas this seems to be a film in search of a story or a more engaging script, piling atmosphere upon atmosphere and over the top scary sound design for 80-90 minutes does not really cut it, in fact it gets quite dull.\"\n",
            "label:  0\n",
            "text:  b\"My main problem with the film is that it goes on too long. Other then that, it's pretty good. Paul Muni plays a poor Chinese farmer who is about to get married through an arranged marriage. Luise Rainer is a servant girl who gets married to Muni. They live with Muni's father on a farm and they are doing pretty bad. When he finally gets some money to buy some more land, a drought hits and nothing is growing. Everybody stars to head north by Muni stays behind at first. When they leave and arrive at town they find that their are no jobs and they are worse off than before. They even think about selling their youngest daughter as a slave for some money but decide against it. When a bunch of people start looting the town, the military show up and start executing people . Paul Muni does a good job and Luise Rainer won a second oscar for this movie.\"\n",
            "label:  1\n",
            "text:  b\"This movie never made it to theaters in our area, so when it became available on DVD I was one of the first to rent it. For once, I should listened to the critics and passed on this one.<br /><br />Despite the excellent line up of actors the movie was very disappointing. I can see now why it went straight to video. <br /><br />I had thought that with Bloom, Ledger, and Rush it could have some value. All have done wonderful work in the past. <br /><br />The movie was slow moving and never pulled me in. I failed to develop much empathy for the characters and had to fight the urge to fast-forward just to get to the end. <br /><br />I do not recommend this film even if you are thinking of renting it for only for 'eye candy' purposes. It won't satisfy even that.\"\n",
            "label:  0\n",
            "text:  b'Mike Brady (Michael Garfield who had a minuscule part in the classic \"The Warriors\") is the first person in the community to realize that there\\'s murderous slugs in his small town. Not just any slugs, mind you, but carnivorous killer bigger then normal, mutated by toxic waste slugs (who still only go as fast as a normal slug, which isn\\'t that frightening, but I digress). No one will believe him at first, but they will. Oh yes, they will.<br /><br />OK, killer slugs are right above psychotic sloths and right below Johnathon Winters as Mork\\'s baby in the creepiness factor. So the absurdness of it all is quite apparent from the get go. The flick is fun somewhat through and is of the \\'so bad that it\\'s good\\' variety. I appreciate that they spelled out that this was Slugs: the Movie as opposed to Slugs: the Children\\'s Game or Slugs: the Other White Meat. Probably not worthy of watching it more than once and promptly forgetting it except for playing a rather obscure trivia game. Director Juan Piquer Sim\\xc3\\xb3n is more widely known for his previous films \"Pod People\" (which MST3K deservedly mocked) and \"Peices\" (which is quite possibly the funnest bad movie ever made) <br /><br />Eye Candy: Kari Rose shows T&A <br /><br />My Grade: D+ <br /><br />DVD Extras: Merely a theatrical trailer for this movie'\n",
            "label:  0\n",
            "text:  b'(Honestly, Barbra, I know it\\'s you who\\'s klicking all those \"NO\"s on my review. 22 times?? How many people did you have to instruct to help you out here? Don\\'t you have anything better to do, like look at yourself in the mirror all day?)<br /><br />Steven Spielberg told Barbra that this was \"the best movie I\\'ve seen since \\'Citizen Kane\\'\". That pretty much says it all - and serves as a dire warning!<br /><br />What are the ingredients for a sure-fire cinematic disaster, and one that will haunt you, never letting you forget the tears of both laughter and pain? The ingredients: Barbra Streisand\\'s face, a musical, feminism, Barbra Streisand\\'s voice, Barbra Streisand directing, and an ultra-corny/idiotic premise.<br /><br />Hollywood is full of egomaniacs, this much we know. In fact, nearly everyone \\xc2\\x96 by definition \\xc2\\x96 has to be an egomaniac in Hollywood. Why would anyone want to act? For the \"art\"?!? Well, if you\\'re dumb enough to believe what they tell you in their carefully prepared interviews\\xc2\\x85 And Streisand has the biggest ego of them all! This is quite an achievement. To be surrounded by narcissistic cretins, and yet to manage to top them all \\xc2\\x96 remarkable.<br /><br />The movie, like all her \"solo\" endeavors, is an ego trip straight out of hell. Every scene Streisand is in is automatically ruined. Stillborn. But as it that weren\\'t enough, she sings a whole bunch of Streisandy songs \\xc2\\x96 you know, the kind that enabled the Mariah Careys, the Celine Dions, and the Whitney Hustons of this world to poison our precious air-waves for decades now. Just for that she deserves not one but 100 South Park episodes mocking her.<br /><br />The premise, Streisand dressing up as a man to study to become a rabbi, sounds like a zany ZAZ comedy. Apart from it being a clich\\xc3\\xa9, the obvious problem is that Streisand doesn\\'t look like a woman nor does she look like a man \\xc2\\x96 in fact I\\'m not even sure she\\'s human. The way she looks in this movie, well\\xc2\\x85 it cannot be described in words. E.T. looks like a high-school jock by comparison. She looks more alien than Michael Jackson in the year 2015. She looks HORRIBLE.<br /><br />The songs. They made me shiver. Particularly \"Papa Can You Hear Me Squeel Like A Demented Female Walrus In Heat?\" and \"Tomorrow Night I\\'ll Prepare the Sequel, YENTL 2: THE RETURN OF THE BITCH\".<br /><br />Did you know that Streisand considered having a nose-job early on in her career, but changed her mind when they told her her voice might change? Can you believe that? She should have done it! Killing two flies with one swipe, that\\'s what it would have been.<br /><br />If you\\'re interested in reading my biographies of Barbra Streisand and other Hollywood intellectuals, contact me by e-mail.<br /><br />SHOULD BARBRA STREISAND FINALLY GO INTO RETIREMENT? CLICK \"YES\" OR \"NO\".'\n",
            "label:  0\n",
            "text:  b'The \"Confidential\" part was meant to piggy-back on the popular appeal of the lurid magazine of the same name, while the labor racketeering theme tied in with headline Congressional investigations of the day. However, despite the A-grade B-movie cast and some good script ideas, the movie plods along for some 73 minutes. It\\'s a cheap-jack production all the way. What\\'s needed to off-set the poor production values is some imagination, especially from uninspired director Sidney Salkow. A few daylight location shots, for example, would have helped relieve the succession of dreary studio sets. A stylish helmsman like Anthony Mann might have done something with the thick-ear material, but Salkow treats it as just another pay-day exercise. Too bad that Brian Keith\\'s typical low-key style doesn\\'t work here, coming across as merely wooden and lethargic, at the same time cult figure Elisha Cook Jr. goes over the top as a wild-eyed drunk. Clearly, Salkow is no actor\\'s director. But, you\\'ve got to hand it to that saucy little number Beverly Garland who treats her role with characteristic verve and dedication. Too bad, she wasn\\'t in charge. My advice-- skip it, unless you\\'re into ridiculous bar-girls who do nothing else but knock back whiskeys in typical strait-jacketed 50\\'s fashion.'\n",
            "label:  0\n",
            "text:  b'I was thirteen years old, when I saw this movie. I expected a lot of action. Since Escape From New York was 16-rated in Germany I entered the movie as fallback. It was so boring. Afterwards I realized that this was just crap where a husband exhibits his wife. I mean today you do this via internet and you pay for instant access. It is more then 20 years ago, but I am still angry that I waste my time with this film. This is a soft-porno for schoolboys. Undressing Bo Derek and painting her with color - nice. But then they should named the film Undressing Bo and painting her.'\n",
            "label:  0\n",
            "text:  b\"I'm sorry, I had high hopes for this movie. Unfortunately, it was too long, too thin and too weak to hold my attention. When I realized the whole movie was indeed only about an older guy reliving his dream, I felt cheated. Surely it could have been a device to bring us into something deeper, something more meaningful.<br /><br />So, don't buy a large drink or you'll be running to the rest room. My kids didn't enjoy it either. Ah well.\"\n",
            "label:  0\n",
            "text:  b\"A movie made for contemporary audience. The masses get to see what they want to see. Action, comedy, drama and of course sensuous scenes as well. This is not exactly a movie that one would feel comfortable watching with entire family. It isn't for eyes of children. I had to fast forward quite a number of scenes.<br /><br />If it is just entertainment you are looking for, then this movie has it all. The songs are catchy. A lavish production, I must add.<br /><br />However, the message of the movie is not universal. It emphasizes on the idea of karma. That is, if you do good, you will get good. And if you do evil, you will get evil. The fruit of good deeds is good, while the fruit of evil is evil. <br /><br />In real life, this is not always true. It is well-known that most people do not get justice in this world. While it is true that some evil people do meet with an evil end, there are many who escape. And then, there are many people who do good, and yet in return they meet with a sorry end.<br /><br />If you don't care about the message, and all you want is an escape from worldly reality, this movie is an entertainer alright.\"\n",
            "label:  1\n",
            "text:  b'Of the three remakes of this plot, I like them all, I have all three on VHS and in addition have a copy of this one on DVD. There is just enough variation in the scripts to make all three entertaining and re-watchable. In addition has any other film been remade three times with such all star casts in each? Of course the main stars in this one are great, but the supporting actors are also superb. I particularly like William Tracy as Pepi. He was such a scene stealer that I have searched to find other movies he is in. He appeared in many, but most are not available. As the other comments, I also say - buy this one.'\n",
            "label:  1\n",
            "text:  b'\"Wild Tigers I have Known.\" It will only be showing in big cities, to be sure. It is one of those films SO artsy, that it makes no sense what so ever, except to the director! I HATE those! And all of those oh-so-alternative/artsy people try DESPERATELY to find \"metaphors\" in what is EVIDENT horseshit.<br /><br />There was NO plot, no story, no moral, no chronology, and nothing amusing or even touching. To me, it was a bunch of scenes thrown together that had nothing to do with one another, and were all for \"show\" to show how \"artsy\" and \"visual\" they could get. It was an ATTEMPT at yet ANOTHER teen angst film, but missed the mark on every level humanly possible. Then the credits roll! I was waiting for it to make SENSE! I was waiting for \"the good part.\" I own about 60 independent films in my DVD collection, many of which could arguably be called \"art house\" films. This will NOT be amongst them. You will be very angry at yourself for paying to see this film, much less ever buying it on DVD.'\n",
            "label:  0\n",
            "text:  b'This is a big step down after the surprisingly enjoyable original. This sequel isn\\'t nearly as fun as part one, and it instead spends too much time on plot development. Tim Thomerson is still the best thing about this series, but his wisecracking is toned down in this entry. The performances are all adequate, but this time the script lets us down. The action is merely routine and the plot is only mildly interesting, so I need lots of silly laughs in order to stay entertained during a \"Trancers\" movie. Unfortunately, the laughs are few and far between, and so, this film is watchable at best.'\n",
            "label:  0\n",
            "text:  b\"This is one of three 80's movies that I can think of that were sadly overlooked at the time and unfortunately, still overlooked. One of the others was Clownhouse directed by Victor Salva, a movie horribly overlook due to Salva's legal/sexual problems. Another would be Cameron's Closet which strikes me as somewhat underrated--not great, but not nearly as bad as the reviews I've seen. Paper House is well worth your time and I think that it is one of those very quiet films that will just stick in your brain for far longer than you might think. I mean, 10 years after I've seen it and I still give it some pause, whereas something that I might have seen 6 months ago has gone into the ether.\"\n",
            "label:  1\n",
            "text:  b\"I have yet to read a negative professional review of this movie. I guess I must have missed something. The beginning is intriguing, the three main characters meet late at night in an otherwise empty bar and entertain each other with invented stories. That's the best part. After the three go their separate ways, the film splits into three threads. That's when boredom sets in. Certainly, the thread with the Felliniesque babushkas who make dolls out of chewed bread is at first an eye opening curiosity. Unfortunately, the director beat this one to death, even injecting a wild plot line that leads nowhere in particular. Bottom line: a two-hour plot-thin listlessness. If you suffer from insomnia, view it in bed and you will have a good night sleep.\"\n",
            "label:  0\n",
            "text:  b'Although the likeliness of someone focusing on THIS comment among the other 80+ for this movie is low, I feel that I have to say something about this one. I am not the kind of movie-watcher who pays attention to production value, thought-provoking dialog, or brilliant acting & directing. However, I claim that this movie sucks. I don\\'t know why I don\\'t like it... I mean it has almost everything i want out of a horror movie: blood, outrageousness, unintentional humor, etc. According to this evidence it should be my favorite. Still, Zombi 3 is a baaad movie.<br /><br />There are just too many things that compels you to yell at the screen. Like when the girl leaves the army guy when their car breaks down to find water (this spoils nothing so don\\'t worry). She walks into what I see as an abandoned hotel or something. Did she not see that there was a friggin\\' lake in the middle of the building??? Yes she\\'s looking for water and passes up a lake. Why? Cuz she wants to know why the people (who aren\\'t there cuz the place is abandoned) won\\'t answer her when she calls out: \"Is anybody there?\" Oh this is just a little, insignificant piece of the big picture I\\'m painting.<br /><br />There is a reason, though, why I gave this film more than 1 star. It\\'s one of those movies where if you forget how bad it really is, like I have a few times, you\\'ll want to watch it again because it\\'s just so over-the-top in every aspect. I called it blood in the first paragraph, but this movie has no blood, it has an ocean of gore. Also, it has pretty weird creatures in it as well: a zombie-baby (with an adult-size hand???) and a magically flying head to name just two.<br /><br />You know when you try to think of the worst and cheesiest movies ever made and you come up with \\'50\\'s sci-fi movies? I believe that Zombi 3 and movies like it should top those. It has all the elements: scientists arguing with the government, warnings of the apocalypse on the radio, armies battling monsters, and so on. This IS the Plan 9 of the \\'80\\'s! While I won\\'t say that this is a waste of money if you want to buy it, just expect the very worst. And when you find out that expecting the worst is underestimating Zombi 3, it won\\'t be all that bad. You might actually like it, I\\'m not saying that\\'s impossible.<br /><br />Don\\'t think I hate this movie, I don\\'t... really. Oh, P.S. Killing Birds (aka Zombie 5) rules! (did I just blow my credibility?)'\n",
            "label:  0\n",
            "text:  b'One of the weaker Carry On adventures sees Sid James as the head of a crime gang stealing contraceptive pills. The fourth of the series to be hospital-based, it\\'s possibly the least of the genre. There\\'s a curiously flat feel throughout, with all seemingly squandered on below-par material. This is far from the late-70s nadir, but Williams, James, Bresslaw, Maynard et al. are all class performers yet not given the backing of a script equal to their ability.<br /><br />Most of the gags are onrunning, rather than episodic as Carry Ons usually are. So that instead of the traditional hit and miss ratio, if you don\\'t find the joke funny in the first place you\\'re stuck with it for most of the film. These continuous plot strands include Williams \\xc2\\x96 for no good reason \\xc2\\x96 worrying that he\\'s changing sex, and Kenneth Cope in drag. Like the stagy physical pratt falls, the whole thing feels more contrived than in other movies, and lacking in cast interest. Continuing this theme, Matron lacks the customary pun and innuendo format, largely opting for characterisation and consequence to provide the humour. In fact, the somewhat puerile series of laboured misunderstandings and forced circumstance reminds one more of Terry and June ... so it\\'s appropriate that Terry Scott is present, mugging futilely throughout.<br /><br />Some dialogue exchanges have a bit of the old magic, such as this between Scott and Cope: \"What about a little drink?\" \"Oh, no, no, I never touch it.\" \"Oh. Cigarette then?\" \"No, I never touch them.\" \"That leaves only one thing to offer you.\" \"I never touch that either.\" That said, while a funny man in his own right (livening up the duller episodes of Randall and Hopkirk (Deceased) no end), you do feel that Cope isn\\'t quite tapped in to the self-parodying Carry On idealology and that Bernard Bresslaw dressed as a nurse would be far funnier. This does actually happen, in part, though only for the last fifteen minutes.<br /><br />Williams attempting to seduce Hattie Jacques while Charles Hawtrey is hiding in a cupboard is pure drawer room farce, but lacks the irony to carry it off. That said, Williams\\'s description of premarital relations is priceless: \"You don\\'t just go into the shop and buy enough for the whole room, you tear yourself off a little strip and try it first!\" \"That may be so,\" counters Jacques, \"but you\\'re not going to stick me up against a wall.\" Williams really comes to life in his scenes with Hattie, and you can never get bored of hearing a tin whistle whenever someone accidentally flashes their knickers.<br /><br />Carry On Matron is not a bad film by any means, just a crushingly bog-standard one.'\n",
            "label:  0\n",
            "text:  b'I was looking forward to this ride, and was horribly disappointed.<br /><br />And I am very easily amused at roller coaster and amusement park rides.<br /><br />The roller coaster part was just okay - and that was all of about 30 seconds of a 90 second ride. <br /><br />It was visually dull and poorly executed. <br /><br />It was trying desperately to be like a mixture of the far superior Indiana Jones and Space Mountain rides and Disneyland, and failed in every aspect.<br /><br />It was not thrilling or exciting in the least.'\n",
            "label:  0\n",
            "text:  b'I really wish i could give this a negative vote, because i think i just wasted 83 minutes of my life watching the worst horror movie ever put to film. the acting was just god awful, i mean REALLLYYYY bad, the dialog was worse, the script sounded like it was written by.... i can\\'t think of anything horrible enough to say. And the day \"outside\" and the night \"inside\" shots make you think the events took over several days. Terribly acted, directed, written, etc etc. all the way down to the gofer how gets lunch for everyone. STAY AWAY FROM THIS ONE AT ALL COSTS. If my only saving grace to stay out of hell is by doing one good deed, it is to tell the world to not watch this crap. This movie is the exact reason why horror movies are never taken seriously.'\n",
            "label:  0\n",
            "text:  b\"The director Sidney J. Furie has created in Hollow Point a post-modern absurdist masterpiece that challenges and constantly surprises the audience. <br /><br />Sidney J. Furie dares to ask the question of what happens to the tired conventional traditionalist paradigms of 'plot' and 'characterisation' when you remove the crutches of 'motivation' and 'reason'. <br /><br />The result leads me to say that my opinion of him could not possibly get any higher.<br /><br />One and a half stars.<br /><br />P.S. Nothing in this movie makes any sense, the law enforcement agents are flat out unlikeable and the organised criminals are full on insane.\"\n",
            "label:  0\n",
            "text:  b\"Luise Rainer received an Oscar for her performance in The Good Earth. Unfortunately, her role required no. She did not say much and looked pale throughout the film. Luise's character was a slave then given away to marriage to Paul Muni's character (he did a fantastic job for his performance). Set in ancient Asia, both actors were not Asian, but were very convincing in their roles. I hope that Paul Muni received an Oscar for his performance, because that is what Luise must have gotten her Oscar for. She must have been a breakthrough actress, one of the first to method act. This seems like something that Hollywood does often. Al Pacino has played an Italian and Cuban. I felt Luise's performance to be lackluster throughout, and when she died, she did not change in expression from any previous scenes. She stayed the same throughout the film; she only changed her expression or emotion maybe twice. If her brilliant acting was so subtle, I suppose I did not see it.\"\n",
            "label:  0\n",
            "text:  b'I thought Rachel York was fantastic as \"Lucy.\" I have seen her in \"Kiss Me, Kate\" and \"Victor/Victoria,\" as well, and in each of these performances she has developed very different, and very real, characterizations. She is a chameleon who can play (and sing) anything!<br /><br />I am very surprised at how many negative reviews appear here regarding Rachel\\'s performance in \"Lucy.\" Even some bonafide TV and entertainment critics seem to have missed the point of her portrayal. So many people have focused on the fact that Rachel doesn\\'t really look like Lucy. My response to that is, \"So what?\" I wasn\\'t looking for a superficial impersonation of Lucy. I wanted to know more about the real woman behind the clown. And Rachel certainly gave us that, in great depth. I also didn\\'t want to see someone simply \"doing\" classic Lucy routines. Therefore I was very pleased with the decision by the producers and director to have Rachel portray Lucy in rehearsal for the most memorable of these skits - Vitameatavegamin and The Candy Factory. (It seems that some of the reviewers didn\\'t realize that these two scenes were meant to be rehearsal sequences and not the actual skits). This approach, I thought, gave an innovative twist to sketches that so many of us know by heart. I also thought Rachel was terrifically fresh and funny in these scenes. And she absolutely nailed the routines that were recreated - the Professor and the Grape Stomping, in particular. There was one moment in the Grape scene where the corner of Rachel\\'s mouth had the exact little upturn that I remember Lucy having. I couldn\\'t believe she was able to capture that - and so naturally.<br /><br />I wonder if many of the folks who criticized the performance were expecting to see the Lucille Ball of \"I Love Lucy\" throughout the entire movie. After all, those of us who came to know her only through TV would not have any idea what Lucy was really like in her early movie years. I think Rachel showed a natural progression in the character that was brilliant. She planted all the right seeds for us to see the clown just waiting to emerge, given the right set of circumstances. Lucy didn\\'t fit the mold of the old studio system. In her frustrated attempts to become the stereotypical movie star of that era, she kept repressing what would prove to be her ultimate gifts.<br /><br />I believe that Rachel deftly captured the comedy, drama, wit, sadness, anger, passion, love, ambition, loyalty, sexiness, self absorption, childishness, and stoicism all rolled into one complex American icon. And she did it with an authenticity and freshness that was totally endearing. \"Lucy\" was a star turn for Rachel York. I hope it brings a flood of great roles her way in the future. I also hope it brings her an Emmy.'\n",
            "label:  1\n",
            "text:  b'This might be the poorest example of amateur propaganda ever made. The writers and producers should study the German films of the thirties and forties. They knew how to sell. Even soviet-style clunky leader as god-like father-figure were better done. Disappointing. The loss of faith, regained in church at last second just in time for daddy to be \"saved\" by the Hoover/God was not too bad. Unfortunately, it seemed rushed and not nearly melodramatic enough. A few misty heavenlier shots of the angelical Hoover up in the corner of the screen-beaming and nodding- would have added a lot. The best aspect is Hoover only saving the deserving family and children WHO had \"proven\" their worth. Unfortunately, other poor homeless were portrayed as likable and even good- yet the Hoover-God doesn\\'t help them. A better approach would have been shots of them drinking spirits to show the justice of their condition. Finally, bright and cheerful scenes of recovery (after Hoover saved the country from the depression) should have rolled at the end. We could see then how Hoover-God had saved not just THIS deserving family, but all the truly deserving. Amateurist at best.'\n",
            "label:  0\n",
            "text:  b'\"The Plainsman\" represents the directorial prowess of Cecil B. DeMille at its most inaccurate and un-factual. It sets up parallel plots for no less stellar an entourage than Wild Bill Hickok (Gary Cooper), Buffalo Bill Cody (James Ellison), Calamity Jane (Jean Arthur), George Armstrong Custer and Abraham Lincoln to interact, even though in reality Lincoln was already dead at the time the story takes place. Every once in a while DeMille floats dangerously close toward the truth, but just as easily veers away from it into unabashed spectacle and showmanship. The film is an attempt to buttress Custer\\'s last stand with a heap of fiction that is only loosely based on the lives of people, who were already the product of manufactured stuffs and legends. Truly, this is the world according to DeMille - a zeitgeist in the annals of entertainment, but a pretty campy relic by today\\'s standards.<br /><br />TRANSFER: Considering the vintage of the film, this is a moderately appealing transfer, with often clean whites and extremely solid blacks. There\\'s a considerable amount of film grain in some scenes and an absence of it at other moments. All in all, the image quality is therefore somewhat inconsistent, but it is never all bad or all good \\xc2\\x96 just a bit better than middle of the road. Age related artifacts are kept to a minimum and digital anomalies do not distract. The audio is mono but nicely balanced.<br /><br />EXTRAS: Forget it. It\\'s Universal! BOTTOM LINE: As pseudo-history painted on celluloid, this western is compelling and fun. Just take its characters and story with a grain of salt \\xc2\\x96 in some cases \\xc2\\x96 a whole box seems more appropriate!'\n",
            "label:  1\n",
            "text:  b'Not the most successful television project John Cleese ever did, \"Strange Case\" has the feel of a first draft that was rushed into production before any revisions could be made. There are some silly ideas throughout and even a few clever ones, but the story as a whole unfortunately doesn\\'t add up to much.<br /><br />Arthur Lowe is a hoot, though, as Dr. Watson, bionic bits and all. \"Good Lord.\"'\n",
            "label:  1\n",
            "text:  b'Only after some contemplation did I decide I liked this movie. And after reading comments from all the other posters here, and thinking about it some more, I decided that I liked it tremendously. I love American films - probably because they are so narrative. They usually have a well-defined beginning, middle, and end. \"Presque rien,\" on the other hand, makes no such attempt. I disagree with other posters that say it\\'s \\'too artsy.\\' In every way, this film is meant to evoke your sense memories. So often throughout the film you feel like you\\'re there... you feel the summer sun, the breezes, the heat, the winter chill, the companionship, the loneliness, etc., etc.<br /><br />In every way, the director pulls you into the lives of the characters - which is why so many people feel so strongly that the movie disappointed them. After I finished watching it, I felt the same. But upon some reflection, I recognized that this is how the movie had to be: the \\'story\\' isn\\'t the narrative, it\\'s the emotions you (the viewer) feel.<br /><br />The lighting, scenery, and camera angles immerse you in the scenes - they\\'re rich, exquisite, and alive with detail and nuance. Although I normally cannot countenance films without a fully developed plot (after all, isn\\'t a movie \\'supposed\\' to tell a story), this film is definitely one of my new favorites.'\n",
            "label:  1\n",
            "text:  b'I just saw the movie on tv. I really enjoyed it. I like a good mystery. and this one had me guessing up to the end. Sean Connery did a good job. I would recomend it to a friend.'\n",
            "label:  1\n",
            "text:  b'I know that originally, this film was NOT a box office hit, but in light of recent Hollywood releases (most of which have been decidedly formula-ridden, plot less, pointless, \"save-the-blonde-chick-no-matter-what\" drivel), Feast of All Saints, certainly in this sorry context deserves a second opinion. The film--like the book--loses anchoring in some of the historical background, but it depicts a uniquely American dilemma set against the uniquely horrific American institution of human enslavement, and some of its tragic (and funny, and touching) consequences.<br /><br />And worthy of singling out is the youthful Robert Ri\\'chard, cast as the leading figure, Marcel, whose idealistic enthusiasm is truly universal as he sets out in the beginning of his \\'coming of age,\\' only to be cruelly disappointed at what turns out to become his true education in the ways of the Southern plantation world of Louisiana, at the apex of the antebellum period. When I saw the previews featuring the (dreaded) blond-haired Ri\\'chard, I expected a buffoon, a fop, a caricature--I was pleasantly surprised.<br /><br />Ossie Davis, Ruby Dee, the late Ben Vereen, Pam Grier, Victoria Rowell and even Jasmine Guy lend vivid imagery and formidable skill as actors in the backdrop tapestry of placage, voodoo, Creole \"aristocracy,\" and Haitian revolt woven into this tale of human passion, hate, love, family, and racial perplexity in a society which is supposedly gone and yet somehow is still with us.'\n",
            "label:  1\n",
            "text:  b'How Disney can you get? Preppy rich girls act like idiots, buy a bunch of stuff, and get taught a lesson. Is Disney trying to send a lesson to itself? That maybe while buying everything it should maybe still be human? Whatever the psycho-analysis, this movie sucked.<br /><br />The girls want a rich party for their rich lives. But then money disappears and they have to use their riches to get the milk plant (yes, milk) going to employ the workers. They keep it afloat until daddy comes home. And the man at the beginning, who appears to be the one that takes the money, is the one. But the ending is dumb. Webcam in the Cayman Islands? Huh? Not worth my time ever again. <br /><br />But it is better than Howl\\'s Moving Castle. \"D-\"'\n",
            "label:  0\n",
            "text:  b'I was surprised at the low rating this film got from viewers. I saw it one late night on TV and it hit the spot - I actually think it was back in 1989 when it first appeared. Yet I remember it pretty well, with a nice twist or two, and an interesting ambiance on a windmill farm. Michael Pollard looks suitably seedy for his role which pretty much sums up the unfulfilled early promise of his career, and everyone else plays it pretty straight ahead. I definitely recommend it as a rental, although some of the themes, which might have seemed a bit edgy in 1989, now may seem tame, which is a shame, considering that contemporary \"edginess\" is often just used as a necessary marketing tool, sort of like clamoring just to get noticed.'\n",
            "label:  1\n",
            "text:  b\"As the film begins a narrator warns us THE SCREAMING SKULL is so terrifying you might die of fright--and if such happens a free burial is guaranteed. Well, I don't think any one has died of fright from seeing this film, but a few may have died of boredom. THE SCREAMING SKULL is the sort of movie that makes Ed Wood look good.<br /><br />Very loosely based on the famous Francis Marion Crawford story, SKULL is about a wealthy but nervous woman who marries a sinister man whose first wife died under mysterious circumstances. Once installed in his home, she is tormented by a half-wit gardener, a badly executed portrait, peacocks, and ultimately a skull that rolls around the room and causes her to scream a lot. And to her credit, actress Peggy Webber screams rather well.<br /><br />Unfortunately, her ability to do so is the high point of the film. The plot is pretty transparent, to say the least, and while the cast is actually okay, the script is dreadful and the movie so uninspired you'll be ready to run screaming yourself. True, the thing only runs about sixty-eight minutes, but it all feels a lot longer. Add to this a truly terrible print quality and there you are.<br /><br />There are films that are so bad they are fun to watch. It is true that THE SCREAMING SKULL has a few howlers--but the film drags so much I couldn't work up more than an occasional giggle, and by the time the whole thing is over your head will roll from ennui. If it weren't for Peggy Webber's way with a scream, this would be the surefire cure for insomnia. Give it a miss.<br /><br />GFT, Amazon Reviewer\"\n",
            "label:  0\n",
            "text:  b'Elegance and class are not always the first words that come to mind when folks (at least folks who might do such a thing) sit around and talk about film noir. <br /><br />Yet some of the best films of the genre, \"Out of the Past,\" \"The Killers,\" \"In A Lonely Place,\" \"Night and the City,\" manage a level of sleek sophistication that elevates them beyond a moody catch phrase and its connotations of foreboding shadows, fedoras, and femme-fatales. <br /><br />\"Where the Sidewalk Ends,\" a fairly difficult to find film -- the only copy in perhaps the best stocked video store in Manhattan was a rough bootleg from the AMC cable channel -- belongs in a category with these classics.<br /><br />From the moment the black cloud of opening credits pass, a curtain is drawing around rogue loner detective Marc Dixon\\'s crumbling world, and as the moments pass, it inches ever closer, threatening suffocation. <br /><br />Sure, he\\'s that familiar \"cop with a dark past\", but Dana Andrews gives Dixon a bleak stare and troubled intensity that makes you as uncomfortable as he seems. And yeah, he\\'s been smacking around suspects for too long, and the newly promoted chief (Karl Malden, in a typically robust and commanding outing) is warning him \"for the last time.\" <br /><br />Yet Dixon hates these thugs too much to stop now. And boy didn\\'t they had have it coming? <br /><br />\"Hoods, dusters, mugs, gutter nickel-rats\" he spits when that tough nut of a boss demotes him and rolls out all of the complaints the bureau has been receiving about Dixon\\'s right hook. The advice is for him to cool off for his own good. But instead he takes matters into his own hands. <br /><br />And what a world of trouble he finds when he relies on his instincts, and falls back on a nature that may or may not have been passed down from a generation before. <br /><br />Right away he\\'s in deep with the cops, the syndicate, his own partner. Dixon\\'s questionable involvement in a murder \"investigation\" threatens his job, makes him wonder whether he is simply as base as those he has sworn to bring in. Like Bogart in \"Lonely Place,\" can he \"escape what he is?\"<br /><br />When he has nowhere else to turn, he discovers that he has virtually doomed his unexpected relationship with a seraphic beauty (the marvelous Gene Tierney) who seems as if she can turn his barren bachelor\\'s existence into something worth coming home to. <br /><br />The pacing of this superb film is taut and gripping. The group of writers that contributed to the production polished the script to a high gloss -- the dialogue is snappy without disintegrating into dated parody fodder, passionate without becoming melodramatic or sappy. <br /><br />And all of this top-notch direction and acting isn\\'t too slick or buffed to loosen the film\\'s emotional hold. Gene Tierney\\'s angelic, soft-focus beauty is used to great effect. She shows herself to be an actress of considerable range, and her gentle, kind nature is as boundless here as is her psychosis in \"Leave Her to Heaven.\" The scenes between Tierney and Andrews\\'s Dixon grow more intense and touching the closer he seems to self-destruction. <br /><br />Near the end of his rope, cut, bruised, and exhausted Dixon summarizes his lot: \"Innocent people can get into terrible jams, too,..\" he says. \"One false move and you\\'re in over your head.\" <br /><br />Perhaps what makes this film so totally compelling is the sense that things could go wildly wrong for almost anyone -- especially for someone who is trying so hard to do right -- with one slight shift in the wind, one wrong decision or punch, or, most frighteningly, due to factors you have no control over. Noir has always reflected the darkest fears, brought them to the surface. \"Where the Sidewalk Ends\" does so in a realistic fashion. <br /><br />(One nit-pick of an aside: This otherwise sterling film has a glaringly poor dub of a blonde model that wouldn\\'t seem out of place on Mystery Science Theater. How very odd.) <br /><br />But Noir fans -- heck, ANY movie fans -- who haven\\'t seen this one are in for a terrific treat.'\n",
            "label:  1\n",
            "text:  b\"Having not seen the previous two in the trilogy of Bourne movies, I was a little reluctant to watch The Bourne Ultimatum.<br /><br />However it was a very thrilling experience and I didn't have the problem of not understanding what was happening due to not seeing the first two films. Each part of the story was easy to understand and I fell in love with The Bourne Ultimatum before it had reached the interval! I don't think I have ever watched such an exquisitely made, and gripping film, especially an action film. Since I usually shy away from action and thriller type movies, this was such great news to me. Ultimatum is one of the most enthralling films, it grabs your attention from the first second till the last minute before the credits roll.<br /><br />Matt Damon was simply fantastic as his role as Jason Bourne. I've heard a lot about his great performances in the Bourne 1+2, and now, this fabulous actor has one more to add to his list. I look forward to seeing more of his movies in the future.<br /><br />The stunts were handled with style - each one was done brilliantly and I was just shocked by the impressiveness of this movie. Well done.\"\n",
            "label:  1\n",
            "text:  b\"Calling this a romantic comedy is accurate but nowadays misleading. The genre has sadly deteriorated into cliches, too focused on making the main couple get together and with very little room for ambience and other stories, making it formulaic and overly predictable.<br /><br />The Shop Around the Corner does not suffer from these illnesses: it manages to create a recognisably middle/eastern-European atmosphere and has a strong cast besides the (also strong) nominal leads; I avoid using the words 'supporting cast' as for example Mr. Matuschek (Frank Morgan) has a central role to the film and his story is equally if not more important than the romance.<br /><br />The 1998 film You've Got Mail borrowed the 'anonymous pen-pal' idea from this film and has therefore been billed as a remake. This is not correct and in fact unfair to the new movie - it shares the genre and borrows a plot element, but that is all.\"\n",
            "label:  1\n",
            "text:  b\"The book on which this movie is based was excellent; it took a while to come to grips with Houellebecq's unconventional style but once I understood the mood behind the writing I was completely drawn into the author's world of sadness. In fact, no other book has affected me so much. This is not necessarily a good thing - it elucidated my own personal struggle and has made the futility of my own struggle harder to accept. Houellebecq's insights are masterfully captured by Harel and the hero's apathy and indifference to a world which has rejected him is perfectly portrayed. This is a movie which reveals today's society for the lowly male in all its horror. Hopefully, things will change in the future but for the present we have to accept the rat-race as shown in this movie. It's probably best that Harel or Houellebecq do not create a work of genius like this again. One is enough for any man.\"\n",
            "label:  1\n",
            "text:  b\"A hilarious and insightful perspective of the dating world is portrayed in this off beat comedy by first time writer/director Peter M. Cohen. The story unfolds as the four male protagonists meet weekly at the local diner to confer about their dating woes. We meet Brad: a good-looking, wall-street playboy with a quick-wit and sharp tongue; Zeek: a cynical, sensitive writer; Jonathan: a sexually perplexed nice guy with an affinity for hand creams and masturbation; and Eric: the married guy, who cherishes his weekly encounters with his single friends in hope for some enlightenment to his boring and banal married existence. The trials and tribulations of the men's single lives in New York are amusingly expressed, mirroring that of Sex in the City and HBO's new comedy The Mind of Married Man, and bring an astute light to scamming. The story takes a twist as the three singletons meet Mia--wittily played by Amanda Peet-and all fall for her. She seduces them each with her uncanny ability to conform to the personalities' they exhibit. When they come to realize they have all met and fallen in love with the same woman, they chose her over their friendship. Whipped is a realistic portrayal of the dating world, one that the critic's failed to recognize. In plain language, they missed the point. The protagonist's here are caricatures of real people. The exaggerations are hysterical, mixing satire and humility, and are not to be taken as seriously as the critic's disparagement suggests. See this movie, you'll laugh from start to finish.\"\n",
            "label:  1\n",
            "text:  b\"Judging from this film and THE STRONG MAN, made the same year, I would not place Harry Langdon at the top of the list of great silent screen comedians. There simply is not enough there. Perhaps he was on his way to developing his style but sabotaged himself by taking his first big successes too seriously. In any event, all of his tricks are reminiscent of the greater funny men, but he lacks the acrobatic skills of Keaton and the prodigious ingenuity of Lloyd. He also undermines his own persona by dressing and walking like Chaplin's tramp character. His trademarks are childlike innocence, timidity of approach and a tendency to under-react to calamity by looking perplexed, batting his eyes or touching his pursed lips with the tip of his forefinger. The comedy in Langdon's films results from fate throwing various obstacles in his path which he tries to overcome in wimpy or na\\xc3\\xafve ways or with a minimum of physicality, such as throwing rocks at an approaching tornado to drive it away, propping up a collapsing building with a two-by-four or dodging boulders by lifting a leg so that they roll under him. In this story, about the son of a shoemaker who joins a cross-country walking race to publicize a rival company's footwear, he manages to win by sheer luck. There is nothing here that hasn't been done far better by the Big Three.\"\n",
            "label:  0\n",
            "text:  b'I didn\\'t expect Val Kilmer to make a convincing John Holmes, but I found myself forgetting that it wasn\\'t the porn legend himself. In fact, the entire cast turned in amazing performances in this vastly under-rated movie.<br /><br />As some have mentioned earlier, seek out the two-disc set and watch the \"Wadd\" documentary first; it will give you a lot of background on the story which will be helpful in appreciating the movie. <br /><br />Some people seem unhappy about the LAPD crime scene video being included on the DVD. There are a number of reasons that it might have been included, one of which is that John Holmes\\' trial for the murders was the first ever in the United States where such footage was used by the prosecution. If you don\\'t want to see it, it\\'s easy to avoid; it\\'s clearly identified as \"LAPD Crime Scene Footage\" on the menu!'\n",
            "label:  1\n",
            "text:  b\"Lisa Baumer (Ida Galli) is the adulteress wife of a big businessman who inherits $1million life insurance when her husband is killed in a plane crash while on a business trip\\xc2\\x85.initially she is suspected of being responsible as her husbands will had recently been changed and so she has an insurance investigator Peter Lynch (George Hilton)and an Interpol agent on her tail just to be sure. Baumer travels to Athens, Greece to cash in her inheritance, but insists on having it in cash...a dangerous turn of events. Lynch who's identity is now known to Baumer tries to protect her against a lover of her husband Lara Florakis who nevertheless along with her henchman Sharif tries to kill them both for a share of the money that she deems she is entitled to. And this is where our Masked killer starts his/her brutal killings. Lynch as is customary with our hero is at first suspected by the Greek Police and is warned not to leave Athens by Police Inspector Stavros(Luigi Pistilli a familiar face in Giallo and Spaghettis). Lynch is then aided by the gorgeous Cl\\xc3\\xa9o Dupont (Anita Strindberg) a local journalist who helps him investigate the killings.To say any more could ruin the film for anyone who has not seen it, so suffice to say there are enough red herrings and most of them plausible to keep Mystery/Thriller fans happy in this story driven Giallo.The No Shame DVD has a superb transfer with both English and Italian soundtrack. It also has a very catchy score just for good measure by Bruno Nicolai that will stay in your head for a while....all in all a first rate Giallo.\"\n",
            "label:  1\n",
            "text:  b'Another review likened this troupe to a cross between Monty Python and Twin Peaks, also aptly. Yet another review expounded on the differences between the comedy we enjoy non-critically and black comedy, also well worth consideration.<br /><br />Watch the whole thing, all three series. At the end, all the characters are tied up and the puzzle pieces fall into place just as well as a Douglas Adams novel. The detail and intricacies are staggering. Thoroughly post-modern. Wickedly funny, and startlingly tragic. Not for kids. Not for those with thin skins or who lack objectivity. Thought-provoking. At once literal, figurative, and surreal in disturbing ways. The blackest comedy I can recall.<br /><br />And very possibly the most wonderful thing I will ever see.'\n",
            "label:  1\n",
            "text:  b'What \"Noise\" fails to do is get us to understand its character. Tim Robbins plays an obsessive New Yorker who can\\'t deal with the obtrusive noises of the city any longer, particularly car alarms. It\\'s an odd idea for a film, which has about as much creative credibility as \"Death Wish.\" It is clever at points; particularly a scene in which our hero is trying to read through Hagel, \"I\\'m too stupid to be understanding this.\" He reads and rereads a paragraph in confusion, we read it and don\\'t get it either.Just then a car alarm goes off. Throughout the movie is constant interference of alarms and city noises. Though, all in all it does little to help us understand our hero, who allows this all to ruin his marriage and gets distracted with side plots instead of digging deeper-into his persona. <br /><br />The film-making itself is too oblivious to notice its own sound problems, shoddy editing, and visible boom mikes. No, \"Noise\" isn\\'t all-bad. William Hurt is at least colorful. At least the ending doesn\\'t fall flat. Overall it drives home a logistical point, one you haven\\'t probably thought of. At least I hadn\\'t. Though all in all, ninety minutes long, it couldn\\'t have ended sooner. The story dragged on and seemed to be lost as soon as it started.<br /><br />This is another one of those movies that you might see at a film festival, but probably won\\'t get picked up for distribution. Check it out on DVD if you\\'re really partial to someone involved in the project. Otherwise skip it.'\n",
            "label:  0\n",
            "text:  b'I absolutely fail to see what is funny in this film. The humor seems to be destined for corpses. It\\'s slow. The story is too simple to be true. The characters do not raise much sympathy, a few non-important characters aside. Nothing surprising happens. What did the writers of this script think? \"Oooo funny! Let\\'s make some old lady\\'s high on pot! Let\\'s make them.... giggle! Let\\'s make them... behave like little children!! Oooo, yes, that\\'s absolutely brilliant and original!\"<br /><br />This film has irritated me most from all the films I\\'ve seen in the last five years.'\n",
            "label:  0\n",
            "text:  b'This is a feel good film, about one person\\'s dreams and the drive or push to realize them. It is a beautiful and inspirational film. Why do some people have to try and find fault with every film that comes out, especially the good ones. Dennis Quaid gives a good solid performance in this true story of Jim Morris, a science teacher and high school baseball coach who is pushed by his team to take one more shot at a professional baseball career. With excellent supporting cast, including Brian Cox, as the crusty old ex navy officer who has let so much of his son\\'s achievements go by without his support. It was good to see him as something other than a villain in a film. If I have one complaint with this film it is this: Don\\'t ever let Royce Applegate sign the national anthem again. <br /><br />Seriously, this film belongs to that handful of great baseball films like \"Field of Dreams\" and \"The Natural.\" It rates two thumbs up and a big \"well done.\"'\n",
            "label:  1\n",
            "text:  b'I had numerous problems with this film.<br /><br />It contains some basic factual information concerning quantum mechanics, which is fine. Although quantum physics has been around for over 50 years, the film presents this information in a grandiose way that seems to be saying: \"Aren\\'t you just blown away by this!\" Well, not really. These aren\\'t earth shattering revelations anymore. At any rate, I was already familiar with quantum theory, and the fact that particles have to be described by wave equations, etc. is not new.<br /><br />The main problem I have with this movie, however, is the way these people use quantum theory as a way of providing a scientific basis for mysticism and spiritualism. I don\\'t have any serious problem with mysticism and spiritualism, but quantum mechanics doesn\\'t really have anything to do with these things, and it should be kept separate. The people they interviewed for this movie start with the ideas of quantum theory and then make the leap to say that simply by thinking about something you can alter the matter around you, hence we should think positively so as to have a positive impact on the world and make our lives better. The reasoning is completely ridiculous, and the conclusions do not logically follow from quantum theory. For every so called \"expert\" that they interviewed for this film, there are scores of theoretically physicists who would completely disagree. They would point out, quite rightly, that the unpredictability of the subatomic world does not lend support to mystical notions about our spiritual connectedness.<br /><br />It disturbs me that people are going to see this film and completely eat it up because it leaves them with a nice positive feeling. The main thrust of the film is based on a total misinterpretation of quantum theory, and it is as bad in its reasoning as any attempt to justify organized religion with similar pseudo-scientific arguments.<br /><br />Avoid this film.<br /><br />Oh yeah. At one point, one of the \"experts\" says that since throughout history most of the assumptions people have made about the world turned out to be false, therefore the assumptions we currently hold about the world are also likely to be false. Huh? That totally does not follow. And even if it did, I don\\'t see how that helps his argument. I mean, if his ideas ever became common assumptions then I guess we would have to assume that they are false too, based on his own reasoning.'\n",
            "label:  0\n",
            "text:  b\"First, let's all agree that Lorenzo Lamas could never be considered a skilled actor, barely even decent, sometimes just plain lousy. However, in this piece of @*!^ called SnakeEater, the film industry as a whole sank.<br /><br />First, let's start with the plot. A Vietnam vet named Jack Kelly, aka Soldier (who is supposed to be as tough as a strap of leather and then some, which you can believe when he shoves a palate of nails through 2 guys' feet and pins them to the floor), gets word that his family has been killed and his sister kidnapped. Therefore he goes on a solo mission to save his sister. Had some potential, but still pretty thin to begin with.<br /><br />Now, the acting. Being an actor myself, I am qualified to say that this was some of the WORST acting in the history of the art!!!!! Lamas is, well, himself. The jackasses playing the Clampets/Deliverance rejects should be strung up and shot for their so-called performances which are insulting to actors everywhere, especially talented ones who never get their big break!<br /><br />Finally, the action. The gunfighting is so-so at BEST, and the fist-fighting is deplorable. I've seen more real-looking fights at the Renaissance Festival (and those were pretty fake-looking)!<br /><br />Readers, listen to me: AVOID THIS PIECE OF CACA AT ALL COSTS! IF IT WERE THE ONLY FILM IN EXISTENCE, YOU STILL WOULD WANT TO AVOID IT! For the sake of your brain-cell count, do NOT watch this thing!\"\n",
            "label:  0\n",
            "text:  b'Corky Romano has to be one of the most jaw dropping and horrific \"comedy\\'s\" ever made.<br /><br />While the sometimes amusing Chris Kattan who pulled off a very funny performance in the hilarious \\'Undercover Brother\\' his character in Corky is so stupid and so unfunny-which is a shame since the premise is a wonderful idea. To bad they ran out of them when they got to page 3 on the script.'\n",
            "label:  0\n",
            "text:  b'From start to finish, I laughed real hard throughout the whole movie. It\\'s amazing that \"The Groove Tube\" is possibly the granddaddy, yet raunchiest, of all comedic skit movies.This is the way I enjoy watching TV without being bored at flipping channels only to suffer from insomnia! For 73 minutes, the weird, strange humor never stops! Just think of how all this nonsense laughing can help you enjoy life easier! It\\'s way, WAY better than Comedy Central or any prime time show! Do yourself a favor and trash all those soft, lame romantic comedy movies into the wastebasket! Better yet, tell your box office manager you want \"The Groove Tube\" back on the big screen!'\n",
            "label:  1\n",
            "text:  b\"What starts out as an interesting story quickly disintegrates into nothing. Don't bother watching to the end hoping for an explanation of what is stalking the visitors, there is no ending. No explanation, no resolution, zip. This could have been a good movie it they had purchased an entire script.\"\n",
            "label:  0\n",
            "text:  b'The Three Stooges has always been some of the many actors that I have loved. I love just about every one of the shorts that they have made. I love all six of the Stooges (Curly, Shemp, Moe, Larry, Joe, and Curly Joe)! All of the shorts are hilarious and also star many other great actors and actresses which a lot of them was in many of the shorts! In My opinion The Three Stooges is some of the greatest actors ever and is the all time funniest comedy team! <br /><br />One of My favorite Stooges shorts with Shemp is none other than Husbands Beware! All appearing in this short are the beautiful Christine McIntyre, Dee Green, Doris Houck, Alyn Lockwood, Johnny Kascier, Nancy Saunders, Lu Leonard, Maxine Gates, and Emil Sitka. Green and McIntyre provide great performances here! There are so many funny parts here. This is a very hilarious short. There is another similar Three Stooges short like this one called Brideless Groom and I recommend both!'\n",
            "label:  1\n",
            "text:  b'I have been a fan of Pushing Daisies since the very beginning. It is wonderfully thought up, and Bryan Fuller has the most remarkable ideas for this show.<br /><br />It is unbelievable on how much TV has been needing a creative, original show like Pushing Daisies. It is a huge relief to see a show, that is unlike the rest, where as, if you compared it to some of the newer shows, such as Scrubs and House, you would see the similarities, and it does get tedious at moments to see shows so close in identity.<br /><br />With a magnificent cast, wonderful script, and hilarity in every episode, Pushing Daisies is, by-far, one of the most remarkable shows on your television.'\n",
            "label:  1\n",
            "text:  b\"I just came back from the Montreal premiere of Zero Day...and i'm surprised as hell to find a negative comment on the movie. Basically the blame is about Coccio doing an easy and overplayed social message...well, Mr-I'm-a-reviewer, it's an easy and overplayed critic of movies with a social charge.<br /><br />Not that I want to expose my life here, but I come from a small town with a similar school than these guys go. Reject & ignorance on the menu. Thing is...I understand how can young kids can be driven to do such horror. High schools have became battle fields of conformity. It's a real ugly sight. You need to fight your way into being like the others. It's hard to explain, bit a lot of people dosen't realize that high schools are becoming cemeteries of human intelligence. Meanwhile, parents are closing their eyes and smiling about how their life in their comfortable suburb is perfect.<br /><br />The real motive of the movie isn't about what is driving them. It's about this death-like calm suburb and everybody closing their eyes and trying to create this atmosphere of a perfect town. Cal expressed it well. It's a wake up call. Drama is everywhere and it can take every shape. In that case little dramas(like Andre being called a faggot for wearing a J.C Penny shirt) are shaping into being the worse nightmare of a whole town. Andre & Cal took the most extreme way to express their pain. The malaise of unconformity in an era where you need more than ever to be like the others to be accepted.<br /><br />I like particularly the last scenes where some guys are burning the crosses of Andre & Cal, like if with the pain they communicated, Cal & Andre have communicated their blind rage to their community, their refusal to think about the causes of some acts. <br /><br />It might seemed aggressive as a movie, but Coccio is meditating more than whining or enunciating. What Andre & Cal are living is a reality...and a scary one that might get to other kids. <br /><br />Disturbing movie...Home making and strong feeling made Ben Coccio do a very very disturbing movie.\"\n",
            "label:  1\n",
            "text:  b'In an era of such awful cartoons, I am rather in shock to see a movie with such good morals make it to the IMDB Bottom List for Animated movies.<br /><br />This movie does contradict the first. I won\\'t deny that. However, when I was in the target age group for this movie, I didn\\'t even notice, nor would it have mattered if I did. The people who made it may have used \"New Generation\" to note that this is another way the Care Bear Family could have began. Perhaps we are meant to decide for ourselves how the Care Bear family truly began.<br /><br />This was my favorite movie at age 3-6, and it did not scare me or confuse me at all.<br /><br />'\n",
            "label:  1\n",
            "text:  b'No ,I\\'m not kidding. If they ever propose a movie idea, they should be kicked out of the studio. I\\'m serious. Their movies are exactly the same in every one, and they only consist of traveling to foreign locations, having a problem which they easily resolve, hoping to be popular, and getting new boyfriends. Think about it. If you have ever seen a movie starring them with a different plot, contact me and tell me its name. These \"movies\" are poor excuses to be on TV and go to other countries. There is a reason that the movies never go to theaters. I\\'m sure that when they were really young and made some O.K. movies, some studio boss bought all their rights for 15 years, or something, so that now that they\\'re, what, 17, they can make movies in other countries whenever they want using the studio\\'s money. Let me advise you, STAY AWAY FROM MARY-KATE AND ASHLEY! IT\\'S FOR YOUR OWN GOOD!'\n",
            "label:  0\n",
            "text:  b\"I have read over 100 of the Nancy Drew books, and if you are not bright enough to catch on yet, Nancy Drew the movie was of a YOUNGER Nancy Drew, not the 18-year-old that doesn't go to school that all of the books are about. This was when she was sixteen. So naturally, she would of not as been as smart as the one in the book considering she is only in the 10th grade. Other than that, I thought the movie was very cute. It was clean and appropriate for everyone. It was funny at times. I thought Emma Roberts did a great job. She was articulate, in character, and cute. I liked the awkwardness that Nancy and Ned had around each other because they obviously were not old enough to be in a serious relationship like they have in the books. It was a cute, PG movie that I throughly enjoyed because I, unlike most people my age, enjoy movies without sex, drugs, or profanity.\"\n",
            "label:  1\n",
            "text:  b\"An awful film! It must have been up against some real stinkers to be nominated for the Golden Globe. They've taken the story of the first famous female Renaissance painter and mangled it beyond recognition. My complaint is not that they've taken liberties with the facts; if the story were good, that would perfectly fine. But it's simply bizarre -- by all accounts the true story of this artist would have made for a far better film, so why did they come up with this dishwater-dull script? I suppose there weren't enough naked people in the factual version. It's hurriedly capped off in the end with a summary of the artist's life -- we could have saved ourselves a couple of hours if they'd favored the rest of the film with same brevity.\"\n",
            "label:  0\n",
            "text:  b'I had to compare two versions of Hamlet for my Shakespeare class and unfortunately I picked this version. Everything from the acting (the actors deliver most of their lines directly to the camera) to the camera shots (all medium or close up shots...no scenery shots and very little back ground in the shots) were absolutely terrible. I watched this over my spring break and it is very safe to say that I feel that I was gypped out of 114 minutes of my vacation. Not recommended by any stretch of the imagination.'\n",
            "label:  0\n",
            "text:  b'Get this film if at all possible. You will find a really good performance by Barbara Bach, beautiful cinematography of a stately (and incredibly clean) but creepy old house, and an unexpected virtuoso performance by \\xc2\\x85 \"The Unseen\". I picked up a used copy of this film because I was interested in seeing more of Bach, whom I\\'d just viewed in \"The Spy Who Loved Me.\" I love really classically beautiful actresses and appreciate them even more if they can act a little. So: we start with a nice fresh premise. TV reporter Bach walks out on boyfriend and goes to cover a festival in a California town, Solvang, that celebrates its Swedish ancestry by putting on a big folk festival. She brings along a camerawoman, who happens to be her sister, and another associate. (The late Karen Lamm plays Bach\\'s sister, and if you know who the celebrities are that each of these ladies is married to, it is just too funny watching Bach (Mrs. Ringo Starr) and Lamm (Mrs. Dennis Wilson) going down the street having a sisterly quarrel.)) Anyway \\xc2\\x85 Bach\\'s disgruntled beau follows her to Solvang, as he\\'s not done arguing with her. There\\'s a lot of feeling still between them but she doesn\\'t wanna watch him tear himself up anymore about his down-the-drain football career. The ladies arrive in Solvang to do the assignment for their station, only to find their reservations were given away to someone else. (Maybe to Bach\\'s boyfriend, because think of it \\xc2\\x96 where\\'s he gonna stay?). The gals ask around but there is just nowhere to go. Mistakenly trying to get into an old hotel which now serves only as a museum, they catch the interest of proprietor Mr. Keller (the late Sidney Lassick), who decides to be a gentleman and lodge them at his home, insisting his wife will be happy to receive them. Oh no! Next thing we know Keller is making a whispered phone call to his wife, warning her that company\\'s coming and threatening that she\\'d better play along. Trouble in paradise! The ladies are eager to settle in and get back to Solvang to shoot footage and interview Swedes, but one of the girls doesn\\'t feel good. Bach and Lamm leave her behind, wondering to themselves about Mrs. Keller (played heartbreakingly by pretty Lelia Goldoni) who looks like she just lost her best pal. Speaking of which \\xc2\\x85 under-the-weather Vicki slips off her clothes and gets into a nice hot tub, not realizing that Keller has crept into her room to inspect the keyhole. She hears him, thinks he\\'s come to deliver linen, and calls out her thanks. Lassick did a great job in this scene expressing the anguish of a fat old peeping tom who didn\\'t get a long enough look. After he\\'s left, poor Vicki tumbles into bed for a nap but gets yanked out of it real fast (in a really decent, frightening round of action) by something BIG that has apparently crept up through a grille on the floor \\xc2\\x85 The Unseen! Lamm comes home next (Bach is out finishing an argument with her beau) and can\\'t find anyone in the house. She knocks over a plate of fruit in the kitchen, and, on hands and knees to collect it, her hair and fashionable scarf sway temptingly over the black floor grille \\xc2\\x85 attracting The Unseen again! Well, at about the time poor Lamm is getting her quietus in the kitchen, we do a flashback into Mr. Keller\\'s past and get the full story of what his sick, sadistic background really is and why his wife doesn\\'t smile much. Bach finally gets home and wants to know where her friends are. Meanwhile, Lassick has been apprised of the afternoon\\'s carnage by his weeping wife and decides he can\\'t let Bach off the premises to reveal the secret of his home. He tempts her down into the basement where the last act of the Keller family tragedy finally opens to all of us.<br /><br />I cannot say enough for Stephen Furst, whom I\\'d never seen before; it\\'s obvious that he did his homework for this role, studying the methods of communication and expression of the brain damaged; Bach and Goldoni, each in their diverse way, just give the movie luster. Not only that, but movie winds up with a satisfying resolution. No stupid cheap tricks, eyeball-rolling dialog or pathetically cut corners... A real treat for your collection.'\n",
            "label:  1\n",
            "text:  b'Bromwell High is a cartoon comedy. It ran at the same time as some other programs about school life, such as \"Teachers\". My 35 years in the teaching profession lead me to believe that Bromwell High\\'s satire is much closer to reality than is \"Teachers\". The scramble to survive financially, the insightful students who can see right through their pathetic teachers\\' pomp, the pettiness of the whole situation, all remind me of the schools I knew and their students. When I saw the episode in which a student repeatedly tried to burn down the school, I immediately recalled ......... at .......... High. A classic line: INSPECTOR: I\\'m here to sack one of your teachers. STUDENT: Welcome to Bromwell High. I expect that many adults of my age think that Bromwell High is far fetched. What a pity that it isn\\'t!'\n",
            "label:  1\n",
            "text:  b\"This movie is not just bad, not just corny, it is repulsive. Something about Daphne, about the creepy call-girl, about the whole damn (and I use the word literally) film radiates a grotesquery that would offend a brothel mistress. This film makes my skin crawl, makes me regret having reproductive organs, and makes me feel unclean.<br /><br />One of the things that bothers me most about this movie is that they used such a good concept. A creature that makes fantasies with disastrous results, rather than the clich\\xc3\\xa9 Worst Nightmare and the overdone Twisted Wish, is a truly fascinating film idea.<br /><br />Thought: The reason why hobgoblins need to be killed before day is that they are attracted to bright lights. During the day, bright lights don't show up well, so they could go anywhere.<br /><br />Count the Hobgoblins: Four hobgoblins drive out of the film studio, and yet at least nine of the pernicious plush-toys are killed throughout the course of the movie.<br /><br />Discussion Question: If you had a frigid, demanding, unappreciative girlfriend, would you enter garden-tool-combat with a military chunkhead? Explain.\"\n",
            "label:  0\n",
            "text:  b'This movie was so badly written, directed and acted that it beggars belief. It should be remade with a better script, director and casting service. The worst problem is the acting. You have Jennifer Beals on the one hand who is polished, professional and totally believable, and on the other hand, Ri\\'chard, who is woefully miscast and just jarring in this particular piece. Peter Gallagher and Jenny Levine are just awful as the slave owning (and keeping) couple, although both normally do fine work. The actors (and director) should not have attempted to do accents at all--they are inconsistent and unbelievable. Much better to have concentrated on doing a good job in actual English. The casting is ludicrous. Why have children of an \"African\" merchant (thus less socially desirable to the gens de couleur society ) been cast with very pale skinned actors, while the supposedly socially desirable Marcel, has pronounced African features, including an obviously dyed blond \"fro\"? It\\'s as if the casting directors cannot be bothered to read the script they are casting and to chose appropriate actors from a large pool of extremely talented and physically diverse actors of color. It\\'s just so weird! This could be a great movie and should be re-made, but with people who respect the material and can choose appropriate and skilled actors. There are plenty of good actors out there, and it would be fun to see how Jennifer Beals, Daniel Sunjata and Gloria Reuben would do with an appropriate cast, good script and decent direction.'\n",
            "label:  0\n",
            "text:  b'I really enjoyed this movie.I was fifteen when this movie came out and I could relate. This will be a movie I would show my kids to let them know, the feelings they are having are normal. It is funny to see how we could be so devestated by things at such a young age..who knew that we would bounce back....again and again....Great movie!!!!'\n",
            "label:  1\n",
            "text:  b'There are a few spoilers in this comment!!<br /><br />Contrary to the comments I just read by nativetex4u and a few others, I really liked the movie and would love to see it as a weekly series.<br /><br />I am a Judson Mills fan but also a huge Chuck Norris fan and while I\\'ll admit that a few of the action scenes may have stretched the line a little, the storyline fit right in with other weekly series that are currently being aired.<br /><br />The opening fifteen minutes with Deke running from the bad guys after blowing up their missiles was very action packed. I do fail to see how that many \"professionals\" weren\\'t able to hit a moving target, but the action was definitely there and Deke, being the hero, had to survive.<br /><br />As for the comment about needing to \"get the movie in the can to fill the time slot after the playoffs.\" This movie was not originally scheduled by CBS for a January airing and filming was completed in May of 2001, a good 4 months before the terrorist attacks against the U.S.<br /><br />If the writer of the comment had been paying attention to the movie instead of trying to avoid it, maybe they would have realized the plot of the story: Rashid, a Bin Laden like character, planned to set off a nuclear device in the United States. The President\\'s Man was called in to locate and eliminate the problem.<br /><br />Perhaps the writer should actually WATCH the movie before attempting to comment on it.<br /><br />'\n",
            "label:  1\n",
            "text:  b\"As Steven Segal movies go this one is bottom of the barrel. His best was just fodder for bored teenagers. This one tips the scales, then falls off. The characters are all cardboard. The story is double lame. I can't spoil it by telling you the ending. You already know how all Steven Segal movies end if you have seen one. Here goes. He is a super-dooper government agent who know too much to turn loose so they decide, instead of killing him, to dope his brain until he don't remember squat. He escapes, of course, gets arrested and is located by his old general who needs his one man in a million experience to get back a stealth plane that has been handed over to a terrorist gang in Afghanastan by a rogue Air Force pilot who, surprise, surprise, Segal trained. All the heroes, except Segal's character and his dusky girlfriend, die heroically and Steve-Baby save the whole world in one swell foop, or fell swoop. Whatever. Made with some surplus Air Force and Navy flying film. And a lot of boom-booms. Get some Popeye cartoons instead.\"\n",
            "label:  0\n",
            "text:  b\"I first saw this as a child living in East London. The scars of Hitlers Luftwaffe were all too evident and the landscape of the movie was reminiscent of our street. I remember having nightmares after seeing it. The odd thing is, it really hasn't dated if viewed as a piece of social history in Cinema fiction. <br /><br />Apart from a globally destructive war, the scale of the machines was badly awry, more Nano-Technology now, but overall, an excellent and well-crafted work. It was interesting to see how space travel was perceived back then. I would think that firing a spacecraft from a gigantic gun would almost certainly kill the astronauts. However, much was right. Mans desire for war, mans inhumanity to man. The means of war as a catalyst for development. <br /><br />\"\n",
            "label:  1\n",
            "text:  b'Not only was this the most expensive Canadian film ever shot in BC, but easily the worst, never seeing the light of day. The director is not even Canadian, but British, and boy does it show. We are all made out to be a bunch of over-sexed dope fiends and morons. The spirit of what it means to be Canadian is absent, and this is supposed to be the reason we fund this bunk. Of course the British character is normal. The rest are a crop of sitcom stereotype - can you say \"Norm!!\"? The cinematography ranges from pretty postcard images to murky indoor silhouettes. The actors always seem to be fidgetting. Are they as bored as the viewer, or is this the directors idea of cinema? Avoid this mess and check out some of Bruce Mcdonalds films. A true Canadian boy with something original to say cinematically. You won\\'t be compelled to walk out on HIS films after 10 minutes.'\n",
            "label:  0\n",
            "text:  b'...Or, more precisely, so bad that you are going to have the time of your life laughing your ass off when you watch it! James Sbardellati\\'s \"Deathstalker\" of 1983 is certainly one of the most awful productions the Sword & Sorcery sub-genre has brought along, but it is highly amusing. The acting is terrible, the plot is pure crap, and the effects and photography couldn\\'t be more amateurish. But it is the bad acting, the cheesy effects, and the many errors, that makes this movie so hilarious.<br /><br />- SPOILERS AHEAD -<br /><br />Deathstalker (Rick Hill) is an extremely strong and skilled warrior. One day, a good witch tasks him to unite the three powers of chaos and creation, a sword, an amulet and a chalice, in order to free the country from its brutal ruler, the evil king and sorcerer Munkar. Obtaining the sword is quite easy, but the amulet and the chalice are in Munkar\\'s possession. Fortunately, the evil king has arranged a tournament in which the county\\'s most skilled warriors fight each other until death. The winner is then to take the king\\'s place. Of course, the king doesn\\'t want anybody to take his place, an therefore he has planned to kill the winner (instead of just not arranging the tournament in the first place). Deathstalker is not only to obtain the the three powers of creation, but also to save the old, good king\\'s gorgeous daughter (Barbi Benton) from the claws of evil Munkar. Luckily, he doesn\\'t get bored on his way to the tournament, since he is allowed hump the gorgeous female warrior Kaira (Lana Clarkson) in the meantime...<br /><br />The film has many great, incredibly stupid and funny scenes. Some of my favorite scenes include: <br /><br />- Deathstalker beheads a bad guy with his sword. The head that falls down, however, is not that guy\\'s head. The falling head has a red goatee, while the guy beheaded by Deathstalker had dark hair and no beard.<br /><br />- When the character of female warrior Kaira (Lana Clarkson) is introduced, she is first seen in a black robe, hiding her face and body. Deathstalker\\'s traveling companion Oghris (Richard Brooker) fights her, and during the sword fight her robe (under which she is, of course topless) opens, exposing her breasts. Her breasts are the first thing we see of Lana Clarkson, even before her face.<br /><br />- The last warrior Deathstalker has to fight in the tournament, is a giant guy with the body of a man and the head of a pig.<br /><br />- Evil Munkar has an ugly little creature locked in a chest. He feeds that little creature human eyeballs and fingers.<br /><br />... There are many other unintentionally funny, hilarious, and great scenes. The acting is terrible but Barbi Benton and the late Lana Clarkson are eye-candy, and although I described this movie as \\'unintentionally funny\\', I sometimes had the impression that some of the actors were absolutely aware of how crappy the movie is. There is a fair amount of gore, and lots of female nudity to keep the viewer entertained. \"Deathstalker\" is an incredibly awful movie, but I still highly recommend it. People with a sense of humor will have the time of their lives!'\n",
            "label:  0\n",
            "text:  b'Something surprised me about this movie - it was actually original. It was not the same old recycled crap that comes out of Hollywood every month.<br /><br />I saw this movie on video because I did not even know about it before I saw it at my local video store. If you see this movie available - rent it - you will not regret it. The suspense builds throughout and the twist ending is excellent.<br /><br />'\n",
            "label:  1\n",
            "text:  b'this is one amazing movie!!!!! you have to realize that chinese folklore is complicated and philosophical. there are always stories behind stories. i myself did not understand everything but knowing chinese folklore (i studied them in school)it is very complicated. you just have to take what it gives you.....ENJOY THE MOVIE AND ENJOY THE RIDE....HOORAY!!!!'\n",
            "label:  1\n",
            "text:  b'Are you familiar with concept of children\\'s artwork? While it is not the greatest Picasso any three-year-old has ever accomplished with their fingers, you encourage them to do more. If painting is what makes them happy, there should be no reason a parent should hold that back on a child. Typically, if a child loves to paint or draw, you will immediately see the groundwork of their future style. You will begin to see their true form in these very primitive doodles. Well, this concept of children\\'s artwork is how I felt about Fuqua\\'s depressingly cheap and uncreative film Bait. While on all accounts it was a horrid film, it was impressive to see Fuqua\\'s style begin emerging through even the messiest of moments. If you have seen either Training Day or King Arthur, you will be impressed with the birth of this director in his second film Bait. While Foxx gives a horrid, unchained performance, there are certain scenes, which define Fuqua and demonstrate his brilliance behind the camera. Sadly it only emerged in the final thirty minutes of the film, but if you focus just on those scenes, you will see why Fuqua\\'s name appears on so many \"Best Of\\xc2\\x85\" film lists.<br /><br />I will never disagree with someone that Fuqua\\'s eye behind the camera is refreshing and unique. His ability to place a camera in the strangest of places to convey the simplest of emotions is shocking. I am surprised that more of Hollywood hasn\\'t jumped aboard this bandwagon. Even in the silly feature Bait, you are witness to Fuqua\\'s greatness. Two scenes that come directly to mind are the explosion scene near the middle of the film and the horse scene close to the end. In both of these scenes I saw the director Fuqua at work. Alas, in the rest of this film, all I saw was a combination of nearly every action film created. The likable hero down on his luck that suddenly finds his life turned around by some unknown force is a classic structure that just needs to die in Hollywood. We have seen this two often, and no matter who you are (unless you are Charlie Kaufmann), you cannot recreate the wheel. It is just impossible with this genre, and it is proved with Bait. I was annoyed with Fuqua for just sitting back and allowing this to happen, which could explain why it took me three viewings to finish this film. I was just tired of the structure, and while I hoped that Fuqua would redefine it, he did not.<br /><br />Then, there was the acting. While Jamie Foxx has never impressed me as an actor, I was willing to give this helmed vehicle a try. I wanted to see if he could pull off another dramatic role similar to Collateral. I was under the impression that perhaps this was the film chosen to show producers that Foxx could handle the role in Collateral. Again, I was disappointed. Foxx was annoying. Not in the sense that it was the way that his character was to be, but in the sense that it felt as if neither Fuqua nor Foxx took the time to fully train Foxx on what should be ad-libed and what should be used to further the plot. Instead, we are downtrodden with scene over scene of Foxx just trying to make the audience laugh. Adding second long quips and culture statements just to keep his audience understanding that he was a comedian first, an actor second. Fuqua should have stopped this immediately. Foxx\\'s jokes destroyed his character, which in turn left me with nothing solid to grasp ahold of. Instead of character development, he would crack a joke. Neither style worked, no joke was funny. The rest of the cast was average. By this I mean I have seen them all in similar roles. They were brining nothing new to the table, nothing solid to the story, and nothing substantial to the overall themes of the film. They were pawns filling in dead air space. Fuqua had no control over this mess, and the final verdict only supports that accusation.<br /><br />Overall, this was a sad film. With no creativity in sight and unmanaged actors just trying to upstage themselves, what originally started as a decent story eventually sunk faster into the cinematic quicksand. Foxx was annoying, without character lines, and a complete bag of cheese. In each scene I saw no emotion, and when emotion was needed to convey a message, he chose to take his shirt off rather than tackle the issues. Are my words harsh? I don\\'t think so. When you watch any movie you want to see some creativity, some edible characters, and themes that seem to hit close to home. Bait contained none of these. While I will give Fuqua some credit for two of the scenes in this film, the remaining five hundred were disastrous. Apparently, I took the bait when renting this film, but now having seen it, hopefully I can stop others from taking that curious nibble.<br /><br />Grade: ** out of ***** (for his two scenes that were fun to watch)'\n",
            "label:  0\n",
            "text:  b'I haven\\'t watched the movie yet, but can\\'t wait to see it! It seems very interesting and inspirational. It was one of the most interesting trailers I\\'ve ever seen: the questions it posed really stopped me and made me think, the unique approach to the sport of boxing as a metaphor for the \"battle within\"... thank god somebody is hitting another angle with the boxing thing. This film looks so fresh and smart. And the actor is really hot. I especially enjoyed the short clip with the actor from the Rocky movies, really clever. I thought that the topic selected-overcoming adversities and childhood traumas-is timeless, and god knows a lot of people need it. Bring it on.'\n",
            "label:  1\n",
            "text:  b\"Carlos Saura's Carmen is one of the finest achievements in world, let alone Spanish, cinema. It manages to excite interest in flamenco in its wonderful staged adaptations from Bizet with powerful physical force. At the same time we see the impact of the creation and rehearsal of a new interpretation of Carmen on the choreographer/director and the principle dancers. The fine line between life and art is dazzling.\"\n",
            "label:  1\n",
            "text:  b\"Why do people bitch about this movie and not about awful movies like The Godfather. Titanic is the greatest movie of the 21st Century.With great acting,directing,effects,music and generally everything. This movie is always dumped by all because one day some one said they didn't like it any more so most of the world decided to agree. There is nothing wrong with this movie. All I can say is that this movie, not only being the most heavily Oscar Awarded movie of all time, the most money ever made ever and sadly one of the most underrated movies I've ever seen. Apart from that it is truly the best movie of all time. The only movies that come close to being like all the Star Wars and the Lord of the Rings trilogy or anything by the masters Hitchcock or Spielberg or Tim Burton. These are all good movies and directors but none match up to James Cameron's Masterpiece TITANIC.\"\n",
            "label:  1\n",
            "text:  b'I\\'ve seen many of Guy Maddin\\'s films, and liked most of them, but this one literally gave me a headache. John Gurdebeke\\'s editing is way too frenetic, and, apart from a tour-de-force sequence showing a line of heads snapping to look at one object, does nothing but interfere with the actors\\' ability to communicate with the audience.<br /><br />Another thing I disliked about this film was that it seemed more brutal than Maddin\\'s earlier works--though his films have always had dark elements, his sympathy for the characters gave the movies an overriding feeling of humanity. This one seemed more like harshness for harshness\\' sake.<br /><br />As I\\'m required to add more lines of text before IMDb will accept my review, I will mention that the actor playing \"Guy Maddin\" does manage to ape his facial expressions pretty well.'\n",
            "label:  0\n",
            "text:  b'My family has watched Arthur Bach stumble and stammer since the movie first came out. We have most lines memorized. I watched it two weeks ago and still get tickled at the simple humor and view-at-life that Dudley Moore portrays. Liza Minelli did a wonderful job as the side kick - though I\\'m not her biggest fan. This movie makes me just enjoy watching movies. My favorite scene is when Arthur is visiting his fianc\\xc3\\xa9e\\'s house. His conversation with the butler and Susan\\'s father is side-spitting. The line from the butler, \"Would you care to wait in the Library\" followed by Arthur\\'s reply, \"Yes I would, the bathroom is out of the question\", is my NEWMAIL notification on my computer. \"Arthur is truly \"funny stuff\"!'\n",
            "label:  1\n"
          ],
          "name": "stdout"
        }
      ]
    },
    {
      "cell_type": "code",
      "metadata": {
        "id": "Pk2W75A8nVcA"
      },
      "source": [
        "BUFFER_SIZE = 10000\n",
        "BATCH_SIZE = 64"
      ],
      "execution_count": 5,
      "outputs": []
    },
    {
      "cell_type": "code",
      "metadata": {
        "id": "GxnrGdcJnl3x"
      },
      "source": [
        "train_dataset = train_dataset.shuffle(BUFFER_SIZE).batch(BATCH_SIZE).prefetch(tf.data.AUTOTUNE)\n",
        "test_dataset = test_dataset.batch(BATCH_SIZE).prefetch(tf.data.AUTOTUNE)"
      ],
      "execution_count": 6,
      "outputs": []
    },
    {
      "cell_type": "code",
      "metadata": {
        "colab": {
          "base_uri": "https://localhost:8080/"
        },
        "id": "bYuCOeDSoguD",
        "outputId": "8e57b987-e4ce-4d74-ee49-3b8482e94efa"
      },
      "source": [
        "for example, label in train_dataset.take(1):\n",
        "  print('texts: ',example.numpy()[:3])\n",
        "  print()\n",
        "  print('labels: ',label.numpy()[:3])"
      ],
      "execution_count": 7,
      "outputs": [
        {
          "output_type": "stream",
          "text": [
            "texts:  [b'Evidently when you offer a actor enough money they will do anything. I am not sure how much John Rys-Daves got, but most of the money he made should go to his fans as an apology for even being associated with such a ROTTEN movie. The special effects were worse then effects from the 1950\\'s B movies and the acting of the rest of the cast was even worse. As to how bad the acting was a child gave the second best performance in my opinion. The English was terribly accented and I think no one could really even speak English they just memorized how the words should sound instead of memorizing the script and trying to make their character both \"life-like\" and real.'\n",
            " b'This film is a massive Yawn proving that Americans haven\\'t got the hang of farce. Even when it has already been written for them! The original film \"Hodet Over Vannet\" is a witty comedy of errors that I would rate 8/10. It isn\\'t just about a linguistic translation, but certain absurd chains of events are skipped entirely, robbing the film of its original clever farcical nature and turning it into a cheap \"oops there go my trousers\" style of farce.'\n",
            " b\"I saw this film first on my way home from Paris to Newark aboard Air France in August 1996. The film itself I believe is quite a masterpiece. It's the kind of film that people should be making. I still think Daniel Auteuil is one of the sexiest actors around. In this French film, he plays a divorced father and businessman who has lost his zest for life until he across a Down Syndrome man who lives in an institution with other Down Syndrome patients. The actors including the actor who actually has Down Syndrome create a believable friendship and relationship between these two unlikely men. Daniel's life and ours changes forever with the Down Syndrome man. He realizes that life is not just work and not play but for the living and loving and that's what life should be all about. The ending is kind of silly though but I still think it's one of my favorite movies. It's enough to bring a tear to your eye.\"]\n",
            "\n",
            "labels:  [0 0 1]\n"
          ],
          "name": "stdout"
        }
      ]
    },
    {
      "cell_type": "code",
      "metadata": {
        "id": "kv_YCh-LpD9W"
      },
      "source": [
        "VOCAB_SIZE = 1000\n",
        "encoder = tf.keras.layers.experimental.preprocessing.TextVectorization(\n",
        "    max_tokens=VOCAB_SIZE)\n",
        "encoder.adapt(train_dataset.map(lambda text, label: text))"
      ],
      "execution_count": 8,
      "outputs": []
    },
    {
      "cell_type": "code",
      "metadata": {
        "colab": {
          "base_uri": "https://localhost:8080/"
        },
        "id": "m4lmB8Rapk5B",
        "outputId": "3a734752-67f1-4fd6-8bba-303e13b7d4ac"
      },
      "source": [
        "vocab = np.array(encoder.get_vocabulary())\n",
        "vocab[:]"
      ],
      "execution_count": 9,
      "outputs": [
        {
          "output_type": "execute_result",
          "data": {
            "text/plain": [
              "array(['', '[UNK]', 'the', 'and', 'a', 'of', 'to', 'is', 'in', 'it', 'i',\n",
              "       'this', 'that', 'br', 'was', 'as', 'for', 'with', 'movie', 'but',\n",
              "       'film', 'on', 'not', 'you', 'are', 'his', 'have', 'he', 'be',\n",
              "       'one', 'its', 'at', 'all', 'by', 'an', 'they', 'from', 'who', 'so',\n",
              "       'like', 'her', 'just', 'or', 'about', 'has', 'if', 'out', 'some',\n",
              "       'there', 'what', 'good', 'when', 'more', 'very', 'even', 'she',\n",
              "       'my', 'no', 'up', 'would', 'which', 'only', 'time', 'really',\n",
              "       'story', 'their', 'were', 'had', 'see', 'can', 'me', 'than', 'we',\n",
              "       'much', 'well', 'been', 'get', 'will', 'into', 'also', 'because',\n",
              "       'other', 'do', 'people', 'bad', 'great', 'first', 'how', 'most',\n",
              "       'him', 'dont', 'made', 'then', 'movies', 'make', 'films', 'could',\n",
              "       'way', 'them', 'any', 'too', 'after', 'characters', 'think',\n",
              "       'watch', 'two', 'many', 'being', 'seen', 'character', 'never',\n",
              "       'little', 'acting', 'where', 'plot', 'best', 'love', 'did', 'know',\n",
              "       'life', 'show', 'does', 'ever', 'your', 'still', 'better', 'over',\n",
              "       'off', 'these', 'end', 'say', 'while', 'here', 'man', 'why',\n",
              "       'scene', 'such', 'scenes', 'go', 'should', 'something', 'through',\n",
              "       'im', 'back', 'those', 'doesnt', 'real', 'watching', 'years',\n",
              "       'though', 'now', 'thing', 'actors', 'didnt', 'another', 'new',\n",
              "       'before', 'actually', 'nothing', 'makes', 'find', 'work', 'funny',\n",
              "       'look', 'few', 'old', 'going', 'same', 'every', 'lot', 'us',\n",
              "       'part', 'director', 'again', 'thats', 'cant', 'quite', 'cast',\n",
              "       'want', 'pretty', 'things', 'seems', 'young', 'got', 'around',\n",
              "       'fact', 'however', 'down', 'world', 'take', 'enough', 'both',\n",
              "       'give', 'between', 'may', 'ive', 'big', 'horror', 'original',\n",
              "       'thought', 'own', 'without', 'gets', 'always', 'series', 'right',\n",
              "       'long', 'isnt', 'saw', 'come', 'almost', 'times', 'least',\n",
              "       'theres', 'role', 'point', 'action', 'must', 'interesting',\n",
              "       'whole', 'comedy', 'bit', 'family', 'music', 'done', 'script',\n",
              "       'last', 'might', 'hes', 'anything', 'guy', 'since', 'feel',\n",
              "       'minutes', 'far', 'probably', 'performance', 'am', 'kind',\n",
              "       'rather', 'worst', 'yet', 'away', 'sure', 'tv', 'making', 'woman',\n",
              "       'girl', 'each', 'found', 'fun', 'played', 'having', 'anyone',\n",
              "       'our', 'although', 'believe', 'comes', 'trying', 'course',\n",
              "       'especially', 'goes', 'day', 'looks', 'hard', 'shows', 'put',\n",
              "       'different', 'wasnt', 'place', 'maybe', 'book', 'once', 'set',\n",
              "       'main', 'reason', 'money', 'worth', 'sense', 'everything',\n",
              "       'looking', 'true', 'ending', 'someone', 'watched', 'plays', 'job',\n",
              "       '2', 'actor', 'seem', 'three', 'said', 'takes', 'screen', 'dvd',\n",
              "       'together', 'play', 'instead', 'john', 'during', 'beautiful',\n",
              "       'later', '10', 'effects', 'himself', 'everyone', 'version', 'left',\n",
              "       'seeing', 'special', 'audience', 'night', 'excellent', 'house',\n",
              "       'american', 'idea', 'simply', 'nice', 'wife', 'shot', 'youre',\n",
              "       'read', 'high', 'black', 'less', 'completely', 'second', 'kids',\n",
              "       'help', 'else', 'poor', 'fan', 'war', 'star', 'used', 'given',\n",
              "       'year', 'try', 'father', 'death', 'friends', 'need', 'use', 'rest',\n",
              "       'enjoy', 'home', 'men', 'performances', 'short', 'mind', 'classic',\n",
              "       'until', 'either', 'truly', 'along', 'hollywood', 'boring', 'half',\n",
              "       'dead', 'wrong', 'tell', 'production', 'women', 'line', 'remember',\n",
              "       'couple', 'came', 'next', 'recommend', 'start', 'perhaps', 'full',\n",
              "       'let', 'understand', 'wonderful', 'stupid', 'getting', 'others',\n",
              "       'mean', 'moments', 'playing', 'awful', 'keep', 'episode',\n",
              "       'terrible', 'camera', 'small', 'definitely', 'gives', 'often',\n",
              "       'stars', 'doing', 'sex', 'video', 'early', 'perfect', 'become',\n",
              "       'finally', 'name', 'felt', 'school', 'human', 'supposed', 'face',\n",
              "       'couldnt', 'liked', 'lines', 'dialogue', 'piece', 'person',\n",
              "       'itself', 'lost', 'absolutely', 'top', 'yes', 'case', 'against',\n",
              "       'entire', 'went', 'certainly', 'written', 'live', 'title', 'waste',\n",
              "       'shes', 'sort', 'head', 'budget', 'hope', 'problem', 'style',\n",
              "       'several', 'overall', 'picture', 'loved', 'evil', 'mr', 'worse',\n",
              "       'id', 'fans', 'becomes', 'entertaining', '3', 'cinema', 'boy',\n",
              "       'beginning', 'seemed', 'white', 'based', 'already', 'despite',\n",
              "       'care', 'oh', 'wanted', 'example', 'dark', '\\x96', 'lives', 'guys',\n",
              "       'unfortunately', 'killer', 'throughout', 'mother', 'direction',\n",
              "       'final', 'friend', 'turn', 'totally', 'fine', 'wont', '1', 'wants',\n",
              "       'children', 'amazing', 'sound', 'laugh', 'girls', 'drama', 'youll',\n",
              "       'guess', 'lead', 'tries', 'low', 'called', 'humor', 'writing',\n",
              "       'under', 'michael', 'works', 'history', 'turns', 'able', 'enjoyed',\n",
              "       'theyre', 'behind', 'past', 'quality', 'days', 'gave', 'favorite',\n",
              "       'starts', 'son', 'kill', 'game', 'act', 'sometimes', 'side',\n",
              "       'viewer', 'town', 'horrible', 'parts', 'car', 'actress', 'soon',\n",
              "       'child', 'ones', 'eyes', 'expect', 'obviously', 'flick',\n",
              "       'themselves', 'directed', 'thinking', 'heart', 'art', 'brilliant',\n",
              "       'stories', 'ill', 'decent', 'highly', 'run', 'feeling', 'myself',\n",
              "       'genre', 'late', 'blood', 'stuff', 'fight', 'says', 'close',\n",
              "       'took', 'city', 'except', 'cannot', 'heard', 'hand', 'leave',\n",
              "       'killed', 'kid', 'matter', 'police', 'hell', 'moment', 'wouldnt',\n",
              "       'extremely', 'strong', 'roles', 'happens', 'particularly', 'lack',\n",
              "       'hour', 'involved', 'happened', 'obvious', 'attempt', 'james',\n",
              "       'told', 'living', 'chance', 'violence', 'wonder', 'including',\n",
              "       'etc', 'complete', 'save', 'voice', 'coming', 'murder', 'anyway',\n",
              "       'group', 'daughter', 'looked', 'age', 'please', 'type', 'itbr',\n",
              "       'alone', 'experience', 'simple', 'none', 'god', 'number', 'score',\n",
              "       'exactly', 'slow', 'shown', 'happen', 'ok', 'ago', 'lets',\n",
              "       'interest', 'whose', 'taken', 'brother', 'usually', 'serious',\n",
              "       'david', 'across', 'stop', 'cinematography', 'somewhat', 'running',\n",
              "       'hours', 'annoying', 'sad', 'opening', 'song', 'known', 'ends',\n",
              "       'musical', 'usual', 'possible', 'finds', 'career', 'wish', 'hit',\n",
              "       'yourself', 'released', 'started', 'huge', 'gore', 'relationship',\n",
              "       'seriously', 'scary', 'jokes', 'change', 'saying', 'order', 'crap',\n",
              "       'mostly', 'shots', 'reality', 'ridiculous', 'cut', 'today',\n",
              "       'robert', 'english', 'taking', 'major', 'episodes', 'hilarious',\n",
              "       'novel', 'cool', 'female', 'body', 'talking', 'opinion', '4',\n",
              "       'call', 'apparently', 'directors', 'strange', 'due', 'basically',\n",
              "       '5', 'important', 'hero', 'supporting', 'clearly', 'power',\n",
              "       'knows', 'documentary', 'knew', 'happy', 'events', 'view',\n",
              "       'turned', 'husband', 'songs', 'talent', 'level', 'arent', 'king',\n",
              "       'british', 'room', 'easily', 'tells', 'single', 'local', 'rating',\n",
              "       'attention', 'word', 'moviebr', 'bring', 'words', 'problems',\n",
              "       'cheap', 'whats', 'modern', 'silly', 'television', 'beyond',\n",
              "       'sequence', 'whether', 'disappointed', 'light', 'jack', 'falls',\n",
              "       'sets', 'four', 'future', 'five', 'similar', 'paul', 'miss',\n",
              "       'country', 'needs', 'appears', 'romantic', 'giving', 'upon',\n",
              "       'earth', 'viewers', 'comic', 'richard', 'predictable', 'george',\n",
              "       'talk', 'entertainment', 'within', 'review', 'havent', 'feels',\n",
              "       'nearly', 'mention', 'message', 'enjoyable', 'animation', 'bunch',\n",
              "       'filmbr', 'theater', 'lots', 'lady', 'storyline', 'rock', 'add',\n",
              "       'actual', 'using', 'moving', 'points', 'above', 'middle',\n",
              "       'surprised', 'named', 'theme', 'mystery', 'herself', 'ten', 'dull',\n",
              "       'among', 'begins', 'comments', 'writer', 'ways', 'typical',\n",
              "       'fantastic', 'stay', 'showing', 'sequel', 'york', 'elements',\n",
              "       'easy', 'certain', 'thriller', 'team', 'tried', 'fall', 'effort',\n",
              "       'clear', 'near', 'avoid', 'release', 'hate', 'french', 'tale',\n",
              "       'famous', 'sorry', 'somehow', 'parents', 'means', 'straight',\n",
              "       'leads', 'peter', 'red', 'kept', 'working', 'buy', 'greatest',\n",
              "       'dialog', 'doubt', 'soundtrack', 'form', 'class', 'season',\n",
              "       'editing', 'sister', 'general', 'brought', 'weak', 'tom', 'filmed',\n",
              "       'figure', 'feature', 'oscar', 'hear', 'gone', 'whos', 'particular',\n",
              "       'material', 'check', 'viewing', 'learn', 'realistic', 'imagine',\n",
              "       'eventually', 'youve', 'eye', 'move', 'fast', 'atmosphere',\n",
              "       'reviews', 'decided', 'sequences', 'possibly', 'period', 'forget',\n",
              "       'lame', 'deal', 'third', 'premise', 'lee', 'follow', 'de',\n",
              "       'became', 'space', 'dance', 'wait', 'stand', 'indeed', 'japanese',\n",
              "       'zombie', 'sit', 'difficult', 'poorly', 'sexual', 'expected',\n",
              "       'die', 'whatever', 'writers', 'surprise', 'nor', 'crime', 'nature',\n",
              "       'rent', 'average', '80s', 'suspense', 'leaves', 'subject', 'okay',\n",
              "       'stage', 'killing', 'truth', 'believable', 'screenplay', 'needed',\n",
              "       'filmmakers', 'reading', 'note', 'meets', 'meet', 'dr', 'question',\n",
              "       'begin', 'boys', 'joe', 'romance', 'street', 'realize', 'forced',\n",
              "       'otherwise', 'emotional', 'memorable', 'unless', 'write', 'superb',\n",
              "       'shame', 'older', 'minute', 'interested', 'earlier', 'keeps',\n",
              "       'baby', 'weird', 'situation', 'disney', 'whom', 'footage',\n",
              "       'features', 'dramatic', 'credits', 'beauty', 'towards', 'dog',\n",
              "       'badly', 'ask', 'total', 'previous', 'hot', 'sounds', 'crazy',\n",
              "       'brings', 'comment', 'male', 'plenty', 'personal', 'worked',\n",
              "       'incredibly', 'plus', 'directing', 'society', 'quickly',\n",
              "       'perfectly', 'cheesy', 'admit', 'result', 'unique', 'deep',\n",
              "       'return', 'america', 'laughs', 'free', 'creepy', 'development',\n",
              "       'leading', 'appear', 'meant', 'hardly', 'open', 'brothers', '20',\n",
              "       'imdb', 'hands', 'b', 'apart', 'mark', 'various', 'casting',\n",
              "       'remake', 'effect', 'create', 'setting', 'christmas', 'potential',\n",
              "       'mess', 'bill', 'battle', 'background', 'scifi', 'monster',\n",
              "       'forward', 'powerful', 'portrayed', 'dream', 'inside', 'outside',\n",
              "       '70s', 'fairly', 'business', 'la', 'manages', 'ideas', 'expecting',\n",
              "       'jane', 'fails', 'deserves', 'present', 'political', 'missing',\n",
              "       'attempts', 'twist', 'secret', 'fire', 'dumb', 'unlike',\n",
              "       'fighting', 'fantasy', 'pay', 'air', 'joke'], dtype='<U14')"
            ]
          },
          "metadata": {
            "tags": []
          },
          "execution_count": 9
        }
      ]
    },
    {
      "cell_type": "code",
      "metadata": {
        "colab": {
          "base_uri": "https://localhost:8080/"
        },
        "id": "CczT0NYSpxtY",
        "outputId": "f5af6ebc-e6a6-4385-e5e9-d73e75dd3077"
      },
      "source": [
        "encoded_example = encoder(example)[:3].numpy()\n",
        "encoded_example"
      ],
      "execution_count": 10,
      "outputs": [
        {
          "output_type": "execute_result",
          "data": {
            "text/plain": [
              "array([[  1,  51,  23, ...,   0,   0,   0],\n",
              "       [ 11,  20,   7, ...,   0,   0,   0],\n",
              "       [ 10, 208,  11, ...,   0,   0,   0]])"
            ]
          },
          "metadata": {
            "tags": []
          },
          "execution_count": 10
        }
      ]
    },
    {
      "cell_type": "code",
      "metadata": {
        "colab": {
          "base_uri": "https://localhost:8080/"
        },
        "id": "_Ae1Q9iNp9tF",
        "outputId": "c67e4f33-dac1-4a24-eb1a-f9922f67d070"
      },
      "source": [
        "for n in range(3):\n",
        "  print(\"Original: \", example[n].numpy())\n",
        "  print(\"Round-trip: \", \" \".join(vocab[encoded_example[n]]))\n",
        "  print()"
      ],
      "execution_count": 11,
      "outputs": [
        {
          "output_type": "stream",
          "text": [
            "Original:  b'Evidently when you offer a actor enough money they will do anything. I am not sure how much John Rys-Daves got, but most of the money he made should go to his fans as an apology for even being associated with such a ROTTEN movie. The special effects were worse then effects from the 1950\\'s B movies and the acting of the rest of the cast was even worse. As to how bad the acting was a child gave the second best performance in my opinion. The English was terribly accented and I think no one could really even speak English they just memorized how the words should sound instead of memorizing the script and trying to make their character both \"life-like\" and real.'\n",
            "Round-trip:  [UNK] when you [UNK] a actor enough money they will do anything i am not sure how much john [UNK] got but most of the money he made should go to his fans as an [UNK] for even being [UNK] with such a [UNK] movie the special effects were worse then effects from the [UNK] b movies and the acting of the rest of the cast was even worse as to how bad the acting was a child gave the second best performance in my opinion the english was [UNK] [UNK] and i think no one could really even [UNK] english they just [UNK] how the words should sound instead of [UNK] the script and trying to make their character both [UNK] and real                                                                                                                                                                                                                                                                                                                                                                                                                                                                                                                                                                                                                                                                                                                                                                                                                                                                                       \n",
            "\n",
            "Original:  b'This film is a massive Yawn proving that Americans haven\\'t got the hang of farce. Even when it has already been written for them! The original film \"Hodet Over Vannet\" is a witty comedy of errors that I would rate 8/10. It isn\\'t just about a linguistic translation, but certain absurd chains of events are skipped entirely, robbing the film of its original clever farcical nature and turning it into a cheap \"oops there go my trousers\" style of farce.'\n",
            "Round-trip:  this film is a [UNK] [UNK] [UNK] that [UNK] havent got the [UNK] of [UNK] even when it has already been written for them the original film [UNK] over [UNK] is a [UNK] comedy of [UNK] that i would [UNK] [UNK] it isnt just about a [UNK] [UNK] but certain [UNK] [UNK] of events are [UNK] [UNK] [UNK] the film of its original [UNK] [UNK] nature and [UNK] it into a cheap [UNK] there go my [UNK] style of [UNK]                                                                                                                                                                                                                                                                                                                                                                                                                                                                                                                                                                                                                                                                                                                                                                                                                                                                                                                                   \n",
            "\n",
            "Original:  b\"I saw this film first on my way home from Paris to Newark aboard Air France in August 1996. The film itself I believe is quite a masterpiece. It's the kind of film that people should be making. I still think Daniel Auteuil is one of the sexiest actors around. In this French film, he plays a divorced father and businessman who has lost his zest for life until he across a Down Syndrome man who lives in an institution with other Down Syndrome patients. The actors including the actor who actually has Down Syndrome create a believable friendship and relationship between these two unlikely men. Daniel's life and ours changes forever with the Down Syndrome man. He realizes that life is not just work and not play but for the living and loving and that's what life should be all about. The ending is kind of silly though but I still think it's one of my favorite movies. It's enough to bring a tear to your eye.\"\n",
            "Round-trip:  i saw this film first on my way home from [UNK] to [UNK] [UNK] air [UNK] in [UNK] [UNK] the film itself i believe is quite a [UNK] its the kind of film that people should be making i still think [UNK] [UNK] is one of the [UNK] actors around in this french film he plays a [UNK] father and [UNK] who has lost his [UNK] for life until he across a down [UNK] man who lives in an [UNK] with other down [UNK] [UNK] the actors including the actor who actually has down [UNK] create a believable [UNK] and relationship between these two [UNK] men [UNK] life and [UNK] [UNK] [UNK] with the down [UNK] man he [UNK] that life is not just work and not play but for the living and [UNK] and thats what life should be all about the ending is kind of silly though but i still think its one of my favorite movies its enough to bring a [UNK] to your eye                                                                                                                                                                                                                                                                                                                                                                                                                                                                                                                                                                                                                                                                                                                                                                                                                                           \n",
            "\n"
          ],
          "name": "stdout"
        }
      ]
    },
    {
      "cell_type": "code",
      "metadata": {
        "id": "SJsZOSZV61JE"
      },
      "source": [
        "model = tf.keras.Sequential([\n",
        "         encoder,\n",
        "         tf.keras.layers.Embedding(\n",
        "             input_dim=len(encoder.get_vocabulary()),\n",
        "             output_dim=64,\n",
        "             # masking to handle variable sequence lengths\n",
        "             mask_zero=True),\n",
        "         tf.keras.layers.Bidirectional(tf.keras.layers.LSTM(64)),\n",
        "         tf.keras.layers.Dense(64,activation='relu'),\n",
        "         tf.keras.layers.Dense(1)\n",
        "        ])\n"
      ],
      "execution_count": 12,
      "outputs": []
    },
    {
      "cell_type": "code",
      "metadata": {
        "colab": {
          "base_uri": "https://localhost:8080/"
        },
        "id": "r3RsXIwx8o0v",
        "outputId": "e53b5569-755f-42c2-b533-df676a3d5627"
      },
      "source": [
        "print([layer.supports_masking for layer in model.layers])"
      ],
      "execution_count": 13,
      "outputs": [
        {
          "output_type": "stream",
          "text": [
            "[False, True, True, True, True]\n"
          ],
          "name": "stdout"
        }
      ]
    },
    {
      "cell_type": "code",
      "metadata": {
        "id": "_p9TcRTR9QXv"
      },
      "source": [
        "model.compile(  loss=tf.keras.losses.BinaryCrossentropy(from_logits=True),\n",
        "                optimizer=tf.keras.optimizers.Adam(1e-4),\n",
        "                metrics=['accuracy']\n",
        "              )\n"
      ],
      "execution_count": 14,
      "outputs": []
    },
    {
      "cell_type": "code",
      "metadata": {
        "colab": {
          "base_uri": "https://localhost:8080/"
        },
        "id": "yNT71zFL-RX7",
        "outputId": "6286a61b-6f23-49ef-8a4a-1ee4f9ed85ea"
      },
      "source": [
        "history = model.fit(train_dataset, epochs=10,validation_data=test_dataset,\n",
        "                    validation_steps=30)"
      ],
      "execution_count": 15,
      "outputs": [
        {
          "output_type": "stream",
          "text": [
            "Epoch 1/10\n",
            "391/391 [==============================] - 48s 87ms/step - loss: 0.6439 - accuracy: 0.5590 - val_loss: 0.4551 - val_accuracy: 0.8010\n",
            "Epoch 2/10\n",
            "391/391 [==============================] - 32s 81ms/step - loss: 0.3815 - accuracy: 0.8278 - val_loss: 0.3647 - val_accuracy: 0.8521\n",
            "Epoch 3/10\n",
            "391/391 [==============================] - 33s 83ms/step - loss: 0.3336 - accuracy: 0.8544 - val_loss: 0.3390 - val_accuracy: 0.8396\n",
            "Epoch 4/10\n",
            "391/391 [==============================] - 32s 80ms/step - loss: 0.3190 - accuracy: 0.8607 - val_loss: 0.3248 - val_accuracy: 0.8573\n",
            "Epoch 5/10\n",
            "391/391 [==============================] - 33s 82ms/step - loss: 0.3097 - accuracy: 0.8664 - val_loss: 0.3208 - val_accuracy: 0.8552\n",
            "Epoch 6/10\n",
            "391/391 [==============================] - 32s 81ms/step - loss: 0.3080 - accuracy: 0.8664 - val_loss: 0.3217 - val_accuracy: 0.8552\n",
            "Epoch 7/10\n",
            "391/391 [==============================] - 32s 80ms/step - loss: 0.3043 - accuracy: 0.8687 - val_loss: 0.3224 - val_accuracy: 0.8599\n",
            "Epoch 8/10\n",
            "391/391 [==============================] - 32s 81ms/step - loss: 0.2996 - accuracy: 0.8710 - val_loss: 0.3294 - val_accuracy: 0.8599\n",
            "Epoch 9/10\n",
            "391/391 [==============================] - 32s 80ms/step - loss: 0.2992 - accuracy: 0.8717 - val_loss: 0.3243 - val_accuracy: 0.8625\n",
            "Epoch 10/10\n",
            "391/391 [==============================] - 32s 80ms/step - loss: 0.2988 - accuracy: 0.8718 - val_loss: 0.3308 - val_accuracy: 0.8583\n"
          ],
          "name": "stdout"
        }
      ]
    },
    {
      "cell_type": "code",
      "metadata": {
        "colab": {
          "base_uri": "https://localhost:8080/"
        },
        "id": "DLt9mRJXYsTw",
        "outputId": "76bea4b4-b470-4481-90ca-da440192fe41"
      },
      "source": [
        "test_loss, test_acc = model.evaluate(test_dataset)\n",
        "\n",
        "print('test Loss:', test_loss)\n",
        "print('Test Accuracy:', test_acc)"
      ],
      "execution_count": 16,
      "outputs": [
        {
          "output_type": "stream",
          "text": [
            "391/391 [==============================] - 16s 41ms/step - loss: 0.3270 - accuracy: 0.8546\n",
            "test Loss: 0.327016681432724\n",
            "Test Accuracy: 0.854640007019043\n"
          ],
          "name": "stdout"
        }
      ]
    },
    {
      "cell_type": "code",
      "metadata": {
        "colab": {
          "base_uri": "https://localhost:8080/",
          "height": 406
        },
        "id": "Aq_jUVVzZnCm",
        "outputId": "725858b1-261f-44d7-d38f-429e649d999b"
      },
      "source": [
        "plt.figure(figsize=(16,8))\n",
        "plt.subplot(1,2,1)\n",
        "plot_graphs(history,'accuracy')\n",
        "plt.ylim(None,1)\n",
        "plt.subplot(1,2,2)\n",
        "plot_graphs(history,'loss')\n",
        "plt.ylim(0,None)"
      ],
      "execution_count": 17,
      "outputs": [
        {
          "output_type": "execute_result",
          "data": {
            "text/plain": [
              "(0.0, 0.6612026140093803)"
            ]
          },
          "metadata": {
            "tags": []
          },
          "execution_count": 17
        },
        {
          "output_type": "display_data",
          "data": {
            "image/png": "[encoded data removed]",
            "text/plain": [
              "<Figure size 1152x576 with 2 Axes>"
            ]
          },
          "metadata": {
            "tags": [],
            "needs_background": "light"
          }
        }
      ]
    },
    {
      "cell_type": "code",
      "metadata": {
        "id": "CsAl4INNaUY6"
      },
      "source": [
        "model = tf.keras.Sequential([\n",
        "          encoder,\n",
        "          tf.keras.layers.Embedding(len(encoder.get_vocabulary()),64,mask_zero=True),\n",
        "          tf.keras.layers.Bidirectional(tf.keras.layers.LSTM(64, return_sequences=True)),\n",
        "          tf.keras.layers.Bidirectional(tf.keras.layers.LSTM(32)),\n",
        "          tf.keras.layers.Dense(64,activation='relu'),\n",
        "          tf.keras.layers.Dropout(0.5),\n",
        "          tf.keras.layers.Dense(1)             \n",
        "])"
      ],
      "execution_count": 18,
      "outputs": []
    },
    {
      "cell_type": "code",
      "metadata": {
        "id": "8CHaaRJKbThp"
      },
      "source": [
        "model.compile(loss=tf.keras.losses.BinaryCrossentropy(from_logits=True),\n",
        "              optimizer=tf.keras.optimizers.Adam(1e-4),\n",
        "              metrics=['accuracy'])\n"
      ],
      "execution_count": 19,
      "outputs": []
    },
    {
      "cell_type": "code",
      "metadata": {
        "colab": {
          "base_uri": "https://localhost:8080/"
        },
        "id": "iLw00x9qbDbL",
        "outputId": "762b6f9f-7e6b-4869-eed3-05d4b62316ac"
      },
      "source": [
        "history = model.fit(train_dataset,epochs=10,\n",
        "                    validation_data=test_dataset,\n",
        "                    validation_steps=30\n",
        "                    )"
      ],
      "execution_count": 20,
      "outputs": [
        {
          "output_type": "stream",
          "text": [
            "Epoch 1/10\n",
            "391/391 [==============================] - 73s 146ms/step - loss: 0.6182 - accuracy: 0.5862 - val_loss: 0.4296 - val_accuracy: 0.8099\n",
            "Epoch 2/10\n",
            "391/391 [==============================] - 55s 139ms/step - loss: 0.4018 - accuracy: 0.8266 - val_loss: 0.3528 - val_accuracy: 0.8464\n",
            "Epoch 3/10\n",
            "391/391 [==============================] - 54s 137ms/step - loss: 0.3443 - accuracy: 0.8533 - val_loss: 0.3540 - val_accuracy: 0.8531\n",
            "Epoch 4/10\n",
            "391/391 [==============================] - 54s 138ms/step - loss: 0.3263 - accuracy: 0.8626 - val_loss: 0.3362 - val_accuracy: 0.8365\n",
            "Epoch 5/10\n",
            "391/391 [==============================] - 54s 138ms/step - loss: 0.3178 - accuracy: 0.8653 - val_loss: 0.3209 - val_accuracy: 0.8589\n",
            "Epoch 6/10\n",
            "391/391 [==============================] - 55s 139ms/step - loss: 0.3095 - accuracy: 0.8701 - val_loss: 0.3229 - val_accuracy: 0.8526\n",
            "Epoch 7/10\n",
            "391/391 [==============================] - 56s 141ms/step - loss: 0.3035 - accuracy: 0.8718 - val_loss: 0.3206 - val_accuracy: 0.8521\n",
            "Epoch 8/10\n",
            "391/391 [==============================] - 54s 137ms/step - loss: 0.3073 - accuracy: 0.8685 - val_loss: 0.3227 - val_accuracy: 0.8651\n",
            "Epoch 9/10\n",
            "391/391 [==============================] - 54s 136ms/step - loss: 0.2983 - accuracy: 0.8728 - val_loss: 0.3145 - val_accuracy: 0.8573\n",
            "Epoch 10/10\n",
            "391/391 [==============================] - 54s 138ms/step - loss: 0.3015 - accuracy: 0.8710 - val_loss: 0.3208 - val_accuracy: 0.8490\n"
          ],
          "name": "stdout"
        }
      ]
    }
  ]
}